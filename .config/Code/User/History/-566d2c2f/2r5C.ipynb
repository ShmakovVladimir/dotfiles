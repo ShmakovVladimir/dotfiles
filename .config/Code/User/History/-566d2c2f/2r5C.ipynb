{
 "cells": [
  {
   "cell_type": "code",
   "execution_count": 10,
   "metadata": {},
   "outputs": [],
   "source": [
    "import numpy as np\n",
    "import matplotlib.pyplot as plt \n",
    "import pandas as pd\n",
    "from scipy import signal\n",
    "from scipy import interpolate"
   ]
  },
  {
   "cell_type": "markdown",
   "metadata": {},
   "source": [
    "### Эксперимент 2"
   ]
  },
  {
   "cell_type": "code",
   "execution_count": 102,
   "metadata": {},
   "outputs": [],
   "source": [
    "freq = [420, 600, 700, 800, 900]\n",
    "limits = [(-0.15, 0.3), \n",
    "          (-0.46, -0.1), \n",
    "          (-0.31, 0.1), \n",
    "          (-0.43, -0.05), \n",
    "          (-0.45, -0.10)]\n",
    "scale_x = 10 #мкс\n",
    "s_values = [2, 30, 1, 10, 5]\n",
    "for f, lim, s in zip(freq, limits, s_values):\n",
    "    data = pd.read_csv(f'experiment_2/{f}.csv')\n",
    "    data.x /= scale_x\n",
    "    data = data[(data.x > lim[0])]\n",
    "    data = data[(data.x < lim[1])]\n",
    "    data = data.sort_values(by = 'x')\n",
    "    x, y = data.x.to_numpy(), data.y.to_numpy()\n",
    "    x_line = np.linspace(*lim, 1000)\n",
    "    interpolation = interpolate.UnivariateSpline(x, y, s = s)\n",
    "    peaks_indecies, _ = signal.find_peaks(y, width = 5, distance = 10)\n",
    "    plt.figure(figsize = (12, 5), dpi = 200)\n",
    "    plt.scatter(x[peaks_indecies], y[peaks_indecies])\n",
    "    plt.xticks(np.arange(-0.5, 0.5, 0.05))\n",
    "    plt.xlim(*lim)\n",
    "    plt.scatter(x, y, s=5)\n",
    "    plt.plot(x_line, interpolation(x_line))\n",
    "    plt.grid(ls = ':')\n",
    "    plt.ylim(np.min(y), np.max(y))"
   ]
  }
 ],
 "metadata": {
  "kernelspec": {
   "display_name": "Python 3",
   "language": "python",
   "name": "python3"
  },
  "language_info": {
   "codemirror_mode": {
    "name": "ipython",
    "version": 3
   },
   "file_extension": ".py",
   "mimetype": "text/x-python",
   "name": "python",
   "nbconvert_exporter": "python",
   "pygments_lexer": "ipython3",
   "version": "3.12.2"
  }
 },
 "nbformat": 4,
 "nbformat_minor": 2
}
