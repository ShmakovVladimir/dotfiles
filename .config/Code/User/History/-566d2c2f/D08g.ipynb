{
 "cells": [
  {
   "cell_type": "code",
   "execution_count": 10,
   "metadata": {},
   "outputs": [],
   "source": [
    "import numpy as np\n",
    "import matplotlib.pyplot as plt \n",
    "import pandas as pd\n",
    "from scipy import signal\n",
    "from scipy import interpolate"
   ]
  },
  {
   "cell_type": "markdown",
   "metadata": {},
   "source": [
    "### Эксперимент 2"
   ]
  },
  {
   "cell_type": "code",
   "execution_count": 39,
   "metadata": {},
   "outputs": [
    {
     "name": "stderr",
     "output_type": "stream",
     "text": [
      "<>:2: SyntaxWarning: 'tuple' object is not callable; perhaps you missed a comma?\n",
      "<>:2: SyntaxWarning: 'tuple' object is not callable; perhaps you missed a comma?\n",
      "/tmp/ipykernel_6066/1984133406.py:2: SyntaxWarning: 'tuple' object is not callable; perhaps you missed a comma?\n",
      "  limits = [(-0.15, 0.3), (-0.46, 0) (-0.32, 0.1), (-0.43, -0.05), (-0.45, -0.10)]\n"
     ]
    },
    {
     "ename": "TypeError",
     "evalue": "'tuple' object is not callable",
     "output_type": "error",
     "traceback": [
      "\u001b[0;31m---------------------------------------------------------------------------\u001b[0m",
      "\u001b[0;31mTypeError\u001b[0m                                 Traceback (most recent call last)",
      "Cell \u001b[0;32mIn[39], line 2\u001b[0m\n\u001b[1;32m      1\u001b[0m freq \u001b[38;5;241m=\u001b[39m [\u001b[38;5;241m420\u001b[39m, \u001b[38;5;241m600\u001b[39m, \u001b[38;5;241m700\u001b[39m, \u001b[38;5;241m800\u001b[39m, \u001b[38;5;241m900\u001b[39m]\n\u001b[0;32m----> 2\u001b[0m limits \u001b[38;5;241m=\u001b[39m [(\u001b[38;5;241m-\u001b[39m\u001b[38;5;241m0.15\u001b[39m, \u001b[38;5;241m0.3\u001b[39m), \u001b[43m(\u001b[49m\u001b[38;5;241;43m-\u001b[39;49m\u001b[38;5;241;43m0.46\u001b[39;49m\u001b[43m,\u001b[49m\u001b[43m \u001b[49m\u001b[38;5;241;43m0\u001b[39;49m\u001b[43m)\u001b[49m\u001b[43m \u001b[49m\u001b[43m(\u001b[49m\u001b[38;5;241;43m-\u001b[39;49m\u001b[38;5;241;43m0.32\u001b[39;49m\u001b[43m,\u001b[49m\u001b[43m \u001b[49m\u001b[38;5;241;43m0.1\u001b[39;49m\u001b[43m)\u001b[49m, (\u001b[38;5;241m-\u001b[39m\u001b[38;5;241m0.43\u001b[39m, \u001b[38;5;241m-\u001b[39m\u001b[38;5;241m0.05\u001b[39m), (\u001b[38;5;241m-\u001b[39m\u001b[38;5;241m0.45\u001b[39m, \u001b[38;5;241m-\u001b[39m\u001b[38;5;241m0.10\u001b[39m)]\n\u001b[1;32m      3\u001b[0m scale_x \u001b[38;5;241m=\u001b[39m \u001b[38;5;241m10\u001b[39m \u001b[38;5;66;03m#мкс\u001b[39;00m\n\u001b[1;32m      4\u001b[0m \u001b[38;5;28;01mfor\u001b[39;00m f, lim_left \u001b[38;5;129;01min\u001b[39;00m \u001b[38;5;28mzip\u001b[39m(freq, limits_left):\n",
      "\u001b[0;31mTypeError\u001b[0m: 'tuple' object is not callable"
     ]
    }
   ],
   "source": [
    "freq = [420, 600, 700, 800, 900]\n",
    "limits = [(-0.15, 0.3), (-0.46, 0) (-0.32, 0.1), (-0.43, -0.05), (-0.45, -0.10)]\n",
    "scale_x = 10 #мкс\n",
    "for f, lim_left in zip(freq, limits_left):\n",
    "    data = pd.read_csv(f'experiment_2/{f}.csv')\n",
    "    data.x /= scale_x\n",
    "    data = data.sort_values(by = 'x')\n",
    "    \n",
    "    x_line = np.linspace(np.min(data.x), np.max(data.x), 1000)\n",
    "    plt.figure(figsize = (12, 5), dpi = 200)\n",
    "    plt.xticks(np.arange(-0.5, 0.5, 0.05))\n",
    "    plt.xlim(lim_left, np.max(data.x))\n",
    "    plt.plot(data.x, data.y)\n",
    "    plt.grid(ls = ':')"
   ]
  }
 ],
 "metadata": {
  "kernelspec": {
   "display_name": "Python 3",
   "language": "python",
   "name": "python3"
  },
  "language_info": {
   "codemirror_mode": {
    "name": "ipython",
    "version": 3
   },
   "file_extension": ".py",
   "mimetype": "text/x-python",
   "name": "python",
   "nbconvert_exporter": "python",
   "pygments_lexer": "ipython3",
   "version": "3.12.2"
  }
 },
 "nbformat": 4,
 "nbformat_minor": 2
}
