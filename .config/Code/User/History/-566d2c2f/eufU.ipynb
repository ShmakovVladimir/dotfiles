{
 "cells": [
  {
   "cell_type": "code",
   "execution_count": 10,
   "metadata": {},
   "outputs": [],
   "source": [
    "import numpy as np\n",
    "import matplotlib.pyplot as plt \n",
    "import pandas as pd\n",
    "from scipy import signal\n",
    "from scipy import interpolate"
   ]
  },
  {
   "cell_type": "markdown",
   "metadata": {},
   "source": [
    "### Эксперимент 2"
   ]
  },
  {
   "cell_type": "code",
   "execution_count": 42,
   "metadata": {},
   "outputs": [],
   "source": [
    "freq = [420, 600, 700, 800, 900]\n",
    "limits = [(-0.15, 0.3), (-0.46, 0), (-0.32, 0.1), (-0.43, -0.05), (-0.45, -0.10)]\n",
    "scale_x = 10 #мкс\n",
    "for f, lim in zip(freq, limits):\n",
    "    data = pd.read_csv(f'experiment_2/{f}.csv')\n",
    "    data.x /= scale_x\n",
    "    data = data.sort_values(by = 'x')\n",
    "    peaks_indecies, _ = signal.find_peaks(data.y, distance = 10)\n",
    "    plt.figure(figsize = (12, 5), dpi = 200)\n",
    "    plt.scatter(data.x[peaks_indecies], data.y[peaks_indecies])\n",
    "    plt.xticks(np.arange(-0.5, 0.5, 0.05))\n",
    "    plt.xlim(*lim)\n",
    "    plt.plot(data.x, data.y)\n",
    "    plt.grid(ls = ':')"
   ]
  }
 ],
 "metadata": {
  "kernelspec": {
   "display_name": "Python 3",
   "language": "python",
   "name": "python3"
  },
  "language_info": {
   "codemirror_mode": {
    "name": "ipython",
    "version": 3
   },
   "file_extension": ".py",
   "mimetype": "text/x-python",
   "name": "python",
   "nbconvert_exporter": "python",
   "pygments_lexer": "ipython3",
   "version": "3.12.2"
  }
 },
 "nbformat": 4,
 "nbformat_minor": 2
}
