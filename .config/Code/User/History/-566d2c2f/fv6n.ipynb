{
 "cells": [
  {
   "cell_type": "code",
   "execution_count": 10,
   "metadata": {},
   "outputs": [],
   "source": [
    "import numpy as np\n",
    "import matplotlib.pyplot as plt \n",
    "import pandas as pd\n",
    "from scipy import signal\n",
    "from scipy import interpolate"
   ]
  },
  {
   "cell_type": "markdown",
   "metadata": {},
   "source": [
    "### Эксперимент 2"
   ]
  },
  {
   "cell_type": "code",
   "execution_count": 37,
   "metadata": {},
   "outputs": [],
   "source": [
    "freq = [420, 600, 700, 800, 900]\n",
    "limits_left = [-0.15, -0.46, -0.32, -0.43, -0.45]\n",
    "scale_x = 10 #мкс\n",
    "for f, lim_left in zip(freq, limits_left):\n",
    "    data = pd.read_csv(f'experiment_2/{f}.csv')\n",
    "    data.x /= scale_x\n",
    "    data = data.sort_values(by = 'x')\n",
    "    \n",
    "    x_line = np.linspace(np.min(data.x), np.max(data.x), 1000)\n",
    "    plt.figure(figsize = (12, 5), dpi = 200)\n",
    "    plt.xticks(np.arange(-0.5, 0.5, 0.05))\n",
    "    plt.xlim(lim_left, np.max(data.x))\n",
    "    plt.plot(data.x, data.y)"
   ]
  }
 ],
 "metadata": {
  "kernelspec": {
   "display_name": "Python 3",
   "language": "python",
   "name": "python3"
  },
  "language_info": {
   "codemirror_mode": {
    "name": "ipython",
    "version": 3
   },
   "file_extension": ".py",
   "mimetype": "text/x-python",
   "name": "python",
   "nbconvert_exporter": "python",
   "pygments_lexer": "ipython3",
   "version": "3.12.2"
  }
 },
 "nbformat": 4,
 "nbformat_minor": 2
}
