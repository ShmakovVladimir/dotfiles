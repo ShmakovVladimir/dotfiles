{
 "cells": [
  {
   "cell_type": "code",
   "execution_count": 2,
   "metadata": {},
   "outputs": [],
   "source": [
    "import numpy as np\n",
    "import matplotlib.pyplot as plt \n",
    "import pandas as pd\n",
    "from scipy import signal\n",
    "from scipy import interpolate\n",
    "from scipy import fft\n",
    "from scipy import optimize\n",
    "import scipy.stats as sts"
   ]
  },
  {
   "cell_type": "markdown",
   "metadata": {},
   "source": [
    "### Эксперимент 2"
   ]
  },
  {
   "cell_type": "code",
   "execution_count": 3,
   "metadata": {},
   "outputs": [],
   "source": [
    "def plot_signal(x, y, plotable, s, lim) -> np.ndarray:\n",
    "    \"\"\"_summary_\n",
    "\n",
    "    Args:\n",
    "        data_x (_type_): _description_\n",
    "        data_y (_type_): _description_\n",
    "        plotable (_type_): _description_\n",
    "        s (_type_): _description_\n",
    "\n",
    "    Returns:\n",
    "        np.ndarray: координаты пиков для интерполяции\n",
    "        np.ndarray: интерполянд\n",
    "        x_line\n",
    "    \"\"\"\n",
    "    x_line = np.linspace(*lim, 1000)\n",
    "    interpolation = interpolate.UnivariateSpline(x, y, s = s)\n",
    "    peaks_indecies, _ = signal.find_peaks(interpolation(x_line), \n",
    "                                          width = 10, \n",
    "                                          distance = 100,\n",
    "                                          height = 0.2)\n",
    "    \n",
    "    plotable.set_xticks(np.arange(-0.5, 0.5, 0.05))\n",
    "    plotable.set_xlim(*lim)\n",
    "    plotable.plot(x_line, interpolation(x_line))\n",
    "    plotable.grid(ls = ':')\n",
    "    plotable.set_ylim(np.min(y) - 0.4, np.max(y) + 0.7)\n",
    "    plotable.scatter(x_line[peaks_indecies], \n",
    "                interpolation(x_line)[peaks_indecies],\n",
    "                s = 40,\n",
    "                color = 'red',\n",
    "                edgecolors='black')\n",
    "    \n",
    "    return peaks_indecies, interpolation(x_line), x_line\n",
    "def plot_forieer(x_line, ax_forier, interpolation):\n",
    "    fft_freq = fft.fftfreq(n = len(x_line), d = (x_line[11] - x_line[10]))\n",
    "    amps = np.abs(fft.fft(interpolation))\n",
    "    mask = (fft_freq > 0) * (fft_freq < 1000)\n",
    "    ax_forier.plot(fft_freq[mask], amps[mask])\n",
    "    ax_forier.set_xlim(0, 100)\n",
    "    nu_max = fft_freq[mask][np.argmax(amps[mask])] #МГц\n",
    "    ax_forier.axvline(x = nu_max,\n",
    "                      label = f\"f = {nu_max:.3f} МГц\\nv = {2 * 2.9 * nu_max * 1e-2:.3f} см/c\",\n",
    "                      color = 'black',\n",
    "                      linestyle = '--')\n",
    "    ax_forier.legend(fontsize = 12)\n",
    "    return nu_max"
   ]
  },
  {
   "cell_type": "markdown",
   "metadata": {},
   "source": [
    "fft_freq = fft.fftfreq(n = len(x_line), d = (x_line[11] - x_line[10]))\n",
    "    amps = np.abs(fft.fft(interpolation))\n",
    "    mask = (fft_freq > 0) * (fft_freq < 100)\n",
    "    ax_forier.plot(fft_freq[mask], amps[mask])"
   ]
  },
  {
   "cell_type": "code",
   "execution_count": 11,
   "metadata": {},
   "outputs": [],
   "source": [
    "freq = [420, 600, 700, 800, 900]\n",
    "limits = [(-0.15, 0.3), \n",
    "          (-0.4, -0), \n",
    "          (-0.27, 0.1), \n",
    "          (-0.43, -0.05), \n",
    "          (-0.34, 0)]\n",
    "alpha = []\n",
    "scale_x = 10 #мкс\n",
    "s_values = [2, 30, 0.5, 12, 5]\n",
    "for f, lim, s in zip(freq, limits, s_values):\n",
    "    fig = plt.figure(figsize=(10, 5), dpi = 200)\n",
    "    ax_signal = fig.add_subplot(2, 2, 1)\n",
    "    ax_forier = fig.add_subplot(2, 2, 3)\n",
    "    ax_loglog = fig.add_subplot(1, 2, 2)\n",
    "    data = pd.read_csv(f'experiment_2/{f}.csv')\n",
    "    data.x /= scale_x\n",
    "    data.y += np.abs(np.min(data.y))\n",
    "    data = data[(data.x > lim[0])]\n",
    "    data = data[(data.x < lim[1])]\n",
    "    data = data.sort_values(by = 'x')\n",
    "    x, y = data.x.to_numpy(), data.y.to_numpy()\n",
    "\n",
    "    peaks_indecies, interpolation, x_line = plot_signal(x, y, ax_signal, s, lim)\n",
    "    nu_max = plot_forieer(x_line, ax_forier, interpolation)\n",
    "    peaks_x, peaks_y_log = x_line[peaks_indecies], np.log(interpolation[peaks_indecies])\n",
    "    MNK = sts.linregress(x = peaks_x, y = peaks_y_log)\n",
    "    print(-MNK.slope/(2 * 2.9 * nu_max))\n",
    "    ax_loglog.plot(x_line, \n",
    "                   MNK.slope * x_line + MNK.intercept, \n",
    "                   label = f'$b + at, a = {MNK.slope:.2f}$' + '  $10^{-6} / сек$\\n' + r\"$\\alpha = \" + f\"{-MNK.slope/(2 * 2.9 * nu_max):.2f} $\" + \" $см^{-1}$\")\n",
    "    ax_loglog.scatter(x_line[peaks_indecies], peaks_y_log, color = 'red', edgecolors='black')\n",
    "    ax_loglog.legend()\n",
    "    alpha.append(-MNK.slope/(2 * 2.9 * nu_max))\n",
    "    fig.suptitle(r\"$\\nu = \" + f\"{f}$ МГЦ\", fontsize = 16)\n"
   ]
  },
  {
   "cell_type": "code",
   "execution_count": 9,
   "metadata": {},
   "outputs": [
    {
     "data": {
      "image/png": "[encoded data removed]",
      "text/plain": [
       "<Figure size 640x480 with 1 Axes>"
      ]
     },
     "metadata": {},
     "output_type": "display_data"
    }
   ],
   "source": [
    "plt.scatter(freq, alpha)\n",
    "plt.xscale('log')\n",
    "plt.yscale('log')"
   ]
  }
 ],
 "metadata": {
  "kernelspec": {
   "display_name": "Python 3",
   "language": "python",
   "name": "python3"
  },
  "language_info": {
   "codemirror_mode": {
    "name": "ipython",
    "version": 3
   },
   "file_extension": ".py",
   "mimetype": "text/x-python",
   "name": "python",
   "nbconvert_exporter": "python",
   "pygments_lexer": "ipython3",
   "version": "3.12.2"
  }
 },
 "nbformat": 4,
 "nbformat_minor": 2
}
