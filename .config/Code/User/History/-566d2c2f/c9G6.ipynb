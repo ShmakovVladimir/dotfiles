{
 "cells": [
  {
   "cell_type": "code",
   "execution_count": 10,
   "metadata": {},
   "outputs": [],
   "source": [
    "import numpy as np\n",
    "import matplotlib.pyplot as plt \n",
    "import pandas as pd\n",
    "from scipy import signal\n",
    "from scipy import interpolate"
   ]
  },
  {
   "cell_type": "markdown",
   "metadata": {},
   "source": [
    "### Эксперимент 2"
   ]
  },
  {
   "cell_type": "code",
   "execution_count": 45,
   "metadata": {},
   "outputs": [
    {
     "ename": "TypeError",
     "evalue": "find_peaks_cwt() got an unexpected keyword argument 'distance'",
     "output_type": "error",
     "traceback": [
      "\u001b[0;31m---------------------------------------------------------------------------\u001b[0m",
      "\u001b[0;31mTypeError\u001b[0m                                 Traceback (most recent call last)",
      "Cell \u001b[0;32mIn[45], line 8\u001b[0m\n\u001b[1;32m      6\u001b[0m data\u001b[38;5;241m.\u001b[39mx \u001b[38;5;241m/\u001b[39m\u001b[38;5;241m=\u001b[39m scale_x\n\u001b[1;32m      7\u001b[0m data \u001b[38;5;241m=\u001b[39m data\u001b[38;5;241m.\u001b[39msort_values(by \u001b[38;5;241m=\u001b[39m \u001b[38;5;124m'\u001b[39m\u001b[38;5;124mx\u001b[39m\u001b[38;5;124m'\u001b[39m)\n\u001b[0;32m----> 8\u001b[0m peaks_indecies, _ \u001b[38;5;241m=\u001b[39m \u001b[43msignal\u001b[49m\u001b[38;5;241;43m.\u001b[39;49m\u001b[43mfind_peaks_cwt\u001b[49m\u001b[43m(\u001b[49m\u001b[43mdata\u001b[49m\u001b[38;5;241;43m.\u001b[39;49m\u001b[43my\u001b[49m\u001b[43m,\u001b[49m\u001b[43m \u001b[49m\u001b[43mdistance\u001b[49m\u001b[43m \u001b[49m\u001b[38;5;241;43m=\u001b[39;49m\u001b[43m \u001b[49m\u001b[38;5;241;43m15\u001b[39;49m\u001b[43m)\u001b[49m\n\u001b[1;32m      9\u001b[0m plt\u001b[38;5;241m.\u001b[39mfigure(figsize \u001b[38;5;241m=\u001b[39m (\u001b[38;5;241m12\u001b[39m, \u001b[38;5;241m5\u001b[39m), dpi \u001b[38;5;241m=\u001b[39m \u001b[38;5;241m200\u001b[39m)\n\u001b[1;32m     10\u001b[0m plt\u001b[38;5;241m.\u001b[39mscatter(data\u001b[38;5;241m.\u001b[39mx[peaks_indecies], data\u001b[38;5;241m.\u001b[39my[peaks_indecies])\n",
      "\u001b[0;31mTypeError\u001b[0m: find_peaks_cwt() got an unexpected keyword argument 'distance'"
     ]
    }
   ],
   "source": [
    "freq = [420, 600, 700, 800, 900]\n",
    "limits = [(-0.15, 0.3), (-0.46, 0), (-0.32, 0.1), (-0.43, -0.05), (-0.45, -0.10)]\n",
    "scale_x = 10 #мкс\n",
    "for f, lim in zip(freq, limits):\n",
    "    data = pd.read_csv(f'experiment_2/{f}.csv')\n",
    "    data.x /= scale_x\n",
    "    data = data.sort_values(by = 'x')\n",
    "    peaks_indecies, _ = signal.find_peaks_cwt(data.y, distance = 15)\n",
    "    plt.figure(figsize = (12, 5), dpi = 200)\n",
    "    plt.scatter(data.x[peaks_indecies], data.y[peaks_indecies])\n",
    "    plt.xticks(np.arange(-0.5, 0.5, 0.05))\n",
    "    plt.xlim(*lim)\n",
    "    plt.plot(data.x, data.y)\n",
    "    plt.grid(ls = ':')"
   ]
  }
 ],
 "metadata": {
  "kernelspec": {
   "display_name": "Python 3",
   "language": "python",
   "name": "python3"
  },
  "language_info": {
   "codemirror_mode": {
    "name": "ipython",
    "version": 3
   },
   "file_extension": ".py",
   "mimetype": "text/x-python",
   "name": "python",
   "nbconvert_exporter": "python",
   "pygments_lexer": "ipython3",
   "version": "3.12.2"
  }
 },
 "nbformat": 4,
 "nbformat_minor": 2
}
