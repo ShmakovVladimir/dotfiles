{
 "cells": [
  {
   "cell_type": "markdown",
   "id": "c5c5ab29-fecd-490b-9e71-4c6cb6d5203d",
   "metadata": {},
   "source": [
    "## Задача 2"
   ]
  },
  {
   "cell_type": "code",
   "execution_count": 13,
   "id": "2aa43d88-cbe4-4afc-8489-e7556e0928bd",
   "metadata": {},
   "outputs": [
    {
     "name": "stdout",
     "output_type": "stream",
     "text": [
      "0.577215664900628\n"
     ]
    }
   ],
   "source": [
    "import numpy as np\n",
    "m = 7\n",
    "def I(l, m):\n",
    "    res = 0\n",
    "    for k in range(l+1):\n",
    "            res+=W(2*m-k, m)\n",
    "    return res\n",
    "\n",
    "def a(j):\n",
    "    if j == 1:\n",
    "        return 1\n",
    "    return 1/j - np.log(j) + np.log(j-1)\n",
    "\n",
    "jm = 50\n",
    "s1 = 0\n",
    "s2 = 0\n",
    "\n",
    "for j in range(1, jm-m+1):\n",
    "    s1+=a(j)\n",
    "    \n",
    "for j in range(jm-m+1, jm+m+1):\n",
    "    s2+=(1-I(j+m-jm-1, m))*a(j)\n",
    "    \n",
    "    \n",
    "Integ, _ = integrate.quad(a, jm+0.5, np.inf, limit =10000, epsrel = 1e-25)\n",
    "\n",
    "result=s1+s2+Integ\n",
    "print(result)"
   ]
  },
  {
   "cell_type": "markdown",
   "id": "45e53b81-90a6-4f66-b1b6-99139636a33b",
   "metadata": {},
   "source": [
    "## Задача 3\n",
    "\n",
    "\n",
    "Вычислить сумму ряда\n",
    "$$\n",
    "\\sum_{n=1}^{\\infty} \\frac{n^2+1}{n^4+n^2+1} \\operatorname{сos}(2 n)\n",
    "$$\n",
    "\n",
    "с точностью $\\varepsilon=10^{-6}$, применяя метод Куммера."
   ]
  },
  {
   "cell_type": "markdown",
   "id": "9270189c-cbd9-45cb-a9b7-6f25e7a87d89",
   "metadata": {},
   "source": [
    "Определим количество членов, необходимое для обеспечения требуемой точности $\\varepsilon=10^{-6}$.\n",
    "$$\n",
    "\\begin{aligned}\n",
    "& \\left|R_k\\right|=\\sum_{n=k+1}^{\\infty}\\left|\\frac{n^2+1}{n^4+n^2+1} \\operatorname{Cos}(2 n)\\right| \\leq \\sum_{n=k+1}^{\\infty} \\frac{n^2+1}{n^4+n^2+1}<\\sum_{n=k+1}^{\\infty} \\frac{n^2+1}{n^2\\left(n^2+1\\right)}=\\sum_{n=k+1}^{\\infty} \\frac{1}{n^2}< \\\\\n",
    "& <\\int_{k+1}^{\\infty} \\frac{d x}{x^2}=\\frac{1}{k+1}<10^{-6}\n",
    "\\end{aligned}\n",
    "$$\n",
    "\n",
    "Следовательно\n",
    "$$\n",
    "\\mathrm{k}+1>10^{-6}, \\quad \\mathrm{k}>10^{-6}-1 .\n",
    "$$\n",
    "\n",
    "\n",
    "\n",
    "Теперь воспользуемся вспомогательным рядом из таблицы\n",
    "$$\n",
    "\\sum_{n=1}^{\\infty} \\frac{\\operatorname{cos}(n x)}{n^2}=\\frac{\\pi^2}{6}-\\frac{\\pi x}{12}+\\frac{x^2}{4} \\text { при } \\mathrm{x}=2\n",
    "$$\n",
    "\n",
    "имеем\n",
    "$$\n",
    "\\sum_{n=1}^{\\infty} \\frac{\\operatorname{cos}(2 n)}{n^2}=\\frac{\\pi^2}{6}-\\frac{\\pi}{6}+1 .\n",
    "$$\n",
    "\n",
    "Находим\n",
    "$$\n",
    "\\gamma=\\lim _{n \\rightarrow \\infty} \\frac{a_n}{b_n}=\\lim _{n \\rightarrow \\infty} \\frac{\\left(n^2+1\\right) \\operatorname{cos} 2 n \\cdot n^2}{\\left(n^4+n^2+1\\right) \\cdot \\operatorname{cos} 2 n}=1\n",
    "$$\n",
    "\n",
    "Отсюда\n",
    "$$\n",
    "\\begin{aligned}\n",
    "& S=\\sum_{n=1}^{\\infty} \\frac{n^2}{n^4+n^2+1} \\cdot \\operatorname{cos} 2 n=\\frac{\\pi^2}{6}-\\frac{\\pi}{6}+1+\\sum_{n=1}^{\\infty}\\left(\\frac{n^2}{n^4+n^2+1}-\\frac{1}{n^2}\\right) \\cdot \\operatorname{cos} 2 n= \\\\\n",
    "& =\\frac{\\pi^2}{6}-\\frac{\\pi}{6}+1-\\sum_{n=1}^{\\infty} \\frac{\\operatorname{cos} 2 n}{n^2\\left(n^4+n^2+1\\right)} .\n",
    "\\end{aligned}\n",
    "$$\n",
    "\n",
    "Определим количество членов полученного ряда, необходимое для обеспечения точности $\\varepsilon$.\n",
    "$$\n",
    "\\left|R_k\\right|=\\left|\\sum_{x=k+1}^{\\infty} \\frac{\\operatorname{cos} 2 n}{n^2\\left(n^4+n^2+1\\right)}\\right| \\leq \\sum_{n=k+1}^{\\infty} \\frac{1}{n^2\\left(n^4+n^2+1\\right)}<=\\sum_{n=k+1}^{\\infty} \\frac{1}{n^6}<\\int_{k+1}^{\\infty} \\frac{d x}{x^6}=\\frac{1}{5(k+1)^5}<10^{-6} .\n",
    "$$\n",
    "\n",
    "Откуда находим, что искомая точность достигается при $\\mathrm{k} \\geq 10$ слагаемых."
   ]
  },
  {
   "cell_type": "code",
   "execution_count": 5,
   "id": "70eb3922",
   "metadata": {},
   "outputs": [
    {
     "name": "stdout",
     "output_type": "stream",
     "text": [
      "2.2667284926401114\n"
     ]
    }
   ],
   "source": [
    "def kummer(k):\n",
    "    \"\"\"Вычисление ряда (n^2 + 1) * cos(..) методом Куммера\n",
    "\n",
    "    Args:\n",
    "        k (_type_): _description_\n",
    "\n",
    "    Returns:\n",
    "        _type_: _description_\n",
    "    \"\"\"\n",
    "    n = np.arange(k) + 1\n",
    "    sum_part = np.sum(1 /((n**2) * (n**4 + n**2 + 1)) * np.cos(2 * n))\n",
    "    return np.pi**2 / 6 - np.pi / 6 + 1 - sum_part\n",
    "print(kummer(20))"
   ]
  },
  {
   "cell_type": "markdown",
   "id": "ebe316c6-f791-4b02-9c9a-4db51d1664c3",
   "metadata": {},
   "source": [
    "## Задача 4"
   ]
  },
  {
   "cell_type": "code",
   "execution_count": 36,
   "id": "dcb6ce56-6696-4751-962b-1f6dc0529c28",
   "metadata": {},
   "outputs": [
    {
     "name": "stdout",
     "output_type": "stream",
     "text": [
      "0.5000121573929865\n"
     ]
    }
   ],
   "source": [
    "N = 10\n",
    "m = 23\n",
    "dx = 1e-5\n",
    "\n",
    "def f1(x):\n",
    "    return (np.cosh(np.sqrt(np.abs(x)))-1)/x\n",
    "\n",
    "def y1(j):\n",
    "    if j>0:\n",
    "          return f1((j*2-1)/2*dx)\n",
    "    return f1(dx/2*(2*k+1))\n",
    "\n",
    "res1 = 0\n",
    "for n in range(N+1):\n",
    "    for k in range(2*m + n % 2 +1 ):\n",
    "        res1+= A(k, n, int(m -(n - (n%2))/2))*(-1)**n/(4**n*factorial(n))* y1(2*m + n%2-2*k)\n",
    "        \n",
    "print(res1)"
   ]
  },
  {
   "cell_type": "code",
   "execution_count": 38,
   "id": "32410bdc-5529-436c-915a-62c5c6791457",
   "metadata": {},
   "outputs": [
    {
     "name": "stdout",
     "output_type": "stream",
     "text": [
      "-0.49999337305226277\n"
     ]
    }
   ],
   "source": [
    "def f2(x):\n",
    "    return (np.cos(np.sqrt(np.abs(x)))-1)/x\n",
    "\n",
    "def y2(j):\n",
    "    if j<0:\n",
    "          return f2((-j*2-1)/2*dx)\n",
    "    return f2(dx/2*(2*k+1))\n",
    "\n",
    "res2 = 0\n",
    "for n in range(N+1):\n",
    "    for k in range(2*m + n % 2 + 1):\n",
    "        res2+= A(k, n, int(m -(n - (n%2))/2))*(-1)**n/(4**n*factorial(n))* y2(2*m + n%2-2*k)\n",
    "\n",
    "print(res2)"
   ]
  },
  {
   "cell_type": "code",
   "execution_count": null,
   "id": "83f8462d-39db-4491-a6f5-acab1bfba2fc",
   "metadata": {},
   "outputs": [],
   "source": []
  }
 ],
 "metadata": {
  "kernelspec": {
   "display_name": "Python 3 (ipykernel)",
   "language": "python",
   "name": "python3"
  },
  "language_info": {
   "codemirror_mode": {
    "name": "ipython",
    "version": 3
   },
   "file_extension": ".py",
   "mimetype": "text/x-python",
   "name": "python",
   "nbconvert_exporter": "python",
   "pygments_lexer": "ipython3",
   "version": "3.12.2"
  }
 },
 "nbformat": 4,
 "nbformat_minor": 5
}
