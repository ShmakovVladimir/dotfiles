{
 "cells": [
  {
   "cell_type": "markdown",
   "id": "0cf7c494-0491-45fe-b7dd-82ae25654c09",
   "metadata": {},
   "source": [
    "## №1"
   ]
  },
  {
   "cell_type": "code",
   "execution_count": 39,
   "id": "3fc66d68-f05f-4944-88a4-71fd65abddf7",
   "metadata": {},
   "outputs": [
    {
     "ename": "KeyboardInterrupt",
     "evalue": "",
     "output_type": "error",
     "traceback": [
      "\u001b[1;31m---------------------------------------------------------------------------\u001b[0m",
      "\u001b[1;31mKeyboardInterrupt\u001b[0m                         Traceback (most recent call last)",
      "Cell \u001b[1;32mIn[39], line 49\u001b[0m\n\u001b[0;32m     46\u001b[0m             res\u001b[38;5;241m+\u001b[39m\u001b[38;5;241m=\u001b[39mW(m\u001b[38;5;241m-\u001b[39mk, m)\u001b[38;5;241m*\u001b[39mf(\u001b[38;5;241m-\u001b[39m\u001b[38;5;241m1\u001b[39m\u001b[38;5;241m+\u001b[39mh\u001b[38;5;241m*\u001b[39m(j\u001b[38;5;241m+\u001b[39mk)\u001b[38;5;241m+\u001b[39mh\u001b[38;5;241m/\u001b[39m\u001b[38;5;241m2\u001b[39m)\u001b[38;5;241m*\u001b[39mh\n\u001b[0;32m     47\u001b[0m     \u001b[38;5;28;01mreturn\u001b[39;00m res\n\u001b[1;32m---> 49\u001b[0m \u001b[38;5;28mprint\u001b[39m(\u001b[43mI\u001b[49m\u001b[43m(\u001b[49m\u001b[43mh\u001b[49m\u001b[43m,\u001b[49m\u001b[43mJ\u001b[49m\u001b[43m)\u001b[49m)\n\u001b[0;32m     50\u001b[0m \u001b[38;5;28mprint\u001b[39m()\n\u001b[0;32m     52\u001b[0m \u001b[38;5;28;01mfrom\u001b[39;00m \u001b[38;5;21;01mscipy\u001b[39;00m \u001b[38;5;28;01mimport\u001b[39;00m integrate\n",
      "Cell \u001b[1;32mIn[39], line 46\u001b[0m, in \u001b[0;36mI\u001b[1;34m(h, J)\u001b[0m\n\u001b[0;32m     44\u001b[0m \u001b[38;5;28;01mfor\u001b[39;00m j \u001b[38;5;129;01min\u001b[39;00m \u001b[38;5;28mrange\u001b[39m(J):\n\u001b[0;32m     45\u001b[0m     \u001b[38;5;28;01mfor\u001b[39;00m k \u001b[38;5;129;01min\u001b[39;00m \u001b[38;5;28mrange\u001b[39m(\u001b[38;5;241m-\u001b[39mm, m\u001b[38;5;241m+\u001b[39m\u001b[38;5;241m1\u001b[39m, \u001b[38;5;241m1\u001b[39m):\n\u001b[1;32m---> 46\u001b[0m         res\u001b[38;5;241m+\u001b[39m\u001b[38;5;241m=\u001b[39m\u001b[43mW\u001b[49m\u001b[43m(\u001b[49m\u001b[43mm\u001b[49m\u001b[38;5;241;43m-\u001b[39;49m\u001b[43mk\u001b[49m\u001b[43m,\u001b[49m\u001b[43m \u001b[49m\u001b[43mm\u001b[49m\u001b[43m)\u001b[49m\u001b[38;5;241m*\u001b[39mf(\u001b[38;5;241m-\u001b[39m\u001b[38;5;241m1\u001b[39m\u001b[38;5;241m+\u001b[39mh\u001b[38;5;241m*\u001b[39m(j\u001b[38;5;241m+\u001b[39mk)\u001b[38;5;241m+\u001b[39mh\u001b[38;5;241m/\u001b[39m\u001b[38;5;241m2\u001b[39m)\u001b[38;5;241m*\u001b[39mh\n\u001b[0;32m     47\u001b[0m \u001b[38;5;28;01mreturn\u001b[39;00m res\n",
      "Cell \u001b[1;32mIn[39], line 16\u001b[0m, in \u001b[0;36mW\u001b[1;34m(k, m)\u001b[0m\n\u001b[0;32m     14\u001b[0m r \u001b[38;5;241m=\u001b[39m \u001b[38;5;241m0\u001b[39m\n\u001b[0;32m     15\u001b[0m \u001b[38;5;28;01mfor\u001b[39;00m n \u001b[38;5;129;01min\u001b[39;00m \u001b[38;5;28mrange\u001b[39m(m\u001b[38;5;241m+\u001b[39m\u001b[38;5;241m1\u001b[39m):\n\u001b[1;32m---> 16\u001b[0m     r\u001b[38;5;241m+\u001b[39m\u001b[38;5;241m=\u001b[39m \u001b[43mA\u001b[49m\u001b[43m(\u001b[49m\u001b[43mk\u001b[49m\u001b[43m,\u001b[49m\u001b[43m \u001b[49m\u001b[38;5;241;43m2\u001b[39;49m\u001b[38;5;241;43m*\u001b[39;49m\u001b[43mn\u001b[49m\u001b[43m,\u001b[49m\u001b[43m \u001b[49m\u001b[43mm\u001b[49m\u001b[38;5;241;43m-\u001b[39;49m\u001b[43mn\u001b[49m\u001b[43m)\u001b[49m\u001b[38;5;241m/\u001b[39m(\u001b[38;5;241m2\u001b[39m\u001b[38;5;241m*\u001b[39m\u001b[38;5;241m*\u001b[39m(\u001b[38;5;241m2\u001b[39m\u001b[38;5;241m*\u001b[39mn)\u001b[38;5;241m*\u001b[39mfactorial(\u001b[38;5;241m2\u001b[39m\u001b[38;5;241m*\u001b[39mn\u001b[38;5;241m+\u001b[39m\u001b[38;5;241m1\u001b[39m))\n\u001b[0;32m     17\u001b[0m \u001b[38;5;28;01mreturn\u001b[39;00m r\n",
      "Cell \u001b[1;32mIn[39], line 22\u001b[0m, in \u001b[0;36mA\u001b[1;34m(k, n, m)\u001b[0m\n\u001b[0;32m     20\u001b[0m r \u001b[38;5;241m=\u001b[39m \u001b[38;5;241m0\u001b[39m \n\u001b[0;32m     21\u001b[0m \u001b[38;5;28;01mfor\u001b[39;00m l \u001b[38;5;129;01min\u001b[39;00m \u001b[38;5;28mrange\u001b[39m(m\u001b[38;5;241m+\u001b[39m\u001b[38;5;241m1\u001b[39m):\n\u001b[1;32m---> 22\u001b[0m     r\u001b[38;5;241m+\u001b[39m\u001b[38;5;241m=\u001b[39m(\u001b[38;5;241m-\u001b[39m\u001b[38;5;241m1\u001b[39m)\u001b[38;5;241m*\u001b[39m\u001b[38;5;241m*\u001b[39m(k\u001b[38;5;241m-\u001b[39mm)\u001b[38;5;241m*\u001b[39mD_matrix[n][l]\u001b[38;5;241m*\u001b[39mcomb(n\u001b[38;5;241m+\u001b[39m\u001b[38;5;241m2\u001b[39m\u001b[38;5;241m*\u001b[39ml,\u001b[43mk\u001b[49m\u001b[38;5;241;43m-\u001b[39;49m\u001b[43mm\u001b[49m\u001b[38;5;241m+\u001b[39ml)\n\u001b[0;32m     23\u001b[0m \u001b[38;5;28;01mreturn\u001b[39;00m r\n",
      "\u001b[1;31mKeyboardInterrupt\u001b[0m: "
     ]
    }
   ],
   "source": [
    "#1\n",
    "import numpy as np\n",
    "from scipy.special import factorial, comb\n",
    "#nCk = math.comb(n, k)\n",
    "\n",
    "m = 7\n",
    "def f(x):\n",
    "    if x== 0:\n",
    "        return 1/2\n",
    "    return  np.sin(x*0.5)/(np.exp(x)-1)\n",
    "\n",
    "# первый аргумент - нижний индекс\n",
    "def W(k, m):\n",
    "    r = 0\n",
    "    for n in range(m+1):\n",
    "        r+= A(k, 2*n, m-n)/(2**(2*n)*factorial(2*n+1))\n",
    "    return r\n",
    "\n",
    "def A(k, n, m):\n",
    "    r = 0 \n",
    "    for l in range(m+1):\n",
    "        r+=(-1)**(k-m)*D_matrix[n][l]*comb(n+2*l,k-m+l)\n",
    "    return r\n",
    "\n",
    "D_matrix = [[None for i in range(70)] for k in range(70)]\n",
    "\n",
    "for n in range(30):\n",
    "    for j in range(30):\n",
    "        if j==0:\n",
    "            D_matrix[n][j] = 1\n",
    "        else:\n",
    "            ji = j-1\n",
    "            ret = 0\n",
    "            for k in range(n + 2*ji  + 1):\n",
    "                for l in range(ji + 1):\n",
    "                    ret += (-1)**k * D_matrix[n][l] * comb(n + 2*l, k - ji + l) * (n  + 2*ji - 2*k)**(n+2*ji + 2) / (2**(n + 2*ji + 2) * factorial(n + 2*ji + 2))\n",
    "            D_matrix[n][j] = ret\n",
    "\n",
    "J = 20000\n",
    "h = (1-(-1))/J\n",
    "\n",
    "def I(h, J):\n",
    "    res = 0\n",
    "    for j in range(J):\n",
    "        for k in range(-m, m+1, 1):\n",
    "            res+=W(m-k, m)*f(-1+h*(j+k)+h/2)*h\n",
    "    return res\n",
    "\n",
    "print(I(h,J))\n",
    "print()\n",
    "\n",
    "from scipy import integrate\n",
    "print(integrate.quad(f, -1, 1))\n"
   ]
  },
  {
   "cell_type": "code",
   "execution_count": null,
   "id": "d2d37f29-cb0c-4805-81cc-93ff0d4f7a74",
   "metadata": {},
   "outputs": [],
   "source": []
  },
  {
   "cell_type": "markdown",
   "id": "c5c5ab29-fecd-490b-9e71-4c6cb6d5203d",
   "metadata": {},
   "source": [
    "## №2"
   ]
  },
  {
   "cell_type": "code",
   "execution_count": 13,
   "id": "2aa43d88-cbe4-4afc-8489-e7556e0928bd",
   "metadata": {},
   "outputs": [
    {
     "name": "stdout",
     "output_type": "stream",
     "text": [
      "0.577215664900628\n"
     ]
    }
   ],
   "source": [
    "import numpy as np\n",
    "m = 7\n",
    "def I(l, m):\n",
    "    res = 0\n",
    "    for k in range(l+1):\n",
    "            res+=W(2*m-k, m)\n",
    "    return res\n",
    "\n",
    "def a(j):\n",
    "    if j == 1:\n",
    "        return 1\n",
    "    return 1/j - np.log(j) + np.log(j-1)\n",
    "\n",
    "jm = 50\n",
    "s1 = 0\n",
    "s2 = 0\n",
    "\n",
    "for j in range(1, jm-m+1):\n",
    "    s1+=a(j)\n",
    "    \n",
    "for j in range(jm-m+1, jm+m+1):\n",
    "    s2+=(1-I(j+m-jm-1, m))*a(j)\n",
    "    \n",
    "    \n",
    "Integ, _ = integrate.quad(a, jm+0.5, np.inf, limit =10000, epsrel = 1e-25)\n",
    "\n",
    "result=s1+s2+Integ\n",
    "print(result)"
   ]
  },
  {
   "cell_type": "markdown",
   "id": "45e53b81-90a6-4f66-b1b6-99139636a33b",
   "metadata": {},
   "source": [
    "## Задача 3\n",
    "\n",
    "\n",
    "Вычислить сумму ряда\n",
    "$$\n",
    "\\sum_{n=1}^{\\infty} \\frac{n^2+1}{n^4+n^2+1} \\operatorname{сos}(2 n)\n",
    "$$\n",
    "\n",
    "с точностью $\\varepsilon=10^{-6}$, применяя метод Куммера."
   ]
  },
  {
   "cell_type": "markdown",
   "id": "9270189c-cbd9-45cb-a9b7-6f25e7a87d89",
   "metadata": {},
   "source": [
    "Определим количество членов, необходимое для обеспечения требуемой точности $\\varepsilon=10^{-6}$.\n",
    "$$\n",
    "\\begin{aligned}\n",
    "& \\left|R_k\\right|=\\sum_{n=k+1}^{\\infty}\\left|\\frac{n^2+1}{n^4+n^2+1} \\operatorname{Cos}(2 n)\\right| \\leq \\sum_{n=k+1}^{\\infty} \\frac{n^2+1}{n^4+n^2+1}<\\sum_{n=k+1}^{\\infty} \\frac{n^2+1}{n^2\\left(n^2+1\\right)}=\\sum_{n=k+1}^{\\infty} \\frac{1}{n^2}< \\\\\n",
    "& <\\int_{k+1}^{\\infty} \\frac{d x}{x^2}=\\frac{1}{k+1}<10^{-6}\n",
    "\\end{aligned}\n",
    "$$\n",
    "\n",
    "Решая последнее неравенство, получим\n",
    "$$\n",
    "\\mathrm{k}+1>10^{-6}, \\quad \\mathrm{k}>10^{-6}-1 .\n",
    "$$\n",
    "\n",
    "Итак, для обеспечения точности $\\varepsilon=10^{-6}$ необходимо взять примерно $10^6$ членов ряда - многовато будет.\n",
    "\n",
    "Теперь воспользуемся вспомогательным рядом из таблицы\n",
    "$$\n",
    "\\sum_{n=1}^{\\infty} \\frac{\\operatorname{cos}(n x)}{n^2}=\\frac{\\pi^2}{6}-\\frac{\\pi x}{12}+\\frac{x^2}{4} \\text { при } \\mathrm{x}=2\n",
    "$$\n",
    "\n",
    "имеем\n",
    "$$\n",
    "\\sum_{n=1}^{\\infty} \\frac{\\operatorname{cos}(2 n)}{n^2}=\\frac{\\pi^2}{6}-\\frac{\\pi}{6}+1 .\n",
    "$$\n",
    "\n",
    "Находим\n",
    "$$\n",
    "\\gamma=\\lim _{n \\rightarrow \\infty} \\frac{a_n}{b_n}=\\lim _{n \\rightarrow \\infty} \\frac{\\left(n^2+1\\right) \\operatorname{cos} 2 n \\cdot n^2}{\\left(n^4+n^2+1\\right) \\cdot \\operatorname{cos} 2 n}=1\n",
    "$$\n",
    "\n",
    "Отсюда\n",
    "$$\n",
    "\\begin{aligned}\n",
    "& S=\\sum_{n=1}^{\\infty} \\frac{n^2}{n^4+n^2+1} \\cdot \\operatorname{cos} 2 n=\\frac{\\pi^2}{6}-\\frac{\\pi}{6}+1+\\sum_{n=1}^{\\infty}\\left(\\frac{n^2}{n^4+n^2+1}-\\frac{1}{n^2}\\right) \\cdot \\operatorname{cos} 2 n= \\\\\n",
    "& =\\frac{\\pi^2}{6}-\\frac{\\pi}{6}+1-\\sum_{n=1}^{\\infty} \\frac{\\operatorname{cos} 2 n}{n^2\\left(n^4+n^2+1\\right)} .\n",
    "\\end{aligned}\n",
    "$$\n",
    "\n",
    "Определим количество членов полученного ряда, необходимое для обеспечения точности $\\varepsilon$.\n",
    "$$\n",
    "\\left|R_k\\right|=\\left|\\sum_{x=k+1}^{\\infty} \\frac{\\operatorname{cos} 2 n}{n^2\\left(n^4+n^2+1\\right)}\\right| \\leq \\sum_{n=k+1}^{\\infty} \\frac{1}{n^2\\left(n^4+n^2+1\\right)}<=\\sum_{n=k+1}^{\\infty} \\frac{1}{n^6}<\\int_{k+1}^{\\infty} \\frac{d x}{x^6}=\\frac{1}{5(k+1)^5}<10^{-6} .\n",
    "$$\n",
    "\n",
    "Откуда находим, что искомая точность достигается при $\\mathrm{k} \\geq 10$ слагаемых."
   ]
  },
  {
   "cell_type": "code",
   "execution_count": 33,
   "id": "d2f84f8e-d28b-4cb1-9ac1-f3207d950fe0",
   "metadata": {},
   "outputs": [
    {
     "name": "stdout",
     "output_type": "stream",
     "text": [
      "k = 10 ошибка = 1.5495430176438283e-06\n",
      "k = 11 ошибка = 9.850690875900509e-07\n",
      "Количество членов k: 11\n",
      "Результат суммирования ряда: 2.266728673828213\n"
     ]
    }
   ],
   "source": [
    "import numpy as np\n",
    "\n",
    "# Заданное значение ε\n",
    "epsilon = 1e-6\n",
    "\n",
    "# Вычисление суммы ряда используя метод Куммера\n",
    "def kummer_series(k):\n",
    "    sum_part = sum(1 /((n**2) * (n**4 + n**2 + 1)) * np.cos(2 * n) for n in range(1, k+1))\n",
    "    return np.pi**2 / 6 - np.pi / 6 + 1 - sum_part\n",
    "\n",
    "# Нахождение количества членов для достижения требуемой точности\n",
    "k = 10  # Примерное количество членов для обеспечения точности ε=10^-6\n",
    "while True:\n",
    "    sum_abs = sum(1 / (n**6) for n in range(k+1, int(1e6)))\n",
    "    print(f\"k = {k}\", f\"ошибка = {sum_abs}\")\n",
    "    if sum_abs < epsilon:\n",
    "        break\n",
    "    k += 1\n",
    "\n",
    "# Вычисление суммы ряда с полученным количеством членов\n",
    "result = kummer_series(k)\n",
    "print(f\"Количество членов k: {k}\")\n",
    "print(f\"Результат суммирования ряда: {result}\")"
   ]
  },
  {
   "cell_type": "markdown",
   "id": "ebe316c6-f791-4b02-9c9a-4db51d1664c3",
   "metadata": {},
   "source": [
    "## №4"
   ]
  },
  {
   "cell_type": "code",
   "execution_count": 36,
   "id": "dcb6ce56-6696-4751-962b-1f6dc0529c28",
   "metadata": {},
   "outputs": [
    {
     "name": "stdout",
     "output_type": "stream",
     "text": [
      "0.5000121573929865\n"
     ]
    }
   ],
   "source": [
    "N = 10\n",
    "m = 23\n",
    "dx = 1e-5\n",
    "\n",
    "def f1(x):\n",
    "    return (np.cosh(np.sqrt(np.abs(x)))-1)/x\n",
    "\n",
    "def y1(j):\n",
    "    if j>0:\n",
    "          return f1((j*2-1)/2*dx)\n",
    "    return f1(dx/2*(2*k+1))\n",
    "\n",
    "res1 = 0\n",
    "for n in range(N+1):\n",
    "    for k in range(2*m + n % 2 +1 ):\n",
    "        res1+= A(k, n, int(m -(n - (n%2))/2))*(-1)**n/(4**n*factorial(n))* y1(2*m + n%2-2*k)\n",
    "        \n",
    "print(res1)"
   ]
  },
  {
   "cell_type": "code",
   "execution_count": 38,
   "id": "32410bdc-5529-436c-915a-62c5c6791457",
   "metadata": {},
   "outputs": [
    {
     "name": "stdout",
     "output_type": "stream",
     "text": [
      "-0.49999337305226277\n"
     ]
    }
   ],
   "source": [
    "def f2(x):\n",
    "    return (np.cos(np.sqrt(np.abs(x)))-1)/x\n",
    "\n",
    "def y2(j):\n",
    "    if j<0:\n",
    "          return f2((-j*2-1)/2*dx)\n",
    "    return f2(dx/2*(2*k+1))\n",
    "\n",
    "res2 = 0\n",
    "for n in range(N+1):\n",
    "    for k in range(2*m + n % 2 + 1):\n",
    "        res2+= A(k, n, int(m -(n - (n%2))/2))*(-1)**n/(4**n*factorial(n))* y2(2*m + n%2-2*k)\n",
    "\n",
    "print(res2)"
   ]
  },
  {
   "cell_type": "code",
   "execution_count": null,
   "id": "83f8462d-39db-4491-a6f5-acab1bfba2fc",
   "metadata": {},
   "outputs": [],
   "source": []
  }
 ],
 "metadata": {
  "kernelspec": {
   "display_name": "Python 3 (ipykernel)",
   "language": "python",
   "name": "python3"
  },
  "language_info": {
   "codemirror_mode": {
    "name": "ipython",
    "version": 3
   },
   "file_extension": ".py",
   "mimetype": "text/x-python",
   "name": "python",
   "nbconvert_exporter": "python",
   "pygments_lexer": "ipython3",
   "version": "3.9.6"
  }
 },
 "nbformat": 4,
 "nbformat_minor": 5
}
