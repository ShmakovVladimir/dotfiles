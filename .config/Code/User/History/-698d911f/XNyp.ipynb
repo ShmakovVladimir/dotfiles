{
 "cells": [
  {
   "cell_type": "markdown",
   "id": "45e53b81-90a6-4f66-b1b6-99139636a33b",
   "metadata": {},
   "source": [
    "## Задача 3\n",
    "\n",
    "\n",
    "Вычислить сумму ряда\n",
    "$$\n",
    "\\sum_{n=1}^{\\infty} \\frac{n^2+1}{n^4+n^2+1} \\operatorname{сos}(2 n)\n",
    "$$\n",
    "\n",
    "с точностью $\\varepsilon=10^{-6}$, применяя метод Куммера."
   ]
  },
  {
   "cell_type": "markdown",
   "id": "9270189c-cbd9-45cb-a9b7-6f25e7a87d89",
   "metadata": {},
   "source": [
    "Определим количество членов, необходимое для обеспечения требуемой точности $\\varepsilon=10^{-6}$.\n",
    "$$\n",
    "\\begin{aligned}\n",
    "& \\left|R_k\\right|=\\sum_{n=k+1}^{\\infty}\\left|\\frac{n^2+1}{n^4+n^2+1} \\operatorname{Cos}(2 n)\\right| \\leq \\sum_{n=k+1}^{\\infty} \\frac{n^2+1}{n^4+n^2+1}<\\sum_{n=k+1}^{\\infty} \\frac{n^2+1}{n^2\\left(n^2+1\\right)}=\\sum_{n=k+1}^{\\infty} \\frac{1}{n^2}< \\\\\n",
    "& <\\int_{k+1}^{\\infty} \\frac{d x}{x^2}=\\frac{1}{k+1}<10^{-6}\n",
    "\\end{aligned}\n",
    "$$\n",
    "\n",
    "Следовательно\n",
    "$$\n",
    "\\mathrm{k}+1>10^{-6}, \\quad \\mathrm{k}>10^{-6}-1 .\n",
    "$$\n",
    "\n",
    "\n",
    "\n",
    "Теперь воспользуемся вспомогательным рядом из таблицы\n",
    "$$\n",
    "\\sum_{n=1}^{\\infty} \\frac{\\operatorname{cos}(n x)}{n^2}=\\frac{\\pi^2}{6}-\\frac{\\pi x}{12}+\\frac{x^2}{4} \\text { при } \\mathrm{x}=2\n",
    "$$\n",
    "\n",
    "имеем\n",
    "$$\n",
    "\\sum_{n=1}^{\\infty} \\frac{\\operatorname{cos}(2 n)}{n^2}=\\frac{\\pi^2}{6}-\\frac{\\pi}{6}+1 .\n",
    "$$\n",
    "\n",
    "Находим\n",
    "$$\n",
    "\\gamma=\\lim _{n \\rightarrow \\infty} \\frac{a_n}{b_n}=\\lim _{n \\rightarrow \\infty} \\frac{\\left(n^2+1\\right) \\operatorname{cos} 2 n \\cdot n^2}{\\left(n^4+n^2+1\\right) \\cdot \\operatorname{cos} 2 n}=1\n",
    "$$\n",
    "\n",
    "Отсюда\n",
    "$$\n",
    "\\begin{aligned}\n",
    "& S=\\sum_{n=1}^{\\infty} \\frac{n^2}{n^4+n^2+1} \\cdot \\operatorname{cos} 2 n=\\frac{\\pi^2}{6}-\\frac{\\pi}{6}+1+\\sum_{n=1}^{\\infty}\\left(\\frac{n^2}{n^4+n^2+1}-\\frac{1}{n^2}\\right) \\cdot \\operatorname{cos} 2 n= \\\\\n",
    "& =\\frac{\\pi^2}{6}-\\frac{\\pi}{6}+1-\\sum_{n=1}^{\\infty} \\frac{\\operatorname{cos} 2 n}{n^2\\left(n^4+n^2+1\\right)} .\n",
    "\\end{aligned}\n",
    "$$\n",
    "\n",
    "Определим количество членов полученного ряда, необходимое для обеспечения точности $\\varepsilon$.\n",
    "$$\n",
    "\\left|R_k\\right|=\\left|\\sum_{x=k+1}^{\\infty} \\frac{\\operatorname{cos} 2 n}{n^2\\left(n^4+n^2+1\\right)}\\right| \\leq \\sum_{n=k+1}^{\\infty} \\frac{1}{n^2\\left(n^4+n^2+1\\right)}<=\\sum_{n=k+1}^{\\infty} \\frac{1}{n^6}<\\int_{k+1}^{\\infty} \\frac{d x}{x^6}=\\frac{1}{5(k+1)^5}<10^{-6} .\n",
    "$$\n",
    "\n",
    "Откуда находим, что искомая точность достигается при $\\mathrm{k} \\geq 10$ слагаемых."
   ]
  },
  {
   "cell_type": "code",
   "execution_count": 5,
   "id": "70eb3922",
   "metadata": {},
   "outputs": [
    {
     "name": "stdout",
     "output_type": "stream",
     "text": [
      "2.2667284926401114\n"
     ]
    }
   ],
   "source": [
    "def kummer(k):\n",
    "    \"\"\"Вычисление ряда (n^2 + 1) * cos(..) методом Куммера\n",
    "\n",
    "    Args:\n",
    "        k (_type_): _description_\n",
    "\n",
    "    Returns:\n",
    "        _type_: _description_\n",
    "    \"\"\"\n",
    "    n = np.arange(k) + 1\n",
    "    sum_part = np.sum(1 /((n**2) * (n**4 + n**2 + 1)) * np.cos(2 * n))\n",
    "    return np.pi**2 / 6 - np.pi / 6 + 1 - sum_part\n",
    "print(kummer(20))"
   ]
  },
  {
   "cell_type": "markdown",
   "id": "ebe316c6-f791-4b02-9c9a-4db51d1664c3",
   "metadata": {},
   "source": [
    "## Задача 4"
   ]
  },
  {
   "cell_type": "code",
   "execution_count": 8,
   "id": "b2ce0a06",
   "metadata": {},
   "outputs": [],
   "source": [
    "import numpy as np\n",
    "import matplotlib.pyplot as plt"
   ]
  },
  {
   "cell_type": "code",
   "execution_count": 15,
   "id": "3649807f",
   "metadata": {},
   "outputs": [
    {
     "name": "stdout",
     "output_type": "stream",
     "text": [
      "[-0.01    -0.00999 -0.00998 ...  0.00997  0.00998  0.00999]\n"
     ]
    },
    {
     "data": {
      "text/plain": [
       "<matplotlib.collections.PathCollection at 0x7f968821f710>"
      ]
     },
     "execution_count": 15,
     "metadata": {},
     "output_type": "execute_result"
    },
    {
     "data": {
      "image/png": "[encoded data removed]",
      "text/plain": [
       "<Figure size 640x480 with 1 Axes>"
      ]
     },
     "metadata": {},
     "output_type": "display_data"
    }
   ],
   "source": [
    "def y(x):\n",
    "    return np.cosh(np.sqrt(np.abs(x))) * (x > 0) + np.cos(np.sqrt(np.abs(x)))\n",
    "f = lambda x: (y(x) - 1) / x\n",
    "\n",
    "x_grid = np.arange(-1e-2, 1e-2, 1e-5)\n",
    "print(x_grid)\n",
    "plt.scatter(x_grid, f(x_grid))"
   ]
  }
 ],
 "metadata": {
  "kernelspec": {
   "display_name": "Python 3 (ipykernel)",
   "language": "python",
   "name": "python3"
  },
  "language_info": {
   "codemirror_mode": {
    "name": "ipython",
    "version": 3
   },
   "file_extension": ".py",
   "mimetype": "text/x-python",
   "name": "python",
   "nbconvert_exporter": "python",
   "pygments_lexer": "ipython3",
   "version": "3.12.2"
  }
 },
 "nbformat": 4,
 "nbformat_minor": 5
}
