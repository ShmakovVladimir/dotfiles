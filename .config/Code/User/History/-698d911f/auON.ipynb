{
 "cells": [
  {
   "cell_type": "markdown",
   "id": "45e53b81-90a6-4f66-b1b6-99139636a33b",
   "metadata": {},
   "source": [
    "## Задача 3\n",
    "\n",
    "\n",
    "Вычислить сумму ряда\n",
    "$$\n",
    "\\sum_{n=1}^{\\infty} \\frac{n^2+1}{n^4+n^2+1} \\operatorname{сos}(2 n)\n",
    "$$\n",
    "\n",
    "с точностью $\\varepsilon=10^{-6}$, применяя метод Куммера."
   ]
  },
  {
   "cell_type": "markdown",
   "id": "9270189c-cbd9-45cb-a9b7-6f25e7a87d89",
   "metadata": {},
   "source": [
    "Определим количество членов, необходимое для обеспечения требуемой точности $\\varepsilon=10^{-6}$.\n",
    "$$\n",
    "\\begin{aligned}\n",
    "& \\left|R_k\\right|=\\sum_{n=k+1}^{\\infty}\\left|\\frac{n^2+1}{n^4+n^2+1} \\operatorname{Cos}(2 n)\\right| \\leq \\sum_{n=k+1}^{\\infty} \\frac{n^2+1}{n^4+n^2+1}<\\sum_{n=k+1}^{\\infty} \\frac{n^2+1}{n^2\\left(n^2+1\\right)}=\\sum_{n=k+1}^{\\infty} \\frac{1}{n^2}< \\\\\n",
    "& <\\int_{k+1}^{\\infty} \\frac{d x}{x^2}=\\frac{1}{k+1}<10^{-6}\n",
    "\\end{aligned}\n",
    "$$\n",
    "\n",
    "Следовательно\n",
    "$$\n",
    "\\mathrm{k}+1>10^{-6}, \\quad \\mathrm{k}>10^{-6}-1 .\n",
    "$$\n",
    "\n",
    "\n",
    "\n",
    "Теперь воспользуемся вспомогательным рядом из таблицы\n",
    "$$\n",
    "\\sum_{n=1}^{\\infty} \\frac{\\operatorname{cos}(n x)}{n^2}=\\frac{\\pi^2}{6}-\\frac{\\pi x}{12}+\\frac{x^2}{4} \\text { при } \\mathrm{x}=2\n",
    "$$\n",
    "\n",
    "имеем\n",
    "$$\n",
    "\\sum_{n=1}^{\\infty} \\frac{\\operatorname{cos}(2 n)}{n^2}=\\frac{\\pi^2}{6}-\\frac{\\pi}{6}+1 .\n",
    "$$\n",
    "\n",
    "Находим\n",
    "$$\n",
    "\\gamma=\\lim _{n \\rightarrow \\infty} \\frac{a_n}{b_n}=\\lim _{n \\rightarrow \\infty} \\frac{\\left(n^2+1\\right) \\operatorname{cos} 2 n \\cdot n^2}{\\left(n^4+n^2+1\\right) \\cdot \\operatorname{cos} 2 n}=1\n",
    "$$\n",
    "\n",
    "Отсюда\n",
    "$$\n",
    "\\begin{aligned}\n",
    "& S=\\sum_{n=1}^{\\infty} \\frac{n^2}{n^4+n^2+1} \\cdot \\operatorname{cos} 2 n=\\frac{\\pi^2}{6}-\\frac{\\pi}{6}+1+\\sum_{n=1}^{\\infty}\\left(\\frac{n^2}{n^4+n^2+1}-\\frac{1}{n^2}\\right) \\cdot \\operatorname{cos} 2 n= \\\\\n",
    "& =\\frac{\\pi^2}{6}-\\frac{\\pi}{6}+1-\\sum_{n=1}^{\\infty} \\frac{\\operatorname{cos} 2 n}{n^2\\left(n^4+n^2+1\\right)} .\n",
    "\\end{aligned}\n",
    "$$\n",
    "\n",
    "Определим количество членов полученного ряда, необходимое для обеспечения точности $\\varepsilon$.\n",
    "$$\n",
    "\\left|R_k\\right|=\\left|\\sum_{x=k+1}^{\\infty} \\frac{\\operatorname{cos} 2 n}{n^2\\left(n^4+n^2+1\\right)}\\right| \\leq \\sum_{n=k+1}^{\\infty} \\frac{1}{n^2\\left(n^4+n^2+1\\right)}<=\\sum_{n=k+1}^{\\infty} \\frac{1}{n^6}<\\int_{k+1}^{\\infty} \\frac{d x}{x^6}=\\frac{1}{5(k+1)^5}<10^{-6} .\n",
    "$$\n",
    "\n",
    "Откуда находим, что искомая точность достигается при $\\mathrm{k} \\geq 10$ слагаемых."
   ]
  },
  {
   "cell_type": "code",
   "execution_count": 5,
   "id": "70eb3922",
   "metadata": {},
   "outputs": [
    {
     "name": "stdout",
     "output_type": "stream",
     "text": [
      "2.2667284926401114\n"
     ]
    }
   ],
   "source": [
    "def kummer(k):\n",
    "    \"\"\"Вычисление ряда (n^2 + 1) * cos(..) методом Куммера\n",
    "\n",
    "    Args:\n",
    "        k (_type_): _description_\n",
    "\n",
    "    Returns:\n",
    "        _type_: _description_\n",
    "    \"\"\"\n",
    "    n = np.arange(k) + 1\n",
    "    sum_part = np.sum(1 /((n**2) * (n**4 + n**2 + 1)) * np.cos(2 * n))\n",
    "    return np.pi**2 / 6 - np.pi / 6 + 1 - sum_part\n",
    "print(kummer(20))"
   ]
  },
  {
   "cell_type": "markdown",
   "id": "ebe316c6-f791-4b02-9c9a-4db51d1664c3",
   "metadata": {},
   "source": [
    "## Задача 4"
   ]
  },
  {
   "cell_type": "code",
   "execution_count": 8,
   "id": "b2ce0a06",
   "metadata": {},
   "outputs": [],
   "source": [
    "import numpy as np\n",
    "import matplotlib.pyplot as plt"
   ]
  },
  {
   "cell_type": "code",
   "execution_count": 13,
   "id": "3649807f",
   "metadata": {},
   "outputs": [
    {
     "name": "stdout",
     "output_type": "stream",
     "text": [
      "[-0.01       -0.00979592 -0.00959184 -0.00938776 -0.00918367 -0.00897959\n",
      " -0.00877551 -0.00857143 -0.00836735 -0.00816327 -0.00795918 -0.0077551\n",
      " -0.00755102 -0.00734694 -0.00714286 -0.00693878 -0.00673469 -0.00653061\n",
      " -0.00632653 -0.00612245 -0.00591837 -0.00571429 -0.0055102  -0.00530612\n",
      " -0.00510204 -0.00489796 -0.00469388 -0.0044898  -0.00428571 -0.00408163\n",
      " -0.00387755 -0.00367347 -0.00346939 -0.00326531 -0.00306122 -0.00285714\n",
      " -0.00265306 -0.00244898 -0.0022449  -0.00204082 -0.00183673 -0.00163265\n",
      " -0.00142857 -0.00122449 -0.00102041 -0.00081633 -0.00061224 -0.00040816\n",
      " -0.00020408  0.          0.00020408  0.00040816  0.00061224  0.00081633\n",
      "  0.00102041  0.00122449  0.00142857  0.00163265  0.00183673  0.00204082\n",
      "  0.0022449   0.00244898  0.00265306  0.00285714  0.00306122  0.00326531\n",
      "  0.00346939  0.00367347  0.00387755  0.00408163  0.00428571  0.0044898\n",
      "  0.00469388  0.00489796  0.00510204  0.00530612  0.0055102   0.00571429\n",
      "  0.00591837  0.00612245  0.00632653  0.00653061  0.00673469  0.00693878\n",
      "  0.00714286  0.00734694  0.00755102  0.0077551   0.00795918  0.00816327\n",
      "  0.00836735  0.00857143  0.00877551  0.00897959  0.00918367  0.00938776\n",
      "  0.00959184  0.00979592  0.01      ]\n"
     ]
    },
    {
     "name": "stderr",
     "output_type": "stream",
     "text": [
      "/tmp/ipykernel_90223/1941248945.py:3: RuntimeWarning: invalid value encountered in divide\n",
      "  f = lambda x: (y(x) - 1) / x\n"
     ]
    },
    {
     "data": {
      "text/plain": [
       "<matplotlib.collections.PathCollection at 0x7f9688274980>"
      ]
     },
     "execution_count": 13,
     "metadata": {},
     "output_type": "execute_result"
    },
    {
     "data": {
      "image/png": "[encoded data removed]",
      "text/plain": [
       "<Figure size 640x480 with 1 Axes>"
      ]
     },
     "metadata": {},
     "output_type": "display_data"
    }
   ],
   "source": [
    "def y(x):\n",
    "    return np.cosh(np.sqrt(np.abs(x))) * (x > 0) + np.cos(np.sqrt(np.abs(x)))\n",
    "f = lambda x: (y(x) - 1) / x\n",
    "\n",
    "x_grid = np.linspace(-1e-2, 1e-2, 99)\n",
    "print(x_grid)\n",
    "plt.scatter(x_grid, f(x_grid))"
   ]
  }
 ],
 "metadata": {
  "kernelspec": {
   "display_name": "Python 3 (ipykernel)",
   "language": "python",
   "name": "python3"
  },
  "language_info": {
   "codemirror_mode": {
    "name": "ipython",
    "version": 3
   },
   "file_extension": ".py",
   "mimetype": "text/x-python",
   "name": "python",
   "nbconvert_exporter": "python",
   "pygments_lexer": "ipython3",
   "version": "3.12.2"
  }
 },
 "nbformat": 4,
 "nbformat_minor": 5
}
