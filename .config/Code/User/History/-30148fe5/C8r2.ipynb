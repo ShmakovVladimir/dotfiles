{
 "cells": [
  {
   "cell_type": "markdown",
   "metadata": {
    "id": "S0yfIZPWcFm0",
    "nbpresent": {
     "id": "13101ac1-2637-4d0f-9f1f-cd32215b02c3"
    },
    "slideshow": {
     "slide_type": "slide"
    }
   },
   "source": [
    "# Вычислительная математика\n",
    "## 5.1 Основы решений дифференциальных уравнений. Задача Коши\n",
    "\n",
    "Содержание семинара:\n",
    "\n",
    "- Дискретизация Задачи Коши. Частный случай, общий подход\n",
    "- Дискретизация Задачи Коши. Общая теория дискретизации ОДУ.\n",
    "    - Сходимость\n",
    "    - Аппроксимация\n",
    "    - Устойчивость\n",
    "    - Теорема Рябенького-Лакса\n",
    "    - Пример исследования задачи на аппроксимацию и сходимость\n",
    "    - Пример с аппроксимацией начальных условий с произвольной точностью\n",
    "- Канонический вид двухслойной схемы\n",
    "- Исследование устойчивости. Спектральный признак Фон Неймана\n",
    "- Исследование устойчивости. Алгоритм Далквиста\n",
    "    - Примеры нахождение областей устойчивости\n",
    "- Классификация разностных схем по областям устойчивости\n",
    "    - Барьер Далквиста\n",
    "- Одношаговые методы. Явные методы Рунге-Кутта. \n",
    "- Жесткие системы (доделать)\n",
    "- Одношаговые методы. Неявные методы Рунге-Кутта\n",
    "    - Пример с разницей явных и неявных РГ для жесткой системы\n",
    "- Устойчивость методов Рунге-Кутта\n",
    "    - Пример\n",
    "- Многошаговые методы (сыро)\n",
    "    - Многошаговые методы Адамса\n",
    "    - Метод прогноза-коррекции Адамса\n",
    "    - Метод Милна\n",
    "- Анализ многошаговых методов на устойчивость (сложно написано)\n",
    "    - Пример (плохо написано)"
   ]
  },
  {
   "cell_type": "markdown",
   "metadata": {
    "slideshow": {
     "slide_type": "slide"
    }
   },
   "source": [
    "## Дискретизация Задачи Коши. Частный случай, общий подход\n",
    "\n",
    "Рассмотрим общий подход к численному решению ОДУ.\n",
    "\n",
    "Задача Коши ставится следующим образом: \n",
    "\n",
    "$$\n",
    "\\left\\{\\begin{array}{l}\n",
    "\\dfrac{d u}{d t}=f(t, u), \\quad t \\in [0, T] \\\\\n",
    "u(0)=u_{0}\n",
    "\\end{array}\\right.\n",
    "$$  \n",
    "\n",
    "Далее будем полагать, что решение существует и единственно.\n",
    "\n",
    "В общем случае аналитически не решается - а решать-то хочется."
   ]
  },
  {
   "cell_type": "markdown",
   "metadata": {
    "slideshow": {
     "slide_type": "fragment"
    }
   },
   "source": [
    "Понятное дело, на компьютере не можем работать с континуумом значений. Необходимо произвести __дискретизацию__ задачи.\n",
    "\n",
    "Зададим сетку с равным шагом:\n",
    "\n",
    "$$\n",
    "0=t_0<t_1<t_2<\\cdots<t_{n-1}<t_N=T\n",
    "$$\n",
    "\n",
    "$$\n",
    "\\tau=t_{n+1}-t_n\n",
    "$$\n",
    "\n",
    "Также зададим дискретную функцию $y_n$ на этой сетке, от которой хотим \n",
    "\n",
    "$$\n",
    "y_n \\approx u\\left(t_n\\right), \\quad n=0,1, \\cdots, N\n",
    "$$\n",
    "\n",
    "Таким образом, $y_n$ - это значения решения __дискретизованного ОДУ__ на заданной сетке.\n",
    "\n",
    "__Важно.__ Заметьте, $u(t)$ - истинное (математическое) решение ОДУ, а $y_n$ - это сеточно-заданная функция. Таки разные вещи.\n"
   ]
  },
  {
   "cell_type": "markdown",
   "metadata": {
    "slideshow": {
     "slide_type": "fragment"
    }
   },
   "source": [
    "Вспомним про численную аппроксимацию производной. Выберем какую-нибудь численную схему, например, самую простую. Тогда\n",
    "\n",
    "$$\n",
    "\\left.\\frac{d u}{d t}\\right|_{t_n} =\\lim _{\\tau \\rightarrow 0} \\frac{u(t_n+\\tau)-u(t_n)}{\\tau} \\approx \\frac{y_{n+1}-y_n}{\\tau}\n",
    "$$\n",
    "\n",
    "Подставляя это в изначальное уравнение, мы получаем __дискретизованную Задачу Коши__ или __разностная задача__:\n",
    "\n",
    "$$\n",
    "\\left\\{\\begin{array}{l}\n",
    "\\cfrac{y_{n+1}-y_n}{\\tau}=f(t_n, y_n), \\quad t \\in [0, T] \\\\\n",
    "y_0=u_{0}\n",
    "\\end{array}\\right.\n",
    "$$  \n",
    "\n",
    "__Примечание.__ Конкретно такой вид дискретизации называется __явная схема Эйлера__. Естественно, дискретизовывать можно по разному, выбирая различные разностные схемы и правые части, которые __формально__ стремятся к истинной задаче Коши при $\\tau \\rightarrow 0$.\n",
    "\n",
    "Явную схему Эйлера уже понятно, как решать. Это же просто реккурента:\n",
    "\n",
    "$$\n",
    "y_{n+1}=y_n+\\tau \\cdot f\\left(t_n, y_n\\right), \\quad n \\geqslant 1\n",
    "$$\n",
    "\n",
    "Далее постараемся обобщить этот подход."
   ]
  },
  {
   "cell_type": "code",
   "execution_count": 1,
   "metadata": {
    "ExecuteTime": {
     "end_time": "2024-03-16T03:41:10.577633Z",
     "start_time": "2024-03-16T03:41:09.274733Z"
    },
    "slideshow": {
     "slide_type": "slide"
    }
   },
   "outputs": [
    {
     "data": {
      "application/vnd.jupyter.widget-view+json": {
       "model_id": "dc4cddf958ec452a9253768e4a2f1cf8",
       "version_major": 2,
       "version_minor": 0
      },
      "text/plain": [
       "interactive(children=(FloatSlider(value=0.01, description='h', max=1.0, min=0.01, step=0.01), Output()), _dom_…"
      ]
     },
     "metadata": {},
     "output_type": "display_data"
    },
    {
     "data": {
      "text/plain": [
       "<function __main__.update_plot(h)>"
      ]
     },
     "execution_count": 1,
     "metadata": {},
     "output_type": "execute_result"
    }
   ],
   "source": [
    "import numpy as np\n",
    "import matplotlib.pyplot as plt\n",
    "import sympy\n",
    "import ipywidgets as widgets\n",
    "from matplotlib.pyplot import figure\n",
    "\n",
    "\n",
    "# Define the ODE to be solved\n",
    "t = sympy.symbols('t')\n",
    "y = sympy.Function('y')(t)\n",
    "f = -y + sympy.sin(t)\n",
    "\n",
    "# Set initial conditions and parameters\n",
    "y0 = 1.0 # initial value of y\n",
    "t0 = 0.0 # initial time\n",
    "T = 10.0 # final time\n",
    "\n",
    "# Calculate the exact solution using sympy and convert to numpy function\n",
    "y_exact = sympy.dsolve(sympy.Eq(y.diff(t), f), y, ics={y.subs(t, t0): y0})\n",
    "y_exact_func = sympy.lambdify(t, y_exact.rhs, 'numpy')\n",
    "t_arr_dense = np.linspace(t0, T, 1000) # denser time array for exact solution\n",
    "y_exact_arr = y_exact_func(t_arr_dense)\n",
    "\n",
    "\n",
    "\n",
    "# Define the interactive slider for h\n",
    "h_widget = widgets.FloatSlider(min=0.01, max=1.0, step=0.01, value=0.01, description='h')\n",
    "\n",
    "# Define the function to be called when the value of h changes\n",
    "def update_plot(h):\n",
    "    # Initialize arrays to store the results\n",
    "    t_arr = np.arange(t0, T+h, h) # time array\n",
    "    y_arr = np.zeros_like(t_arr) # solution array\n",
    "    y_arr[0] = y0 # set the initial value of y\n",
    "\n",
    "    # Solve the ODE using Explicit Euler scheme\n",
    "    for i in range(0, t_arr.size-1):\n",
    "        y_arr[i+1] = y_arr[i] + h*f.subs([(y, y_arr[i]), (t, t_arr[i])]).evalf()\n",
    "\n",
    "    figure(figsize=(14, 6), dpi=300)\n",
    "    \n",
    "    # Plot the results\n",
    "    plt.plot(t_arr[:-1], y_arr[:-1], 'o', label='$y^{(τ)}=\\{y_n\\}_{n=0}^N$ - решение дисретизованного ОДУ')\n",
    "    plt.plot(t_arr_dense, y_exact_arr, '-', label='y(x) - истинное решение')\n",
    "    plt.plot(t_arr[:-1], y_exact_func(t_arr[:-1]), 'o', label='$[y(x)]^{(τ)}=\\{y(x_n)\\}_{n=0}^N$ - проекция истинного решения на сетку', c = 'red')\n",
    "\n",
    "    \n",
    "    # Plot vertical line between last approximate solution point and last exact solution projection point\n",
    "    plt.vlines(t_arr[:-1], ymin=y_arr[:-1], ymax=y_exact_func(t_arr[:-1]), colors='gray', linestyles='dashed', alpha=0.75)\n",
    "    \n",
    "    plt.xlabel('t')\n",
    "    plt.ylabel('y')\n",
    "    \n",
    "    plt.ylim((-0.9, 1.1))\n",
    "    \n",
    "    plt.legend(loc=3, fontsize=14)\n",
    "    plt.show()\n",
    "\n",
    "# Call the update_plot function with the initial value of h\n",
    "#update_plot(h_widget.value)\n",
    "\n",
    "# Display the interactive slider\n",
    "widgets.interact(update_plot, h=h_widget)\n"
   ]
  },
  {
   "cell_type": "markdown",
   "metadata": {
    "slideshow": {
     "slide_type": "fragment"
    }
   },
   "source": [
    "__Примечание.__ Выполните ячейку сверху и поиграйтесь с параметром шага дискретизованного ОДУ. Видим, что при больших значениях шага, решение дискретизованного ОДУ (синие точки) не совпадает с истинным (математическим) решением. Обратите так же внимание на обозначения в легенде."
   ]
  },
  {
   "cell_type": "markdown",
   "metadata": {
    "slideshow": {
     "slide_type": "slide"
    }
   },
   "source": [
    "### Примеры различных простых дискретизаций\n",
    "\n",
    "Пусть задача Коши $\\dfrac{d y}{d x}=f(t, y)$\n",
    "\n",
    "Тогда, несколько вариантов соответствющих ей разностных задач $\\hat{L}_{\\tau} y^{(\\tau)}=F^{(\\tau)}$:\n",
    "\n",
    "- __Явная схема Эйлера__\n",
    "\n",
    "$$\n",
    "\\frac{y_{n+1}-y_n}{\\tau}=f\\left(t_n, \\, y_n\\right)\n",
    "$$\n",
    "\n",
    "- __Неявная схема Эйлера__\n",
    "\n",
    "$$\n",
    "\\frac{y_{n+1}-y_n}{\\tau}=f\\left(t_{n+1}, \\, y_{n+1}\\right)\n",
    "$$\n",
    "\n",
    "Неявная она потому, что в общем случае на каждом шаге приходится решать нелинейное уравнение на $y_{n+1}$.\n",
    "\n",
    "- __Симметризованная схема__\n",
    "\n",
    "$$\n",
    "\\frac{y_{n+1}-y_n}{\\tau}=\\frac{1}{2} \\cdot \\left(f\\left(t_n, \\, y_n\\right)+f\\left(t_{n+1}, \\, y_{n+1}\\right)\\right)\n",
    "$$\n",
    "\n",
    "- __Схема с центральной разностью__\n",
    "\n",
    "$$\n",
    "\\frac{y_{n+1}-y_{n-1}}{2 \\cdot \\tau}=f\\left(t_{n}, y_{n}\\right)\n",
    "$$\n",
    "\n",
    "Видно, что строить их достаточно просто - главное обеспечить \"аля\" сходимость $\\hat{L}_{\\tau} \\rightarrow \\hat{L}$ и $F^{(\\tau)} \\rightarrow F(x)$.\n",
    "\n",
    "__Примечание.__ Первые три схемы относятся к __двуслойным__ схемам, а четвёртая к __трёхслойным__. Подумайте почему.\n",
    "\n",
    "__Примечание.__ Начальные условия в виде производной в какой-то точке также необходимо дискретизовывать, и это влияет на точность. Смотреть пример ниже.\n",
    "\n",
    "Для определения того, какая схема лучше и корректна ли схема вообще, необходимо ввести какие-то числовые параметры."
   ]
  },
  {
   "cell_type": "markdown",
   "metadata": {
    "ExecuteTime": {
     "end_time": "2023-02-28T09:15:35.981840Z",
     "start_time": "2023-02-28T09:15:35.970805Z"
    },
    "slideshow": {
     "slide_type": "slide"
    }
   },
   "source": [
    "## Дискретизация Задачи Коши. Общая теория дискретизации ОДУ.\n",
    "\n",
    "Пусть заданы дифференциальная задача Коши (ОДУ):\n",
    "\n",
    "$$\n",
    "\\hat{L} \\; y(x)=F(x)\n",
    "$$\n",
    "\n",
    "Здесь $\\hat{L}$ - дифферециальный оператор. К примеру, $\\hat{L} = \\frac{d}{dx}$ или $\\hat{L} = x \\cdot \\frac{d^2}{dx^2} -1 $. \n",
    "\n",
    "Поставим ей в соответствие __разностную задачу__:\n",
    "\n",
    "$$\n",
    "\\hat{L}_{h} y^{(h)}=F^{(h)}\n",
    "$$\n",
    "\n",
    "где $y^{(h)}, F^{(h)}$ - __сеточные функции__, значения которых заданы в конечном наборе равноотстоящих (с шагом $h$ ) точек $\\left\\{x_{k}\\right\\}_{k=0}^{N}$. Заметим, что $y^{(h)}$ мы заранее не знаем и определяем его из решения даной разностной задачи. Также отметим, что сеточная функция $F^{(h)}$ не обязана быть $F(x)$, спроецированной на сетку, - это необходимо только в пределе $h \\rightarrow 0$. \n",
    "\n",
    "Соответственно, $\\hat{L}_{h}$ - оператор, действующий на множестве сеточных функций. Выбирается нами так, чтобы приблизить $\\hat{L}$. Для предыдущих примеров, соответственно, $\\hat{L}_h = \\cfrac{y_{n+1}-y_n}{h}$ или $\\hat{L}_h = x_n \\cdot \\cfrac{y_{n+1} - 2 y_{n} + y_{n-1}}{h^2} - 1 $\n",
    "\n",
    "Введём __проекцию истинного решения на сетку__ как \n",
    "\n",
    "$$\\left[y(x)\\right]^{(h)}=\\left\\{y\\left(x_{k}\\right)\\right\\}_{k=0}^{N}$$\n",
    "\n",
    "$\\left[y(x)\\right]^{(h)}$ - тоже __сеточная функция__, полученная на основе значений истинного решения $y(x)$ взятых точках области определения $y^{(h)}$.\n",
    "\n",
    "__Примечание.__ Всё вышеперечисленное остаётся верным при трактовке $y$ и $f$ как векторов, т.е. рассмотрении систем дифференциальных уравнений."
   ]
  },
  {
   "cell_type": "markdown",
   "metadata": {
    "slideshow": {
     "slide_type": "fragment"
    }
   },
   "source": [
    "### __Сходимость__\n",
    "\n",
    "Введём __невязку__ как сеточную функцию\n",
    "\n",
    "$$\\delta^{(h)}=y^{(h)}-[y(x)]^{(h)}$$\n",
    "\n",
    "Тогда будем говорить, что метод \"сходится\" при\n",
    "\n",
    "$$\\quad\\left\\|\\delta^{(h)}\\right\\|_{h \\rightarrow 0} \\rightarrow 0$$\n",
    "\n",
    "При этом, если \n",
    "\n",
    "$$\\left\\|\\delta^{(h)}\\right\\|=O\\left(h^p\\right)$$\n",
    "\n",
    "то __сходимость имеет порядок $p$__.\n",
    "\n",
    "На практие её достаточно тяжело определить, т.к. нужно много знать про истинное решение $y(x)$ - нужны некоторые хитрости. Одну из таких хитростей мы рассматривали на семинаре по численному интегрированию - оценка погрешности по Рунге. \n",
    "\n",
    "### __Как оценивать порядок сходимости на практике__\n",
    "\n",
    "Введём $\\hat{y}^{(h)}$ - сеточная функция, полученная на основе значений $y^{(h)}$ взятых в каждой второй точке начиная с первой (размерности $\\hat{y}^{(h)}$ и $y^{(2 h)}$ совпадают, и там в два раза меньше точек, чем в $y^{(h)}$ - __но вычисляются они по-разному!__).\n",
    "\n",
    "Тогда __порядок сходимости__ можно явно оценить из следующего равенства:\n",
    "\n",
    "$$\n",
    "\\left\\|\\delta^{(h)}\\right\\|=\\left\\|y^{(h)}-[y(x)]^{(h)}\\right\\| \\approx const \\cdot \\left\\|\\hat{y}^{(h)}-y^{(2 h)}\\right\\|\n",
    "$$\n",
    "\n",
    "Последнюю величину вполне себе можно считать в ходе расчёта и смотреть её ассимптотику от $h$.\n",
    "\n",
    "__Доказательство:__\n",
    "\n",
    "Введём $e^{(h)}$ и $e^{(2 h)}$ - постоянные во всех точках сеточные функции, с единичной нормой. Пусть $p$ - порядок сходимости. Тогда\n",
    "\n",
    "$$\n",
    "y^{(h)}=[y(x)]^{(h)}+C h^{p} e^{(h)}\n",
    "$$\n",
    "\n",
    "$$\n",
    "y^{(2 h)}=[y(x)]^{(2 h)}+C(2 h)^{p} e^{(2 h)}\n",
    "$$\n",
    "\n",
    "$$\n",
    "\\hat{y}^{(h)}=[y(x)]^{(2 h)}+C h^{p} e^{(2 h)}\n",
    "$$\n",
    "\n",
    "Вычтем второе из третьего:\n",
    "\n",
    "$$\n",
    "C h^{p}\\left\\|e^{(2 h)}\\right\\| \\approx \\frac{\\left\\|\\hat{y}^{(h)}-y^{(2 h)}\\right\\|}{2^{p}-1}\n",
    "$$\n",
    "\n",
    "Заметим, что  $y^{(h)}-[y(x)]^{(h)} = C h^{p} e^{(h)}$.\n",
    "\n",
    "А тогда, т.к. $\\left\\|e^{(2 h)}\\right\\|=\\left\\|e^{(h)}\\right\\|=1$ получаем:\n",
    "\n",
    "$$\n",
    "\\left\\|\\delta^{(h)}\\right\\|=\\left\\|y^{(h)}-[y(x)]^{(h)}\\right\\| \\approx \\frac{\\left\\|\\hat{y}^{(h)}-y^{(2 h)}\\right\\|}{2^{p}-1} \n",
    "$$"
   ]
  },
  {
   "cell_type": "markdown",
   "metadata": {
    "slideshow": {
     "slide_type": "fragment"
    }
   },
   "source": [
    "### __Аппроксимация__\n",
    "\n",
    "Подействуем __разностным оператором__ на проекцию истинного (__!__) решения $\\hat{L}_{h}[y(x)]^{(h)}$. \n",
    "\n",
    "Посмотрим, решает ли эта проекция разностную задачу (если решает, то найденное в лоб решение разностной задачи является проекцией истинного решения в силу теоремы единственности).\n",
    "\n",
    "Введём сеточную функцию \n",
    "\n",
    "$$\\psi^{(h)}=\\hat{L}_{h}[y(x)]^{(h)}-F^{(h)}$$ \n",
    "\n",
    "Если $\\psi^{(h)}$ не ноль, то $[y(x)]^{(h)}$ - не является решением разностной задачи $\\hat{L}_{h} y^{(h)}=F^{(h)}$. А она при любых $h$ будет ненулевой :). \n",
    "\n",
    "Поэтому говорят, что данная разностная задача __аппроксимирует__ исходную задачу Коши, если\n",
    "\n",
    "$$\\left\\|\\psi^{(h)}\\right\\|_{h \\rightarrow 0} \\rightarrow 0$$ \n",
    "\n",
    "При этом, если $\\left\\|\\psi^{(h)}\\right\\|=O\\left(h^p\\right)$, то __аппроксимация имеет порядок $p$__.\n",
    "\n",
    "__Примечание.__ Аппроксимация не эквивалентна сходимости! Нужен ещё один параметр.\n",
    "\n",
    "__Примечание.__ Для определения порядка аппроксимации как правило не нужно знать истинное решение. Пример ниже."
   ]
  },
  {
   "cell_type": "markdown",
   "metadata": {
    "slideshow": {
     "slide_type": "fragment"
    }
   },
   "source": [
    "### __Устойчивость__ \n",
    "\n",
    "Введём возмущение на свободный член $\\delta F^{(h)}$, и найдём решение возмущённой разностной задачи\n",
    "\n",
    "$$\\quad \\hat{L}_{h} z^{(h)}=F^{(h)}+\\delta F^{(h)}$$\n",
    "\n",
    "__Определение 1.__ Считаем, что задача __устойчива__ к возмущению, при\n",
    "\n",
    "$$\\left\\|z^{(h)}-y^{(h)}\\right\\|<C\\left\\|\\delta F^{(h)}\\right\\|$$\n",
    "\n",
    "__Примечание.__ Норму можно брать любую на конечномерном векторном пространстве.\n",
    "\n",
    "Такое определение устойчивости не очень удобно на практике, поэтому вводят более узкое определение.\n",
    "\n",
    "__Определение 2.__ Разностная схема $\\hat{L}_{h} y^{(h)}=F^{(h)}$ называется __корректной__, если \n",
    "\n",
    "$$\n",
    "\\exists С>0: \\forall h > 0 \\; \\hookrightarrow \\; \\left\\|y^{(h)}\\right\\| \\leqslant С\\cdot \\left\\|F^{(h)} \\right\\|\n",
    "$$\n",
    "\n",
    "Заметим, что __из корректности следует устойчивость__."
   ]
  },
  {
   "cell_type": "markdown",
   "metadata": {
    "slideshow": {
     "slide_type": "slide"
    }
   },
   "source": [
    "## Теорема Рябенького-Лакса\n",
    "\n",
    "__Теорема.__ Решение разностной задачи __сходится__ к решению задачи Коши __тогда и только тогда__, когда разностная задача __устойчива__ и __аппроксимирует__ задачу Коши. При этом порядок аппроксимации равен порядку сходимости."
   ]
  },
  {
   "cell_type": "markdown",
   "metadata": {
    "slideshow": {
     "slide_type": "slide"
    }
   },
   "source": [
    "## Пример 1 исследования задачи\n",
    "\n",
    "Для решения задачи Коши\n",
    "\n",
    "$$\n",
    "y^{\\prime \\prime}+6 y^{\\prime}+5 y=0, \\quad y(0)=0, \\quad y^{\\prime}(0)=2, \\quad x \\in[0,1]\n",
    "$$\n",
    "\n",
    "предложена разностная схема (заметим, что начальные условия также также дискретизовали! Пояснение ниже.)\n",
    "\n",
    "$$\n",
    "\\left\\{\\begin{array}{l}\n",
    "\\cfrac{y_{l+1}-2 y_{l}+y_{l-1}}{h^{2}}+6 \\cfrac{y_{l+1}-y_{l-1}}{2 h}+5 y_{l}=0, \\quad l=2, \\ldots, L-1 \\\\\n",
    "y_{0}=0, \\quad y_{1}=2 h-6 h^{2}\n",
    "\\end{array}\\right.\n",
    "$$\n",
    "\n",
    "Опеределить порядок аппроксимации  и сравнить с порядком сходимости.\n",
    "\n",
    "__Примечание.__ Как дискретизовывать начальные (граничные) условия? В данном случае мы выбрали такую численную задачу, в которой для определения следующей точки $y_{l+1}$ нам нужно две предыдущих: $y_{l}, \\; y_{l-1}$. Следовательно, чтобы \"запустить\" алгоритм, нам нужно уже иметь две точки: $y_0$ и $y_1$.\n",
    "\n",
    "В \"идеале\" наше численное решение $y^{(h)}$ должно быть равно проекции истинного решения $[y(x)]^{(h)}$. Давайте эти самые первые точки постулируем равными первым точкам сеточной функции $[y(x)]^{(h)}$:\n",
    "\n",
    "$$\n",
    "y_0 \\stackrel{\\text{def}}{=} y(0) = 0\n",
    "$$\n",
    "\n",
    "$$\n",
    "y_1 \\stackrel{\\text{def}}{=} y(h) =  y(0) + y'(0) \\cdot h + \\frac{1}{2}y''(0)\\cdot h^2 + O( h^3) = 2h - 6h^2 + O( h^3)\n",
    "$$\n",
    "\n",
    "__Решение:__\n",
    "\n",
    "__Аппроксимация__ (напоминаю про обозначение $[y]^{(h)} = [y(x)]^{(h)}$):\n",
    "\n",
    "$$\n",
    "\\psi^{(h)}=\\hat{L}_{h}[y(x)]^{(h)}-F^{(h)}=\\left\\{\\begin{array}{l}\n",
    "{[y]_{0}-0} \\\\\n",
    "{[y]_{1}-2 h+6 h^{2}} \\\\\n",
    "\\cfrac{[y]_{l+1}-2[y]_{l}+[y]_{l-1}}{h^{2}}+6 \\cfrac{[y]_{l+1}-[y]_{l-1}}{2 h}+5[y]_{l}, \\quad l=2, \\ldots, L-1\n",
    "\\end{array}\\right. \n",
    "$$\n",
    "\n",
    "Обратите внимание на первую и вторую точки. В ней чисто технически у нас другая численная схема, поэтому равенство именно такое.\n",
    "\n",
    "Хотим понять ассимптотику этой сеточной функции при $h \\rightarrow 0$. Для этого воспользуемся свойствами проецирования и рядом Тейлора:\n",
    "\n",
    "$$\n",
    "\\begin{aligned}\n",
    "{[y(x)]_{l+1}=[y(x+h)]_{l} } &=\\left[y(x)+ h y^{\\prime}(x)+\\frac{(h)^{2}}{2} y^{\\prime \\prime}(x)+\\cdots+\\frac{(h)^{n}}{n !} y^{n}(x)+O\\left(h^{n+1}\\right)\\right]_{l}=\\\\\n",
    "&=[y]_{l}+h\\left[y^{\\prime}\\right]_{l}+\\frac{(h)^{2}}{2}\\left[y^{\\prime \\prime}\\right]_{l}+\\cdots+\\frac{(h)^{n}}{n !}\\left[y^{n}\\right]_{l}+O\\left(h^{n+1}\\right)\n",
    "\\end{aligned}\n",
    "$$  \n",
    "\n",
    "$$\n",
    "\\begin{aligned}\n",
    "{[y(x)]_{l-1}=[y(x-h)]_{l} } &=\\left[y(x)- h y^{\\prime}(x)+\\frac{(h)^{2}}{2} y^{\\prime \\prime}(x)+\\cdots+\\frac{(-h)^{n}}{n !} y^{n}(x)+O\\left(h^{n+1}\\right)\\right]_{l}=\\\\\n",
    "&=[y]_{l}-h\\left[y^{\\prime}\\right]_{l}+\\frac{(h)^{2}}{2}\\left[y^{\\prime \\prime}\\right]_{l}+\\cdots+\\frac{(-h)^{n}}{n !}\\left[y^{n}\\right]_{l}+O\\left(h^{n+1}\\right)\n",
    "\\end{aligned}\n",
    "$$  \n",
    "\n",
    "Подставляем всё в аппроксимацию:.\n",
    "\n",
    "$$ \\\\\n",
    "\\psi^{(h)}=\\left\\{\\begin{array}{l}\n",
    "0 \\\\\n",
    "\\\\\n",
    "{[y]_{0}+h\\left[y^{\\prime}\\right]_{0}+\\frac{h^{2}}{2}\\left[y^{\\prime \\prime}\\right]_{0}-2 h+6 h^{2}} +O\\left(h^{3}\\right) \\\\\n",
    "\\\\\n",
    "\\cfrac{[y]_{l}+h\\left[y^{\\prime}\\right]_{l}+\\frac{h^{2}}{2}\\left[y^{\\prime \\prime}\\right]_{l}+\\frac{h^{3}}{6}\\left[y^{\\prime \\prime \\prime}\\right]_{l}-2[y]_{l}+[y]_{l}-h\\left[y^{\\prime}\\right]_{l}+\\frac{h^{2}}{2}\\left[y^{\\prime \\prime}\\right]_{l}-\\frac{h^{3}}{6}\\left[y^{\\prime \\prime \\prime}\\right]_{l}+O\\left(h^{4}\\right)}{h^{2}} \\;+ \\\\\n",
    "\\quad \\quad \\quad + \\;6 \\; \\cfrac{[y]_{l}+h\\left[y^{\\prime}\\right]_{l}+\\frac{h^{2}}{2}\\left[y^{\\prime \\prime}\\right]_{l}+\\frac{h^{3}}{6}\\left[y^{\\prime \\prime \\prime}\\right]_{l}-[y]_{l}+h\\left[y^{\\prime}\\right]_{l}-\\frac{h^{2}}{2}\\left[y^{\\prime \\prime}\\right]_{l}+\\frac{h^{3}}{6}\\left[y^{\\prime \\prime \\prime}\\right]_{l}+O\\left(h^{4}\\right)}{2 h}+5[y]_{l}, \\quad l=2, \\ldots, L-1\n",
    "\\end{array}\\right.\n",
    "$$\n",
    "\n",
    "Упростим первые два слагаемых. Из начальных условий: $[y]_{0}=0,\\left[y^{\\prime}\\right]_{0}=2 ;$ из уравнения: $\\left[y^{\\prime \\prime}\\right]_{0}=-6\\left[y^{\\prime}\\right]_{0}-5[y]_{0}=-12$. \n",
    "\n",
    "В остальных слагаемых подставим выраженный из уравнения $y'''=-6y''-5y'$.\n",
    "\n",
    "$$\n",
    "\\begin{aligned}\n",
    "\\psi^{(h)} &=\\left\\{\\begin{array}{l}\n",
    "0 \\\\\n",
    "2 h-6 h^{2}+O\\left(h^{3}\\right)-2 h+6 h^{2} \\\\\n",
    "\\cfrac{h^{2}\\left[y^{\\prime \\prime}\\right]_{l}+O\\left(h^{4}\\right)}{h^{2}}+6 \\cfrac{2 h\\left[y^{\\prime}\\right]_{l}+\\cfrac{h^{3}}{3}\\left[y^{\\prime \\prime \\prime}\\right]_{l}}{2 h}+5[y]_{l}, \\quad l=2, \\ldots, L-1\n",
    "\\end{array}=\\right.\\\\\n",
    "&=\\left\\{\\begin{array} { l } \n",
    "{ 0 } \\\\\n",
    "{ O ( h ^ { 3 } ) } \\\\\n",
    "{ [ y ^ { \\prime \\prime } ] _ { l } + 6 [ y ^ { \\prime } ] _ { l } + 5 [ y ] _ { l } + O ( h ^ { 2 } ) , \\quad l = 2 , \\ldots , L - 1 }\n",
    "\\end{array}  \\quad = \\quad \\left\\{\\begin{array}{l}\n",
    "0 \\\\\n",
    "O\\left(h^{3}\\right) \\\\\n",
    "O\\left(h^{2}\\right), \\quad l=2, \\ldots, L-1\n",
    "\\end{array}\\right.\\right.\n",
    "\\end{aligned}\n",
    "$$\n",
    "\n",
    "Таким образом, $\\left\\|\\psi^{(h)}\\right\\|=\\max _{l}\\left|\\psi_{l}^{(h)}\\right| = O\\left(h^{2}\\right)$. Т.е. порядок аппроксимации равен двум. Заметим, что для анализа на аппроксимацию нам не понадобилось аналитически решать ДУ.\n",
    "\n",
    "Более того, порядок аппроксимации можно было определить сходу - численные производные имели 2-й порядок аппроксимации, а начальные условия вообще 3-й.\n",
    "\n",
    "__Сходимость__:\n",
    "\n",
    "Аналитическое решение задачи Коши:\n",
    "\n",
    "$$\n",
    "y(x) = \\cfrac{1}{2}  \\cdot \\left( e^{-x} - e^{-5x} \\right)\n",
    "$$\n",
    "\n",
    "Решение разностной схемы также можно явно получить, т.к. тут простая реккурента:\n",
    "\n",
    "$$\n",
    "\\left\\{\\begin{array}{l}\n",
    "y_{l+1} = \\cfrac{2 - 5h^2}{1 + 3h} y_l+\\cfrac{3 h - 1}{1 + 3h} y_{l-1}, \\quad l=2, \\ldots, L-1 \\\\\n",
    "y_{0}=0, \\quad y_{1}=2 h-6 h^{2}\n",
    "\\end{array}\\right.\n",
    "$$\n",
    "\n",
    "Используя sympy, можно легко получить общее решение этой реккуренты и, соответственно, вычислить ассимптотику невязки:\n",
    "\n",
    "$$\n",
    "\\left\\|\\delta^{(h)}\\right\\| =\\left\\|y^{(h)}-[y]^{(h)}\\right\\|=\\max _{l}\\left|y_{l}^{(h)}-[y]_{l}^{(h)}\\right|\n",
    "$$  "
   ]
  },
  {
   "cell_type": "code",
   "execution_count": 2,
   "metadata": {
    "ExecuteTime": {
     "end_time": "2024-03-16T03:56:07.113482Z",
     "start_time": "2024-03-16T03:56:06.445367Z"
    },
    "slideshow": {
     "slide_type": "fragment"
    }
   },
   "outputs": [
    {
     "data": {
      "text/latex": [
       "$\\displaystyle y_l=$"
      ],
      "text/plain": [
       "<IPython.core.display.Math object>"
      ]
     },
     "metadata": {},
     "output_type": "display_data"
    },
    {
     "data": {
      "text/latex": [
       "$\\displaystyle \\left(\\frac{- 5 h^{2} - h \\sqrt{25 h^{2} + 16} + 2}{2 \\left(3 h + 1\\right)}\\right)^{l} \\left(\\frac{18 h^{2}}{\\sqrt{25 h^{2} + 16}} - \\frac{2}{\\sqrt{25 h^{2} + 16}}\\right) + \\left(\\frac{- 5 h^{2} + h \\sqrt{25 h^{2} + 16} + 2}{2 \\left(3 h + 1\\right)}\\right)^{l} \\left(- \\frac{18 h^{2}}{\\sqrt{25 h^{2} + 16}} + \\frac{2}{\\sqrt{25 h^{2} + 16}}\\right)$"
      ],
      "text/plain": [
       "((-5*h**2 - h*sqrt(25*h**2 + 16) + 2)/(2*(3*h + 1)))**l*(18*h**2/sqrt(25*h**2 + 16) - 2/sqrt(25*h**2 + 16)) + ((-5*h**2 + h*sqrt(25*h**2 + 16) + 2)/(2*(3*h + 1)))**l*(-18*h**2/sqrt(25*h**2 + 16) + 2/sqrt(25*h**2 + 16))"
      ]
     },
     "metadata": {},
     "output_type": "display_data"
    },
    {
     "data": {
      "text/latex": [
       "$\\displaystyle \\delta_l = $"
      ],
      "text/plain": [
       "<IPython.core.display.Math object>"
      ]
     },
     "metadata": {},
     "output_type": "display_data"
    },
    {
     "data": {
      "text/latex": [
       "$\\displaystyle \\left(\\frac{- 5 h^{2} - h \\sqrt{25 h^{2} + 16} + 2}{2 \\left(3 h + 1\\right)}\\right)^{l} \\left(\\frac{18 h^{2}}{\\sqrt{25 h^{2} + 16}} - \\frac{2}{\\sqrt{25 h^{2} + 16}}\\right) + \\left(\\frac{- 5 h^{2} + h \\sqrt{25 h^{2} + 16} + 2}{2 \\left(3 h + 1\\right)}\\right)^{l} \\left(- \\frac{18 h^{2}}{\\sqrt{25 h^{2} + 16}} + \\frac{2}{\\sqrt{25 h^{2} + 16}}\\right) - \\frac{e^{- h l}}{2} + \\frac{e^{- 5 h l}}{2}$"
      ],
      "text/plain": [
       "((-5*h**2 - h*sqrt(25*h**2 + 16) + 2)/(2*(3*h + 1)))**l*(18*h**2/sqrt(25*h**2 + 16) - 2/sqrt(25*h**2 + 16)) + ((-5*h**2 + h*sqrt(25*h**2 + 16) + 2)/(2*(3*h + 1)))**l*(-18*h**2/sqrt(25*h**2 + 16) + 2/sqrt(25*h**2 + 16)) - exp(-h*l)/2 + exp(-5*h*l)/2"
      ]
     },
     "metadata": {},
     "output_type": "display_data"
    },
    {
     "data": {
      "text/latex": [
       "$\\displaystyle \\delta_l\\approx$"
      ],
      "text/plain": [
       "<IPython.core.display.Math object>"
      ]
     },
     "metadata": {},
     "output_type": "display_data"
    },
    {
     "data": {
      "text/latex": [
       "$\\displaystyle h^{2} \\left(6 l^{2} - 6 l \\left(l - 1\\right) - 6 l\\right) + h^{3} \\left(- \\frac{31 l^{3}}{3} + \\frac{31 l \\left(l - 2\\right) \\left(l - 1\\right)}{3} + 31 l \\left(l - 1\\right)\\right) + h^{4} \\left(13 l^{4} - 13 l \\left(l - 3\\right) \\left(l - 2\\right) \\left(l - 1\\right) - 78 l \\left(l - 2\\right) \\left(l - 1\\right) - 78 l \\left(l - 1\\right)\\right) + h^{5} \\left(- \\frac{781 l^{5}}{60} + \\frac{781 l \\left(l - 4\\right) \\left(l - 3\\right) \\left(l - 2\\right) \\left(l - 1\\right)}{60} + \\frac{781 l \\left(l - 3\\right) \\left(l - 2\\right) \\left(l - 1\\right)}{6} + \\frac{1015 l \\left(l - 2\\right) \\left(l - 1\\right)}{3} + 234 l \\left(l - 1\\right)\\right) + O\\left(h^{6}\\right)$"
      ],
      "text/plain": [
       "h**2*(6*l**2 - 6*l*(l - 1) - 6*l) + h**3*(-31*l**3/3 + 31*l*(l - 2)*(l - 1)/3 + 31*l*(l - 1)) + h**4*(13*l**4 - 13*l*(l - 3)*(l - 2)*(l - 1) - 78*l*(l - 2)*(l - 1) - 78*l*(l - 1)) + h**5*(-781*l**5/60 + 781*l*(l - 4)*(l - 3)*(l - 2)*(l - 1)/60 + 781*l*(l - 3)*(l - 2)*(l - 1)/6 + 1015*l*(l - 2)*(l - 1)/3 + 234*l*(l - 1)) + O(h**6)"
      ]
     },
     "metadata": {},
     "output_type": "display_data"
    }
   ],
   "source": [
    "from IPython.display import display, Math\n",
    "from sympy import symbols, Function, rsolve, limit, Rational, exp\n",
    "\n",
    "h = symbols('h')\n",
    "l = symbols('l', integer=True)\n",
    "y = Function('y')\n",
    "\n",
    "recurrence = y(l+1) - ((2-5*h**2)/(1+3*h))*y(l) - ((3*h-1)/(1+3*h))*y(l-1) # Определяем реккуренту\n",
    "\n",
    "solution = rsolve(recurrence, y(l), {y(0):0, y(1):2*h-6*h**2}) # Решаем реккуренту\n",
    "\n",
    "display(Math(\"$y_l=$\"))\n",
    "display(solution)\n",
    "\n",
    "delta = solution - Rational(1, 2)*(exp(-h*l) - exp(-5*h*l)) # Явным образом определяем невязку\n",
    "\n",
    "display(Math(\"$\\\\delta_l = $\"))\n",
    "display(delta)\n",
    "\n",
    "display(Math(\"$\\\\delta_l\\\\approx$\"))\n",
    "\n",
    "taylor_series = delta.series(h, 0) # Смотрим ассимптотику\n",
    "\n",
    "display(taylor_series)"
   ]
  },
  {
   "cell_type": "markdown",
   "metadata": {
    "slideshow": {
     "slide_type": "fragment"
    }
   },
   "source": [
    "Видим первый ненулевой член невязки оказался ~ $h^2$. \n",
    "\n",
    "То есть, порядок сходимости оказался равен двум - такой же как и порядок аппроксимации, как и должно быть по теореме Рябенького-Лакса.\n",
    "\n",
    "Отметим, что аналитически найти порядок сходимости можно примерно никогда, т.к. \n",
    "\n",
    "1. Аналитическое решение может быть неизвестно\n",
    "2. Практически никогда нельзя аналитически решить разностную задачу - для этого нам компьютор и нужон\n",
    "\n",
    "Таким образом, если определить порядок аппроксимации можно всегда, то для определения сходимости нам нужно дополнительно научиться определять, устойчив ли метод."
   ]
  },
  {
   "cell_type": "markdown",
   "metadata": {
    "slideshow": {
     "slide_type": "slide"
    }
   },
   "source": [
    "## Пример 2 - Аппроксимация начальных условий с произвольной точностью\n",
    "\n",
    "Решим ещё одну задачку.\n",
    "\n",
    "Пусть имеем сложную задачу Коши:\n",
    "    \n",
    "$$\n",
    "\\left\\{\\begin{array}{l}\n",
    "y^{\\prime \\prime}+\\cfrac{1+x}{1+x^2} y^{\\prime}+\\cos (x) y=\\cfrac{1}{1+x^2}, \\quad   x \\geq 1 \\\\\n",
    "y(1)=3, \\quad y'(1)=-1\n",
    "\\end{array}\\right.\n",
    "$$\n",
    "\n",
    "Необходимо аппроксимировать начальные условия с произвольной заданной точностью.\n",
    "\n",
    "Зачем? Нам может понадобится более чем две точки для старта алгоритма. Научимся сразу же приближать их с нужной точностью (порядком аппроксимации).\n",
    "\n",
    "Сначала поймём, что любая производная в начальной точке $y^{(k)}(1)$ нам известна - её легко можно выразить из уравнения, беря от него производные и подставляя предыдущие найденные значения. С помощью sympy вычислим первые 5 производных. "
   ]
  },
  {
   "cell_type": "code",
   "execution_count": 12,
   "metadata": {
    "ExecuteTime": {
     "end_time": "2024-03-16T03:59:36.980893Z",
     "start_time": "2024-03-16T03:59:36.669397Z"
    },
    "slideshow": {
     "slide_type": "fragment"
    }
   },
   "outputs": [
    {
     "name": "stdout",
     "output_type": "stream",
     "text": [
      "Истинные начальные условия:\n"
     ]
    },
    {
     "data": {
      "text/latex": [
       "$ y^{(0)} (1)$ = $3$"
      ],
      "text/plain": [
       "<IPython.core.display.Latex object>"
      ]
     },
     "metadata": {},
     "output_type": "display_data"
    },
    {
     "data": {
      "text/latex": [
       "$ y^{(1)} (1)$ = $-1$"
      ],
      "text/plain": [
       "<IPython.core.display.Latex object>"
      ]
     },
     "metadata": {},
     "output_type": "display_data"
    },
    {
     "data": {
      "text/latex": [
       "$ y^{(2)} (1)$ = $\\frac{3}{2} - 3 \\cos{\\left(1 \\right)}$"
      ],
      "text/plain": [
       "<IPython.core.display.Latex object>"
      ]
     },
     "metadata": {},
     "output_type": "display_data"
    },
    {
     "data": {
      "text/latex": [
       "$ y^{(3)} (1)$ = $- \\frac{5}{2} + 4 \\cos{\\left(1 \\right)} + 3 \\sin{\\left(1 \\right)}$"
      ],
      "text/plain": [
       "<IPython.core.display.Latex object>"
      ]
     },
     "metadata": {},
     "output_type": "display_data"
    },
    {
     "data": {
      "text/latex": [
       "$ y^{(4)} (1)$ = $- 5 \\sin{\\left(1 \\right)} - \\frac{11 \\cos{\\left(1 \\right)}}{2} + \\frac{3 \\cos{\\left(2 \\right)}}{2} + 6$"
      ],
      "text/plain": [
       "<IPython.core.display.Latex object>"
      ]
     },
     "metadata": {},
     "output_type": "display_data"
    }
   ],
   "source": [
    "from IPython.display import display, Math, Latex\n",
    "import sympy as sp\n",
    "\n",
    "x = sp.symbols('x')\n",
    "y = sp.Function('y')(x)\n",
    "\n",
    "k = 5\n",
    "\n",
    "# Define the differential equation\n",
    "DE = y.diff(x, 2) + (1+x)/(1+x**2)*y.diff(x) + sp.cos(x)*y - 1/(1+x**2)\n",
    "\n",
    "# Define the initial conditions\n",
    "init_conds = {y.subs(x, 1): 3, y.diff(x).subs(x, 1): -1}\n",
    "\n",
    "# Solve for the derivatives at x=1\n",
    "for i in range(2, k):\n",
    "    \n",
    "    DE_derivatived = DE.diff(x, i - 2).subs(x, 1)\n",
    "    \n",
    "    deriv = y.diff(x, i).subs(x, 1)\n",
    "    \n",
    "    sol = sp.solve(\n",
    "                    DE_derivatived.subs(init_conds),\n",
    "                    deriv,\n",
    "                    list = True\n",
    "                  )[0].simplify()\n",
    "\n",
    "    init_conds[deriv] = sol\n",
    "\n",
    "# Print the results\n",
    "print(\"Истинные начальные условия:\")\n",
    "for i in range(0, k):\n",
    "    deriv = y.diff(x, i)\n",
    "    _ = \"$ y^{(\"+ str(i)  + \")} (1)$ = $\" + sp.pretty(sp.latex(init_conds[deriv.subs(x, 1)])) + \"$\"\n",
    "    display(Latex(_))"
   ]
  },
  {
   "cell_type": "markdown",
   "metadata": {
    "slideshow": {
     "slide_type": "fragment"
    }
   },
   "source": [
    "Далее определим произвольное количество первых точек искомого решения $y^{(h)}$ через Тейлора. Напомним, что для начальных условий в данном случае:\n",
    "\n",
    "$$\n",
    "y_n \\stackrel{\\text{def}}{=} y(1 + n \\cdot h)\n",
    "$$"
   ]
  },
  {
   "cell_type": "code",
   "execution_count": 14,
   "metadata": {
    "ExecuteTime": {
     "end_time": "2024-03-16T04:01:40.841196Z",
     "start_time": "2024-03-16T04:01:40.744078Z"
    },
    "slideshow": {
     "slide_type": "fragment"
    }
   },
   "outputs": [
    {
     "name": "stdout",
     "output_type": "stream",
     "text": [
      "Дискретизованные начальные условия с произвольной точностью:\n"
     ]
    },
    {
     "data": {
      "text/latex": [
       "$ y_{0}$ = $3$"
      ],
      "text/plain": [
       "<IPython.core.display.Latex object>"
      ]
     },
     "metadata": {},
     "output_type": "display_data"
    },
    {
     "data": {
      "text/latex": [
       "$ y_{1}$ = $3 - h + \\frac{h^{2} \\cdot \\left(\\frac{3}{2} - 3 \\cos{\\left(1 \\right)}\\right)}{2} + \\frac{h^{3} \\left(- \\frac{5}{2} + 4 \\cos{\\left(1 \\right)} + 3 \\sin{\\left(1 \\right)}\\right)}{6} + \\frac{h^{4} \\left(- 5 \\sin{\\left(1 \\right)} - \\frac{11 \\cos{\\left(1 \\right)}}{2} + \\frac{3 \\cos{\\left(2 \\right)}}{2} + 6\\right)}{24} + O\\left(h^{5}\\right)$"
      ],
      "text/plain": [
       "<IPython.core.display.Latex object>"
      ]
     },
     "metadata": {},
     "output_type": "display_data"
    },
    {
     "data": {
      "text/latex": [
       "$ y_{2}$ = $3 - 2 h + 2 h^{2} \\cdot \\left(\\frac{3}{2} - 3 \\cos{\\left(1 \\right)}\\right) + \\frac{4 h^{3} \\left(- \\frac{5}{2} + 4 \\cos{\\left(1 \\right)} + 3 \\sin{\\left(1 \\right)}\\right)}{3} + \\frac{2 h^{4} \\left(- 5 \\sin{\\left(1 \\right)} - \\frac{11 \\cos{\\left(1 \\right)}}{2} + \\frac{3 \\cos{\\left(2 \\right)}}{2} + 6\\right)}{3} + O\\left(h^{5}\\right)$"
      ],
      "text/plain": [
       "<IPython.core.display.Latex object>"
      ]
     },
     "metadata": {},
     "output_type": "display_data"
    },
    {
     "data": {
      "text/latex": [
       "$ y_{3}$ = $3 - 3 h + \\frac{9 h^{2} \\cdot \\left(\\frac{3}{2} - 3 \\cos{\\left(1 \\right)}\\right)}{2} + \\frac{9 h^{3} \\left(- \\frac{5}{2} + 4 \\cos{\\left(1 \\right)} + 3 \\sin{\\left(1 \\right)}\\right)}{2} + \\frac{27 h^{4} \\left(- 5 \\sin{\\left(1 \\right)} - \\frac{11 \\cos{\\left(1 \\right)}}{2} + \\frac{3 \\cos{\\left(2 \\right)}}{2} + 6\\right)}{8} + O\\left(h^{5}\\right)$"
      ],
      "text/plain": [
       "<IPython.core.display.Latex object>"
      ]
     },
     "metadata": {},
     "output_type": "display_data"
    },
    {
     "data": {
      "text/latex": [
       "$ y_{4}$ = $3 - 4 h + 8 h^{2} \\cdot \\left(\\frac{3}{2} - 3 \\cos{\\left(1 \\right)}\\right) + \\frac{32 h^{3} \\left(- \\frac{5}{2} + 4 \\cos{\\left(1 \\right)} + 3 \\sin{\\left(1 \\right)}\\right)}{3} + \\frac{32 h^{4} \\left(- 5 \\sin{\\left(1 \\right)} - \\frac{11 \\cos{\\left(1 \\right)}}{2} + \\frac{3 \\cos{\\left(2 \\right)}}{2} + 6\\right)}{3} + O\\left(h^{5}\\right)$"
      ],
      "text/plain": [
       "<IPython.core.display.Latex object>"
      ]
     },
     "metadata": {},
     "output_type": "display_data"
    }
   ],
   "source": [
    "x = sp.symbols('x')\n",
    "h = sp.symbols('h')\n",
    "\n",
    "y = Function('y')\n",
    "\n",
    "N = 6\n",
    "\n",
    "print(\"Дискретизованные начальные условия с произвольной точностью:\")\n",
    "for i in range(len(init_conds.keys())):\n",
    "    y_curr = (y(1 + i*h).series(h, 0, 5).xreplace(init_conds)) # xreplace for reccurent expressions\n",
    "    \n",
    "    _ = \"$ y_{\"+ str(i)  + \"}$ = $\" + sp.pretty(sp.latex(y_curr), wrap_line = False) + \"$\"\n",
    "    display(Latex(_))\n",
    "    "
   ]
  },
  {
   "cell_type": "markdown",
   "metadata": {
    "slideshow": {
     "slide_type": "slide"
    }
   },
   "source": [
    "## Канонический вид двухслойной схемы\n",
    "\n",
    "Пусть имеем произвольную задачу Коши с любой старшей производной. Из курса диффуров знаем, что её всегда можно переписать  в виде системы:\n",
    "\n",
    "$$\n",
    "\\frac{d \\mathbf{u}}{d t}=\\mathbf{f}(t, \\mathbf{u}), \\quad t>0, \\quad \\mathbf{u}(0)=\\mathbf{u_0} , \\quad \\mathbf{u}: \\mathbb{R} \\rightarrow\t\\mathbb{R}^N , \\quad \\mathbf{f} : \\mathbb{R}^{N+1} \\rightarrow\t\\mathbb{R}^N\n",
    "$$\n",
    "\n",
    "которую формально можно записать в операторном виде:\n",
    "\n",
    "$$\n",
    "\\hat{L} \\; \\mathbf{u}(t)=\\mathbf{f}(t, \\mathbf{u})\n",
    "$$\n",
    "\n",
    "и поставить ей в соответствие разностную схему (__дискретизация__):\n",
    "\n",
    "$$\n",
    "\\hat{L}_{h} \\mathbf{y}^{(h)}=\\mathbf{F}^{(h)}\n",
    "$$\n",
    "\n",
    "Пусть эта схема двухслойная (т.е. $\\mathbf{y}_{n+1}$ может зависеть только от $\\mathbf{y}_{n}$).\n",
    "\n",
    "__Определение.__ __Каноническая форма__ двухслойной схемы - это схема в виде:\n",
    "\n",
    "$$\n",
    "\\mathbf{y}_{n+1}=\\hat{R}_h \\cdot \\mathbf{y}_n+h \\cdot \\mathbf{\\rho}_n\n",
    "$$\n",
    "\n",
    "где явно выделен так называемый __оператор послойного перехода__ $\\hat{R}_h$. Естественно, этот оператор должен быть линеен, и действует только на $\\mathbf{y}_n$.\n",
    "\n",
    "Каноническую форму можно всегда вывести из обычного вида численной схемы.\n",
    "\n",
    "Для решения разностной задачи каноническая форма, в общем-то, бесполезна, т.к. в общем случае для её нахождения необходимо линеаризировать истинное решение диффура. Тем не менее, оператор оператор перехода $\\hat{R}_h$ не будет зависеть в явном виде от истинного решения, что даёт нам возможность анализировать через него систему на устойчивость."
   ]
  },
  {
   "cell_type": "markdown",
   "metadata": {
    "slideshow": {
     "slide_type": "fragment"
    }
   },
   "source": [
    "__Пример.__ Найдём канонический вид неявной схемы Эйлера.\n",
    "\n",
    "Пусть имеем ОДУ:\n",
    "\n",
    "$$u^{\\prime}=f(t, u), \\quad u(0)=u_0$$\n",
    "\n",
    "Неявная схема Эйлера имеет вид:\n",
    "\n",
    "$$\n",
    "\\frac{y_{n+1}-y_n}{\\tau}=f\\left(t_{n+1}, y_{n+1}\\right), \\quad y_0=u_0 .\n",
    "$$\n",
    "\n",
    "Перепишем разностную схему в виде\n",
    "\n",
    "$$\n",
    "y_{n+1}=y_n+\\tau f\\left(t_{n+1}, y_{n+1}\\right) \n",
    "$$\n",
    "\n",
    "Хотим избавиться от $y_{n+1}$ в нелинейной в общем случае $f$. Пусть $\\varphi(t)=y(t)$ - истинное (математическое) решение. Для малых $\\tau$ отклонение от истинной траектории будет невилико. Таким образом, раскладывая вблизи истинной траектории:\n",
    "\n",
    "$$\n",
    "f\\left(t_{n+1}, y_{n+1}\\right) \\approx f\\left(t_{n+1}, \\; \\varphi \\left(t_{n} \\right)\\right)+\\frac{\\partial f}{\\partial u}\\left(y_{n+1}-\\varphi(t_{n})\\right)\n",
    "$$\n",
    "\n",
    "А тогда канонический вид:\n",
    "\n",
    "$$\n",
    "y_{n+1}=\\hat{R}_\\tau y_n+\\tau \\rho_n\n",
    "$$\n",
    "\n",
    "$$\n",
    "\\hat{R}_\\tau=\\left(1-\\tau \\left.\\frac{\\partial f}{\\partial u}\\right|_{(y_n, \\, t_n)}\\right)^{-1}, \\quad \\rho_n=f\\left(t_{n+1}, \\varphi(t_{n})\\right)-\\left.\\frac{\\partial f}{\\partial u}\\right|_{(y_n,\\, t_n)} \\varphi(t_{n})\n",
    "$$\n",
    "\n",
    "Как и было обещано, $\\hat{R}_\\tau$ не зависит от истинного решения $\\varphi(t)$, но зависит от локального положения траектории.\n",
    "\n",
    "Также отметим, что в общем случае (системы ОДУ), $\\frac{\\partial f}{\\partial u}$ - матрица Якоби и $\\hat{R}_\\tau$ является именно матрицей."
   ]
  },
  {
   "cell_type": "markdown",
   "metadata": {
    "slideshow": {
     "slide_type": "slide"
    }
   },
   "source": [
    "## Исследование устойчивости. Спектральный признак Фон Неймана\n",
    "\n",
    "__Теорема (достаточное условие устойчивости, спектральный признак Фон Неймана).__ Пусть имеем записанную в каноническом виде систему $\\mathbf{y}_{n+1}=\\hat{R}_h \\cdot \\mathbf{y}_n+h \\cdot \\mathbf{\\rho}_n$. Тогда для её корректности (а значит и устойчивости) на любом отрезке интегрирования достаточно выполнения в каждой точке траектории\n",
    "\n",
    "$$\n",
    "\\exists C_2: \\forall n \\; \\hookrightarrow \\;\\left\\|\\mathbf{\\rho}_n\\right\\| \\leq C_2\\|\\mathbf{f}\\| \\; \\; \\text{и} \\; \\; \\left\\|\\mathbf{y}_0\\right\\| \\leq C_2\\|\\mathbf{f}\\|\n",
    "$$\n",
    "\n",
    "$$\n",
    "\\forall \\lambda_i \\hookrightarrow \\left\\|\\lambda_i\\right\\| \\leq 1\n",
    "$$\n",
    "\n",
    "где $\\lambda_i$ - собственные числа матрицы послойного перехода $\\hat{R}_h$.\n",
    "\n",
    "__Примечание.__ Условие в первой строчке должны быть выполнены в каждой точке траектории, т.е. на практике проверяются пост-фактум."
   ]
  },
  {
   "cell_type": "markdown",
   "metadata": {
    "slideshow": {
     "slide_type": "fragment"
    }
   },
   "source": [
    "### Доказательство спектрального признака Фон Неймана\n",
    "\n",
    "Прежде чем её доказать, введём леммку, условия которой дополнительно ограничивают вышенаписанную теорему.\n",
    "\n",
    "\n",
    "__Лемма.__ Пусть разностная схема $\\hat{L}_\\tau y^{(\\tau)}=f^{(\\tau)}$ приведена к каноническому виду $y_{n+1}=\\hat{R}_\\tau \\cdot y_n+\\tau \\cdot \\rho_n$, и выполнены неравенства:\n",
    "\n",
    "\n",
    "$$\n",
    "\\left\\|y_0\\right\\| \\leq C_2\\|\\mathbf{f}\\| \n",
    "$$\n",
    "\n",
    "$$\n",
    "\\left\\|\\rho_n\\right\\| \\leq C_2\\|\\mathbf{f}\\|\n",
    "$$\n",
    "\n",
    "Тогда для корректности $\\left\\|y^{(\\tau)}\\right\\| \\leq C\\|f^{(\\tau)}\\|$ (а значит и для устойчивости) достаточно, чтобы нормы степеней оператора $\\left\\|\\hat{R}_\\tau^m\\right\\|$ были равномерно по $\\tau$ ограничены, т.е. чтобы выполнялась оценка\n",
    "\n",
    "$$\n",
    "\\exists C_3 > 0: \\; \\forall \\tau \\in [0, \\; \\tau_0], \\;\\; \\forall m \\geq 1 \\; \\hookrightarrow \\; \\left\\|\\hat{R}_\\tau^m\\right\\| \\leq C_3\n",
    "$$\n",
    "\n",
    "При этом в качестве числа С может быть взята величина ($T$ - общая длина отрезка вычисляемой траектории):\n",
    "\n",
    "$$\n",
    "C=(1+T) \\cdot C_2 C_3 \n",
    "$$\n",
    "\n",
    "Откуда видим, что чем ближе $C_3$ к 1, тем лучше устойчивость.\n",
    "\n",
    "__Доказательство спектрального признака Фон Неймана__\n",
    "\n",
    "Для проверки выполнения требования\n",
    "\n",
    "$$\\left\\|\\hat{R}_\\tau^m\\right\\| \\leq C_3$$\n",
    "\n",
    "можно воспользоваться _необходимым спектральным признаком устойчивости_. \n",
    "\n",
    "Для нормы оператора справедливо неравенство (см. семинар 1.4):\n",
    "\n",
    "$$\n",
    "\\left\\|\\hat{R}_\\tau\\right\\| \\leq \\max _i\\left|\\lambda_i\\right|\n",
    "$$\n",
    "\n",
    "Тогда для выполнения требования $\\left\\|\\hat{R}_\\tau^m\\right\\| \\leq C_3$ необходимо, чтобы __все собственные значения__ оператора послойного перехода (которые являются функциями чисел $t, u$, т.к. матрица $\\hat{R}_\\tau$ сама зависит от $t, u$) __лежали в круге__ (см. семинар 3.3):\n",
    "\n",
    "$$\n",
    "\\exists c\\geq0: \\; \\forall i, t, u \\; \\hookrightarrow \\; \\left|\\lambda_i\\right| \\leq 1+c \\tau\n",
    "$$\n",
    "\n",
    "при этом постоянная $c$ не должна зависеть от сеточных параметров. Математически, можем определить $c$ как:\n",
    "\n",
    "$$\n",
    "c = \\max{\\left(\\cfrac{\\max_{i, t, \\mathbf{u}} \\left|\\lambda_i\\right| - 1}{\\tau}, \\;\\; 0\\right)}\n",
    "$$\n",
    "\n",
    "А тогда при выполнении условия выше имеем ($N = \\frac{T}{\\tau}$ - общее количество шагов интегрирования):\n",
    "\n",
    "$$\n",
    "\\left\\|\\hat{R}_\\tau^m\\right\\| \\leq \\max _i\\left|\\lambda_i\\right|^m \\leq |1+c \\tau|^m \\leq e^{c \\tau \\cdot m} \\leq e^{c \\tau N} = e^{cT} = C_3\n",
    "$$\n",
    "\n",
    "__Определение.__ Если получается выбрать только $c>0$ (что эквивалентно $\\exists \\lambda_i : \\left\\| \\lambda_i \\right\\| >1 $), то устойчивость называется __нестрогой__, так как можем обеспечить устойчивость только на на коротком интервале $T$ из условия малости $c \\cdot T \\approx 0$. Более того, устремление $\\tau \\rightarrow 0$ даёт $c \\rightarrow +\\infty$, что отвечает бесконечному росту $\\left\\|\\hat{R}_\\tau^m\\right\\|$, что делает нашу оценку бессмысленной - надо делать дополнительный анализ.\n",
    "\n",
    "__Определение.__ Если можно выбрать $c=0$ (что эквивалентно $\\forall \\lambda_i \\hookrightarrow \\left\\| \\lambda_i \\right\\| \\leq1 $), то устойчивость называется __строгой__. В этом случае устойчивость формально сохраняется при бесконечном $T$. Это необходимо при расчетах диффуров на неограниченных (заранее неизвестных какой длины) интервалах и возможности устремления $\\tau \\rightarrow 0$. Более того, только в этом случае при $\\tau \\rightarrow 0$ оценка выше доказывает устойчивость. Это и есть __достаточное условие устойчивости__. \n",
    "\n",
    "Явные методы, как правило, условно устойчивы - т.е. мы не можем до бесконечности понижать шаг $\\tau$. Неявные методы лишены этого недостатка, однако при их использовании приходится решать систему алгебраических уравнений, вообще говоря, нелинейную.\n",
    "\n",
    "__Вывод.__ Если со строгой устойчивостью всё понятно - тут всё хорошо, то с нестрогой нужно делать дополнительный анализ. Главное из этого пункта уяснить, что __собственные числа матрицы послойного перехода $\\hat{R}_\\tau$ связаны со сходимостью__."
   ]
  },
  {
   "cell_type": "markdown",
   "metadata": {
    "slideshow": {
     "slide_type": "slide"
    }
   },
   "source": [
    "## Исследование устойчивости. Алгоритм Далквиста\n",
    "\n",
    "Иной подход к анализу устойчивости даёт __метод Далквиста__. Он основан на исследовании нашего метода дисктритизации для модельного семейства систем ОДУ.\n",
    "\n",
    "Пусть имеем произвольную задачу Коши (записанную в виде системы):\n",
    "\n",
    "$$\n",
    "\\frac{d \\mathbf{u}}{d x}=\\mathbf{f}(x, \\mathbf{u}), \\quad x>0, \\quad \\mathbf{u}(0)=\\mathbf{u_0} , \\quad \\mathbf{u}: \\mathbb{R} \\rightarrow\t\\mathbb{R}^N , \\quad \\mathbf{f} : \\mathbb{R^{N+1}} \\rightarrow\t\\mathbb{R}^N\n",
    "$$\n",
    "\n",
    "Поставим ей в соответствие разностную схему __по__ какому-то __алгоритму дискретизации__:\n",
    "\n",
    "$$\n",
    "\\hat{L}_{h} \\mathbf{y}^{(h)}=\\mathbf{F}^{(h)}\n",
    "$$\n",
    "\n",
    "Хотим проверить, __устойчив ли наш алгоритм дискретизации__. Один из способов - использовать __уравнение Далквиста__ (явно подставили $\\mathbf{f}(x, \\mathbf{u}) =\\lambda \\mathbf{u}$):\n",
    "\n",
    "$$\n",
    "\\mathbf{u}^{\\prime}=\\lambda \\mathbf{u}\n",
    "$$\n",
    "\n",
    "Здесь константа $\\lambda$ играет роль какого-либо собственного значения матрицы Якоби исходной системы ОДУ и может принимать комплексные значения.\n",
    "\n",
    "Дискритизованная версия по ранее определенному алгоритму, записанная в каноническом виде, будет выглядеть как:\n",
    "\n",
    "$$\n",
    "\\mathbf{y}_{n+1}=\\hat{R}_h \\cdot \\mathbf{y}_n+h \\cdot {\\mathbf{\\rho}_n}=\\hat{R}_h \\cdot \\mathbf{y}_n\n",
    "$$\n",
    "\n",
    "$$\n",
    "\\mathbf{y}_{n+1}=\\hat{R}_h \\cdot \\mathbf{y}_n\n",
    "$$\n",
    "\n",
    "Т.е. в случае рассмотрения уравнения Далквиста, часть $\\mathbf{\\rho}_n$ всегда зануляется из-за линейности $\\mathbf{f}(x, \\mathbf{u}) =\\lambda \\mathbf{u}$. Поэтому уравнение Далквиста и классное.\n",
    "\n",
    "Более того, оператор послойного перехода будет явной функцией от $z = \\lambda \\cdot h \\in \\mathbb{C}$ (т.к. $\\frac{\\mathbf{du}}{dx}=\\lambda \\mathbf{u}  \\Leftrightarrow \\frac{\\mathbf{du}}{d(\\lambda x)}= \\mathbf{u}$). То есть можем обозначить $\\hat{R}_h = R(z)$. Тогда в итоге можем записать,\n",
    "\n",
    "$$\n",
    "\\mathbf{y}_{n+1}=R(z) \\mathbf{y}_n, \\quad z=\\lambda h\n",
    "$$\n",
    "\n",
    "где $R(z)$ теперь называется __разрешающим оператором__ и одновременно __функцией устойчивости__. Стоит различать функцию учтойчивости и оператор послойного перехода, т.к. первое вводится только для уравнения Далквиста. В духе спектрального признака Фон Неймана разумно ввести следующее определение:\n",
    "\n",
    "__Определение 1.__ Множество $S=\\{z=h \\lambda \\in \\mathbb{C}, \\left\\|R(z)\\right\\| \\leq 1\\}$ называется **областью (абсолютной) устойчивости** данного метода. Для понимания, почему эта область важна, см. доказательство спектрального признака Фон Неймана выше.\n",
    "\n",
    "__Примечание.__ На практике, устойчивость в конкретной точке траектории определяется из условия $h \\cdot \\lambda (y_n, t_n) \\in S$, где $\\lambda (y_n, t_n)$ - все собственные числа матрицы Якоби в данной точке.\n",
    "\n",
    "Найдём область убсолютной устойчивости какого-нибудь метода."
   ]
  },
  {
   "cell_type": "markdown",
   "metadata": {
    "slideshow": {
     "slide_type": "fragment"
    }
   },
   "source": [
    "__Пример 1.__ Область устойчивости явного метода Эйлера.\n",
    "\n",
    "Напишем явный метод Эйлера:\n",
    "\n",
    "$$\n",
    "\\frac{y_{n+1}-y_n}{\\tau}=f(t_n, y_n), \\quad y_0=a, \\quad n=0,1, \\ldots,\n",
    "$$\n",
    "\n",
    "В контексте уравнения Далквиста ($f=\\lambda y$)\n",
    "\n",
    "$$\n",
    "\\frac{y_{n+1}-y_n}{\\tau}=\\lambda y_n, \\quad y_0=a, \\quad n=0,1, \\ldots,\n",
    "$$\n",
    "\n",
    "откуда следует\n",
    "\n",
    "$$\n",
    "y_{n+1}=(1+\\tau \\lambda) y_n\n",
    "$$\n",
    "\n",
    "Т.е. функция устойчивости имеет вид\n",
    "\n",
    "$$\n",
    "R(z)=1+z\n",
    "$$\n",
    "\n",
    "Нарисуем область устойчивости:"
   ]
  },
  {
   "cell_type": "code",
   "execution_count": 2,
   "metadata": {
    "ExecuteTime": {
     "end_time": "2024-03-16T04:10:18.996623Z",
     "start_time": "2024-03-16T04:10:18.819976Z"
    },
    "slideshow": {
     "slide_type": "fragment"
    }
   },
   "outputs": [
    {
     "data": {
      "text/latex": [
       "$\\displaystyle \\left|{z + 1}\\right| < 1$"
      ],
      "text/plain": [
       "Abs(z + 1) < 1"
      ]
     },
     "metadata": {},
     "output_type": "display_data"
    },
    {
     "data": {
      "text/latex": [
       "$\\displaystyle \\sqrt{x^{2} + 2 x + y^{2} + 1} < 1$"
      ],
      "text/plain": [
       "sqrt(x**2 + 2*x + y**2 + 1) < 1"
      ]
     },
     "metadata": {},
     "output_type": "display_data"
    },
    {
     "data": {
      "image/png": "[encoded data removed]",
      "text/plain": [
       "<Figure size 432x288 with 1 Axes>"
      ]
     },
     "metadata": {
      "needs_background": "light"
     },
     "output_type": "display_data"
    },
    {
     "data": {
      "text/plain": [
       "<sympy.plotting.plot.Plot at 0x1e849f78e20>"
      ]
     },
     "execution_count": 2,
     "metadata": {},
     "output_type": "execute_result"
    }
   ],
   "source": [
    "from sympy import symbols, Abs\n",
    "from sympy import I\n",
    "from sympy.plotting import plot_implicit\n",
    "\n",
    "# Define the variable z\n",
    "z = symbols('z', complex=True)\n",
    "x, y = symbols('x y', real=True)\n",
    "# Define the function R\n",
    "R = 1 + z\n",
    "\n",
    "# Define the absolute value of R\n",
    "abs_R = Abs(R)\n",
    "\n",
    "# Define the condition for the set |R(z)|<1\n",
    "cond = abs_R < 1\n",
    "display(cond)\n",
    "\n",
    "z_number = x + I*y\n",
    "cond = cond.subs(z, z_number)\n",
    "\n",
    "display(cond)\n",
    "# Plot the set where |R(z)|<1\n",
    "\n",
    "plot_implicit(cond, adaptive = False,\n",
    "              title='Область устойчивости явной схемы Эйлера',\n",
    "              xlabel='Real part of z', ylabel='Imaginary part of z')"
   ]
  },
  {
   "cell_type": "markdown",
   "metadata": {
    "slideshow": {
     "slide_type": "fragment"
    }
   },
   "source": [
    "Т.е. явная схема Эйлера устойчива только для не слишком быстро затухающих процессов с \"несильными\" осцилляциями. "
   ]
  },
  {
   "cell_type": "markdown",
   "metadata": {
    "ExecuteTime": {
     "end_time": "2023-03-05T21:57:15.954123Z",
     "start_time": "2023-03-05T21:57:15.948915Z"
    },
    "slideshow": {
     "slide_type": "fragment"
    }
   },
   "source": [
    "__Пример 1.__ Область устойчивости неявного метода Эйлера.\n",
    "\n",
    "Напишем неявный метод Эйлера:\n",
    "\n",
    "$$\n",
    "\\frac{y_{n+1}-y_n}{\\tau}=f(t_{n+1}, y_{n+1}), \\quad y_0=a, \\quad n=0,1, \\ldots,\n",
    "$$\n",
    "\n",
    "В контексте уравнения Далквиста ($f=\\lambda y$)\n",
    "\n",
    "$$\n",
    "\\frac{y_{n+1}-y_n}{\\tau}=\\lambda y_{n+1}, \\quad y_0=a, \\quad n=0,1, \\ldots,\n",
    "$$\n",
    "\n",
    "откуда следует\n",
    "\n",
    "$$\n",
    "y_{n+1}=\\cfrac{y_n}{(1-\\tau \\lambda)}\n",
    "$$\n",
    "\n",
    "Т.е. функция устойчивости имеет вид\n",
    "\n",
    "$$\n",
    "R(z)=\\cfrac{1}{1-z}\n",
    "$$\n",
    "\n",
    "Нарисуем область устойчивости:"
   ]
  },
  {
   "cell_type": "code",
   "execution_count": 4,
   "metadata": {
    "ExecuteTime": {
     "end_time": "2023-03-06T03:42:34.284693Z",
     "start_time": "2023-03-06T03:42:34.112988Z"
    }
   },
   "outputs": [
    {
     "data": {
      "text/latex": [
       "$\\displaystyle \\frac{1}{\\left|{z - 1}\\right|} < 1$"
      ],
      "text/plain": [
       "1/Abs(z - 1) < 1"
      ]
     },
     "metadata": {},
     "output_type": "display_data"
    },
    {
     "data": {
      "text/latex": [
       "$\\displaystyle \\frac{1}{\\sqrt{x^{2} - 2 x + y^{2} + 1}} < 1$"
      ],
      "text/plain": [
       "1/sqrt(x**2 - 2*x + y**2 + 1) < 1"
      ]
     },
     "metadata": {},
     "output_type": "display_data"
    },
    {
     "data": {
      "image/png": "[encoded data removed]",
      "text/plain": [
       "<Figure size 432x288 with 1 Axes>"
      ]
     },
     "metadata": {
      "needs_background": "light"
     },
     "output_type": "display_data"
    },
    {
     "data": {
      "text/plain": [
       "<sympy.plotting.plot.Plot at 0x1c680047f10>"
      ]
     },
     "execution_count": 4,
     "metadata": {},
     "output_type": "execute_result"
    }
   ],
   "source": [
    "from sympy import symbols, Abs\n",
    "from sympy import I\n",
    "from sympy.plotting import plot_implicit\n",
    "\n",
    "# Define the variable z\n",
    "z = symbols('z', complex=True)\n",
    "x, y = symbols('x y', real=True)\n",
    "# Define the function R\n",
    "R = 1/(1 - z)\n",
    "\n",
    "# Define the absolute value of R\n",
    "abs_R = Abs(R)\n",
    "\n",
    "# Define the condition for the set |R(z)|<1\n",
    "cond = abs_R < 1\n",
    "display(cond)\n",
    "\n",
    "z_number = x + I*y\n",
    "cond = cond.subs(z, z_number)\n",
    "\n",
    "display(cond.doit())\n",
    "# Plot the set where |R(z)|<1\n",
    "\n",
    "plot_implicit(cond, adaptive = False,\n",
    "              title='Область устойчивости неявной схемы Эйлера',\n",
    "              xlabel='Real part of z', ylabel='Imaginary part of z')"
   ]
  },
  {
   "cell_type": "markdown",
   "metadata": {
    "slideshow": {
     "slide_type": "fragment"
    }
   },
   "source": [
    "То есть неявная схема Эйлера устойчива для всего, кроме слабо растущих процессов с несильными осцилляциями."
   ]
  },
  {
   "cell_type": "markdown",
   "metadata": {
    "slideshow": {
     "slide_type": "slide"
    }
   },
   "source": [
    "## Классификация функций устойчивости\n",
    "\n",
    "__Определение 2 (Далквист, 1963).__ Если область абсолютной устойчивости $S$ включает в себя левую полуплоскость комплексной плоскости $\\operatorname{Re}(z) \\leq 0$, то метод называется __А-устойчивым__.\n",
    "\n",
    "Множество $\\operatorname{Re}(z) \\leq 0$ является существенно важным в вычислительных методах, потому что именно ему отвечают экспонциально затухающие процессы, с которыми мы как правило и работаем (т.к с экспонциально растущими процессами всё как правило и так плохо, то если ещё и с быстрозатухающими процессами всё плохо, то всё совсем плохо-плохо).\n",
    "\n",
    "__Определение 3.__ Если область абсолютной устойчивости $S$ включает в себя угол с полураствором $\\alpha$, отсчитываемым от отрицательного направления действительной оси в плоскости $z$, то метод называется __$\\mathrm{A}(\\alpha)$-устойчивым.__\n",
    "\n",
    "Метод является __$\\mathrm{A}(0)-$ устойчивым__, если условие верно только при $\\alpha \\rightarrow 0$.\n",
    "\n",
    "__Определение 4.__ Численный метод называется __L-устойчивым__ (или асимптотически устойчивым), если он А-устойчив и выполнено условие $|R(z)| \\rightarrow 0$ при $\\operatorname{Re} z \\rightarrow-\\infty$.\n",
    "\n",
    "Иногда в литературе можно встретить определение асимптотической устойчивости, не включающее в себя А-устойчивости. В этом случае численный метод должен быть, например, жестко устойчивым. Понятие жесткой устойчивости строго не определяется, но подразумевается, что для жесткой устойчивости метод будет абсолютно устойчивым на всем спектре рассматриваемой задачи. Кроме того. существует и альтернативная теория устойчивости численных методов для решения ЖС ОДУ.\n",
    "\n",
    "__Определение 5.__ Численный метод называется __$Lp$-устойчивым__, если он А-устойчив и функция устойчивости затухает как $z^{-p}$ при $\\operatorname{Re} z \\rightarrow-\\infty$.\n",
    "\n",
    "Решения уравнения Далквиста, полученные L-устойчивыми методами, будут затухающими.\n",
    "\n",
    "Еще одним важным свойством разностных схем является их монотонность. Говорить о монотонности численного метода для решения систем ОДУ можно только в том случае, когда решение дифференциальной задачи также монотонно, т.е. только для действительных отрицательных $z$ и, таким образом, для строго убывающих решений.\n",
    "\n",
    "__Определение 6.__ Если функция устойчивости положительна на отрицательной части действительной оси (т.е. $R(z)>0$ при $\\operatorname{Im} z=0, \\operatorname{Re} z<0$ ), то метод называется __монотонным__."
   ]
  },
  {
   "cell_type": "markdown",
   "metadata": {
    "slideshow": {
     "slide_type": "fragment"
    }
   },
   "source": [
    "__Теорема (барьер Далквиста).__ Не существует A-устойчивых многошаговых разностных схем порядка аппроксимации выше второго.\n",
    "\n",
    "То есть, самым важным классом численных схем являются именно одношаговые методы, т.к. для них возможна (но вовсе необязательна) А-устойчивость.\n",
    "\n",
    "Для повышения порядка аппроксимации с использованием многошаговых схем приходится мириться с отсутствием А-устойчивости и использовать вспомогательные понятия, как A($\\alpha$)-устойчивость. Такие алгоритмы могут иметь порядок аппроксимации выше 2-го, но очень чувствительны к малым осцилляциям определённых частот."
   ]
  },
  {
   "cell_type": "markdown",
   "metadata": {
    "slideshow": {
     "slide_type": "slide"
    }
   },
   "source": [
    "## Одношаговые методы. Явные методы Рунге-Кутта. \n",
    "\n",
    "Рассмотрим хитрую запись с внутренними вычислениями. Сначала вычисляем $k_i$ по порядку, потом обновляем $y_{n+1}$.\n",
    "\n",
    "$$\n",
    "\\begin{aligned}\n",
    "&\\left\\{\\begin{array}{l}\n",
    "k_{1}=f\\left(t_{n}, \\, y_{n}\\right) \\\\\n",
    "k_{2}=f\\left(t_{n}+\\alpha_{2} \\cdot \\tau, \\;\\; y_{n}+\\tau \\cdot \\beta_{21} \\cdot k_{1}\\right) \\\\\n",
    "\\vdots \\\\\n",
    "k_{r}=f\\left(t_{n}+\\alpha_{r}\\cdot \\tau, \\;\\; y_{n}+\\tau \\cdot\\left(\\beta_{r 1} \\cdot k_{1}+\\ldots+\\beta_{r, \\, r-1} k_{r}\\right)\\right)\n",
    "\\end{array}\\right. \n",
    "\\end{aligned}  \n",
    "$$\n",
    "\n",
    "$$y_{n+1}=y_{n}+\\tau \\cdot\\left(\\gamma_{1}\\cdot k_{1}+\\ldots+\\gamma_{r}\\cdot k_{n}\\right)$$\n",
    "\n",
    "Для удобной записи коэффициентов используют таблицы Бутчера:\n",
    "\n",
    "$$\\\\ \\left[\\begin{array}{l|llll}\n",
    "0 & & & & \\\\\n",
    "\\alpha_{2} & \\beta_{21} & & & \\\\\n",
    "\\alpha_{3} & \\beta_{31} & \\beta_{32} & & \\\\\n",
    "\\cdots &\\cdots &\\cdots &\\cdots &\\\\\n",
    "\\alpha_{r} & \\beta_{r 1} & \\beta_{r, 2} & \\cdots & \\beta_{r, r-1} & \\\\\n",
    "\\hline& \\gamma_{1} & \\gamma_{2} & \\cdots & \\gamma_{r-1} & \\gamma_{r}\n",
    "\\end{array}\\right]$$\n",
    "\n",
    "Метод, задаваемый такой таблицей, называется __r-стадийным__. Все методы Рунге-Кутта являются разновидностью одношаговых методов, перепеписанными в удобном виде. Общие свойства этой таблицы Бутчера опишем ниже, когда введём неявные методы.\n",
    "\n",
    "Явными их делаем аналитическая возможность решить написанную выше систему - по сути мы по порядку вычисляем все поправки.\n",
    "\n",
    "Приведём некоторые примеры (за точные коэффициенты здесь не ручаюсь):\n",
    "\n",
    "__Модифицированный метод Эйлера:__\n",
    "\n",
    "\\begin{aligned}\n",
    "&y_{n+1}=y_{n}+h f_{2}, \\\\\n",
    "&f_{1}=f\\left(x_{n}, y_{n}\\right) \\\\\n",
    "&f_{2}=f\\left(x_{n}+\\frac{h}{2} ; y_{n}+\\frac{h f_{n}}{2}\\right)\n",
    "\\end{aligned} \n",
    "\n",
    "\n",
    "\\begin{array}{l|ll}\n",
    "0 & 0 & 0 \\\\\n",
    "1 / 2 & 1 / 2 & 0 \\\\\n",
    "\\hline & 0 & 1\n",
    "\\end{array} \n",
    "\n",
    "\n",
    "__Метод Эйлера с пересчётом:__\n",
    "\n",
    "\\begin{aligned}\n",
    "&y_{n+1}=y_{n}+h \\cdot \\frac{f_{1}+f_{2}}{2} \\\\\n",
    "&f_{1}=f\\left(x_{1}, y_{n}\\right) \\\\\n",
    "&f_{2}=f\\left(x_{n}+h, y_{n}+h f_{1}\\right)\n",
    "\\end{aligned}  \n",
    "\n",
    "\\begin{array}{l|ll}\n",
    "0 & 0 & 0 \\\\\n",
    "1 & 1 & 0 \\\\\n",
    "\\hline & 1 / 2 & 1 / 2\n",
    "\\end{array}  \n",
    "\n",
    "__Метод Хойна:__ \n",
    "\n",
    "\\begin{aligned}\n",
    "&y_{n+1}=y_{n}+h\\left(f_{1}+3 f_{3}\\right) \\cdot \\frac{1}{4} \\\\\n",
    "&f_{1}=f\\left(x_{n}, y_{n}\\right) ; \\\\\n",
    "&f_{2}=f\\left(x_{n}+\\frac{h}{3} ; y_{n}+\\frac{h f_{1}}{3}\\right) \\\\\n",
    "&f_{3}=f\\left(x_{n}+\\frac{2 h}{3} ; y_{n}+2 h \\frac{f_{2}}{3}\\right)\n",
    "\\end{aligned}  \n",
    "\n",
    "\\begin{array}{l|ccc}\n",
    "0 & 0 & 0 & 0 \\\\\n",
    "1 / 3 & 1 / 3 & 0 & 0 \\\\\n",
    "2 / 3 & 0 & 2 / 3 & 0 \\\\\n",
    "\\hline & 1 / 4 & 0 & 1 / 4\n",
    "\\end{array}  \n",
    "\n",
    "__Классический метод Рунге-Кутта 4-го порядка:__\n",
    "\n",
    "\\begin{array}{c|cccc}\n",
    "0 & 0 & 0 & 0 & 0 \\\\\n",
    "1 / 2 & 1 / 2 & 0 & 0 & 0 \\\\\n",
    "1 / 2 & 0 & 1 / 2 & 0 & 0 \\\\\n",
    "1 & 0 & 0 & 1 & 0 \\\\\n",
    "\\hline & 1 / 6 & 2 / 6 & 2 / 6 & 1 / 6\n",
    "\\end{array}  \n",
    "\n",
    "__Метод Дормана-Принса 5(4)__\n",
    "\n",
    "При компьютерных вычисления чаще всего используют __метод Дормана-Принса__. В 1980-м году Дорман и Принс построили вложенный метод 5(4)-го порядка, в котором решение 5-го порядка используется в качестве начального значения для следующего шага, а решение 4-го порядка – для определения локальной погрешности выполненного шага интегрирования (с целью последующего использования в механизме управления длинной шага).\n",
    "\n",
    "$$\n",
    "\\begin{array}{c|cccccccc}\n",
    "0 & & & & & & \\\\\n",
    "\\frac{1}{5} & \\frac{1}{5} & & & & & \\\\\n",
    "\\frac{3}{10} & \\frac{3}{40} & \\frac{9}{40} & & & & & \\\\\n",
    "\\frac{4}{5} & \\frac{44}{45} & -\\frac{56}{15} & \\frac{32}{9} & & & & \\\\\n",
    "\\frac{8}{9} & \\frac{19372}{6561} & -\\frac{25360}{2187} & \\frac{64448}{6561} & -\\frac{212}{729} & & & \\\\\n",
    "1 & \\frac{9017}{3168} & -\\frac{355}{33} & \\frac{46732}{5247} & \\frac{49}{176} & -\\frac{5103}{18656} & & \\\\\n",
    "1 & \\frac{35}{384} & 0 & \\frac{500}{1113} & \\frac{125}{192} & -\\frac{2187}{6784} & \\frac{11}{84} & \\\\\n",
    "\\hline x_1 & \\frac{35}{384} & 0 & \\frac{500}{1113} & \\frac{125}{192} & -\\frac{2187}{6784} & \\frac{11}{84} & 0 \\\\\n",
    "\\hline \\hat{x}_1 & \\frac{5179}{57600} & 0 & \\frac{7571}{16695} & \\frac{393}{640} & -\\frac{92097}{339200} & \\frac{187}{2100} & \\frac{1}{40}\n",
    "\\end{array}\n",
    "$$\n",
    "\n",
    "\n",
    "Первая строка коэффициентов b дает решение пятого порядка точности, а вторая строка дает альтернативное решение, которое при вычитании из первого решения дает оценку ошибки.\n",
    "Поэтому его часто называют __методом \"4-5-го порядка\"__.\n",
    "\n",
    "__Примечание.__ Несложно обобщить данный класс методов на неявный случай. Если таблица Бутчера на нижнетреугольная, то в общем случае на каждом шаге придётся решать нелинейную систему, чтобы найти все $k_i$."
   ]
  },
  {
   "cell_type": "markdown",
   "metadata": {
    "slideshow": {
     "slide_type": "slide"
    }
   },
   "source": [
    "## Жесткие системы\n",
    "\n",
    "Какие системы можно считать \"сложными? Для ответа на этот вопрос введём важное понятие __жесткости__ системы.\n",
    "\n",
    "__Определение.__ Задачу Коши для системы ОДУ вида\n",
    "\n",
    "$$\n",
    "\\frac{d \\mathbf{u}}{d t}=\\mathbf{f}(t, \\mathbf{u}), \\quad t>0, \\quad \\mathbf{u}(0)=\\mathbf{u_0} , \\quad \\mathbf{u}: \\mathbb{R} \\rightarrow\t\\mathbb{R}^N , \\quad \\mathbf{f} : \\mathbb{R^{N+1}} \\rightarrow\t\\mathbb{R}^N\n",
    "$$\n",
    "\n",
    "назовем __жесткой__, если для спектра $\\lambda_j \\;\\;(j=1, \\ldots, N)$ матрицы Якоби\n",
    "\n",
    "$$\n",
    "\\mathbf{J}=\\frac{\\partial \\mathbf{f}(t, \\mathbf{u})}{ \\partial \\mathbf{u}}\n",
    "$$\n",
    "\n",
    "можно ввести числа $\\lambda_0, \\; \\Lambda_0 > 0: \\; \\; \\lambda_0 \\ll \\Lambda_0$, относительно которых спектр разделяется на две части:\n",
    "\n",
    "1) __жесткий спектр (быстрозатухающий)__ $(j=1, \\ldots, N_1 )$, для которого выполняется :\n",
    "\n",
    "$$\\operatorname{Re} \\lambda_j(t, \\mathbf{u}) \\leqslant-\\Lambda_0$$\n",
    "\n",
    "$$\\left|\\operatorname{Im} \\lambda_j(t, \\mathbf{u})\\right|<\\left|\\operatorname{Re} \\lambda_j(t, \\mathbf{u})\\right|$$\n",
    "\n",
    "2) __мягкий спектр__ $(j=N_1+1, \\ldots, N)$, для которого\n",
    "\n",
    "$$\n",
    "\\left|\\lambda_j(t, \\mathbf{u})\\right| \\leqslant \\lambda_0 \\ll \\Lambda_0\n",
    "$$\n",
    "\n",
    "Отношение $\\mathrm{S} = \\Lambda_0 / \\lambda_0$ называется __показателем жесткости__ системы ОДУ. При этом обычно $\\lambda_0 \\approx 1$, а величина $\\Lambda_0 \\gg 1$ в приложениях часто бывает больше $10^6$. \n",
    "\n",
    "Такая проверка осуществляется в какой-либо точке, принадлежащей траектории системы. Конечно, существуют примеры, когда одна и та же система в разных точках своего фазового пространства может быть и жесткой, и нежесткой.\n",
    "\n",
    "Иными словами, жесткость отвечает за разную скорость протекающих внутри системы процессов. Подробнее, компонента сответствующая жесткому спектру вынуждает выбирать мелкий шаг и, одновременно, быстро перестает влиять на решение из-за экспонциального затухания. Типичный пример графика решения жесткой системы:\n",
    "\n",
    "ГРААААФИИИИИИИИИИИИИИИИИК\n",
    "\n",
    "\n",
    "\n",
    "\n",
    "\n",
    "\n",
    "Можно ввести следующие классификацию систем по числу жесткости:\n",
    "\n",
    "$$\n",
    "\\begin{array}{|l|l|}\n",
    "\\hline \\text { Классификация } & \\text { Число жесткости } \\\\\n",
    "\\hline \\text { Умеренно жесткая } & \\quad \\quad  \\mathrm{S}\\approx10 \\\\\n",
    "\\hline \\text { Средне жесткая } & \\quad \\quad  \\mathrm{S}\\approx10^2 \\\\\n",
    "\\hline \\text { Сильно жесткая } & \\quad 10^2 \\lesssim \\mathrm{S} \\lesssim \\mathrm10^5 \\\\\n",
    "\\hline \\text { Экстремально жесткая } & \\quad  10^6 \\lesssim \\mathrm{S} \\lesssim \\mathrm10^8 \\\\\n",
    "\\hline \\text { Патологически жесткая } & \\quad  \\quad \\mathrm{S} \\gtrsim 10^9 \\\\\n",
    "\\hline\n",
    "\\end{array}\n",
    "$$\n",
    "\n",
    "\n",
    "\n",
    "Для жестких задач необходимо использование методов, позволяющих проводить расчет с шагами, определяемыми медленными, а не быстрыми процессами, при этом, естественно, численные методы должны быть устойчивыми.\n",
    "\n",
    "__Примечание.__ Практически для всех жестких систем __явные методы не подходят__ в силу их неустойчивости при $\\operatorname{Re} z \\ll -1$. Нужно использовать более сложные методы.\n",
    "\n",
    "При разработке разностных схем для численного решения жестких сложных систем обыкновенных дифференциальных уравнений необходимо учитывать следующие требования:\n",
    "- схема должна быть аппроксимирующей;\n",
    "- схема должна обладать устойчивостью, например: $A, A(\\alpha)$, $A(0), \\alpha$-устойчивостью;\n",
    "- схему необходимо верифицировать на известных тестовых задачах."
   ]
  },
  {
   "cell_type": "markdown",
   "metadata": {
    "slideshow": {
     "slide_type": "slide"
    }
   },
   "source": [
    "## Одношаговые методы. Неявные методы Рунге-Кутта\n",
    "\n",
    "Гораздо лучшую устойчивость имеют неявные методы Рунге-Кутта. Они вполне себе пригодны для решения жестких задач.\n",
    "\n",
    "Пусть таблица для __r-стадийного__ неявного метода Рунге-Кутта имеет следующий __не__нижнетреугольный вид:\n",
    "\n",
    "$$\\\\ \\left[\\begin{array}{l|llll}\n",
    "\\alpha_{1} & \\beta_{11} & \\beta_{12} & \\cdots & \\beta_{1, r-1} & \\beta_{1r} \\\\\n",
    "\\alpha_{2} & \\beta_{21} & \\beta_{22} & \\cdots & \\beta_{2, r-1} & \\beta_{2r} \\\\\n",
    "\\alpha_{3} & \\beta_{31} & \\beta_{32} & \\cdots & \\beta_{3, r-1} & \\beta_{3r} \\\\\n",
    "\\cdots &\\cdots &\\cdots &\\cdots & \\cdots & \\cdots \\\\\n",
    "\\alpha_{r} & \\beta_{r, 1} & \\beta_{r, 2} & \\cdots & \\beta_{r,\\; r-1} & \\beta_{r,\\; r} \\\\\n",
    "\\hline & \\gamma_{1} & \\gamma_{2} & \\cdots & \\gamma_{r-1} & \\gamma_{r}\n",
    "\\end{array}\\right]$$\n",
    "\n",
    "Тогда соответствующая ей система (вообще говоря нелинейная), которую необходимо решать на каждом шаге:\n",
    "\n",
    "$$\n",
    "\\left\\{\\begin{array}{l}\n",
    "k_1=f\\left(t_n+\\alpha_1 \\cdot \\tau, \\quad y_n+\\tau \\cdot\\left(\\beta_{11} \\cdot k_1+\\beta_{12} \\cdot k_2+\\cdots+\\beta_{1 r} \\cdot k_r\\right)\\right) \\\\\n",
    "k_2=f\\left(t_n+\\alpha_2 \\cdot \\tau, \\quad y_n+\\tau \\cdot\\left(\\beta_{21} \\cdot k_1+\\beta_{22} \\cdot k_2+\\cdots+\\beta_{2 r} \\cdot k_r\\right)\\right) \\\\\n",
    "k_3=f\\left(t_n+\\alpha_3 \\cdot \\tau, \\quad y_n+\\tau \\cdot\\left(\\beta_{31} \\cdot k_1+\\beta_{32} \\cdot k_2+\\cdots+\\beta_{3 r} \\cdot k_r\\right)\\right) \\\\\n",
    "\\vdots \\\\\n",
    "k_r=f\\left(t_n+\\alpha_r \\cdot \\tau, \\quad y_n+\\tau \\cdot\\left(\\beta_{r 1} \\cdot k_1+\\beta_{r 2} \\cdot k_2+\\cdots+\\beta_{r, r-1} \\cdot k_{r-1}+\\beta_{r, r} \\cdot k_r\\right)\\right) \\\\\n",
    "\\end{array}\\right.\n",
    "$$\n",
    "\n",
    "$$\n",
    "y_{n+1}=y_n+\\tau \\cdot\\left(\\gamma_1 \\cdot k_1+\\gamma_2 \\cdot k_2+\\cdots+\\gamma_r \\cdot k_r\\right)\n",
    "$$\n",
    "\n",
    "Как правило, эту систему решают __методом простой итерации__ (см. прошлый семестр).\n",
    "\n",
    "Общее свойство всех таблиц Бутчера - __свойство Кутты__: \n",
    "\n",
    "$$\n",
    "\\sum_{j=1}^{r} \\beta_{i j}=\\alpha_i\n",
    "$$\n",
    "\n",
    "Для обеспечения нужного порядка аппроксимации $p$, также необходимы определенные условия на коэффициента таблицы Бутчера. Их несложно вывести, раскладывая $[y(x)]_{n+1}$ в ряд Тейлора и зануляя коэффициенты перед ненужными степенями $h$ методом неопределенных коэффициентов:\n",
    "\n",
    "$$\n",
    "\\begin{aligned}\n",
    "& p=1 \\hookrightarrow \\sum_{i=1}^s \\gamma_i=1, \\\\\n",
    "& p=2 \\hookrightarrow \\sum_{i=1}^s \\gamma_i \\alpha_i=1 / 2, \\\\\n",
    "& p=3 \\hookrightarrow \\sum_{i=1}^s \\gamma_i \\alpha_i^2=1 / 3, \\quad \\sum_{i, j=1}^s b_i \\beta_{i j} \\alpha_j=1 / 6, \\\\\n",
    "& p=4 \\hookrightarrow \\sum_{i=1}^s \\gamma_i \\alpha_i^3=1 / 4, \\quad \\sum_{i, j=1}^s b_i \\alpha_i \\beta_{i j} \\alpha_j=1 / 8, \\quad \\sum_{i, j=1}^s \\gamma_i \\beta_{i j} \\alpha_j^2=1 / 12, \\quad  \\sum_{i, j, k=1}^s \\gamma_i \\beta_{i j} \\beta_{j k} \\alpha_k=1 / 24 .\n",
    "\\end{aligned}\n",
    "$$\n",
    "\n",
    "Например, для порядка аппроксимации $p=4$ - нужно выполнения всех строчек выше. А для $p=3$, только первых трёх.\n",
    "\n",
    "__Методы Гаусса__ соответственно 2-го, 4-го, и 6-го порядков аппроксимации. Второй метод называется методом (4-го порядка) называется __методом Хаммера - Холлинсворта__:\n",
    "\n",
    "$$\\left[\n",
    "\\begin{array}{l|l}\n",
    "1 / 2 & 1 / 2 \\\\\n",
    "\\hline & 1\n",
    "\\end{array}\\right]\n",
    "$$\n",
    "\n",
    "$$\\left[\n",
    "\\begin{array}{c|cc}\n",
    " \\frac{1}{2}-\\frac{\\sqrt{3}}{6} & \\frac{1}{4} & \\quad \\frac{1}{4}-\\frac{\\sqrt{3}}{6} \\\\\n",
    " \\frac{1}{2}+\\frac{\\sqrt{3}}{6} & \\frac{1}{4}+\\frac{\\sqrt{3}}{6} & \\frac{1}{4} \\\\\n",
    " \\hline &\\frac{1}{2} & \\frac{1}{2} \\\\\n",
    "\\end{array}\\right]\n",
    "$$\n",
    "\n",
    "$$\\left[\n",
    "\\begin{array}{c|cccc}\n",
    " \\frac{1}{2}-\\frac{\\sqrt{15}}{10} & \\frac{5}{36} &  \\frac{2}{9}-\\frac{\\sqrt{15}}{15} &\\frac{5}{36}-\\frac{\\sqrt{15}}{30} \\\\\n",
    " \\frac{1}{2} &  \\frac{5}{36}+\\frac{\\sqrt{15}}{24} &\\frac{2}{9} & \\frac{5}{36}-\\frac{\\sqrt{15}}{24} \\\\\n",
    " \\frac{1}{2}+\\frac{\\sqrt{15}}{10} & \\frac{5}{36}+\\frac{\\sqrt{15}}{30} &\\frac{2}{9}+\\frac{\\sqrt{15}}{15} & \\frac{5}{36} \\\\\n",
    "\\hline &\\frac{5}{18} & \\frac{4}{9} & \\frac{5}{18}\\\\\n",
    "\\end{array}\\right]\n",
    "$$\n",
    "\n",
    "__Методы Лобатто IIIА__ 2-го, 4-го и 6-го порядков точности:\n",
    "\n",
    "$$\\left[\n",
    "\\begin{array}{l|ll}\n",
    " 0 & 0 & 0 \\\\\n",
    " 1 & 1 / 2 & 1 / 2 \\\\\n",
    "\\hline & 1 / 2 & 1 / 2 \\\\\n",
    "\\end{array}\\right]\n",
    "$$\n",
    "\n",
    "$$\\left[\n",
    "\\begin{array}{l|lll}\n",
    " 0 & 0 & 0 & 0 \\\\\n",
    " 1 / 2 & 5 / 24 & 1 / 3 & -1 / 24 \\\\\n",
    "1 & 1 / 6 & 2 / 3 & 1 / 6 \\\\\n",
    "\\hline & 1 / 6 & 2 / 3 & 1 / 6 \\\\\n",
    "\\end{array}\\right]\n",
    "$$\n",
    "\n",
    "$$\\left[\n",
    "\\begin{array}{l|llll}\n",
    " 0 & 0 & 0 & 0 & 0 \\\\\n",
    " \\frac{5-\\sqrt{5}}{10} & \\frac{11+\\sqrt{5}}{120} & \\frac{25-\\sqrt{5}}{120} & \\frac{25-13 \\sqrt{5}}{120} & \\frac{-1+\\sqrt{5}}{120} \\\\\n",
    " \\frac{5+\\sqrt{5}}{10} & \\frac{11-\\sqrt{5}}{120} & \\frac{25+13 \\sqrt{5}}{120} & \\frac{25+\\sqrt{5}}{120} & \\frac{-1-\\sqrt{5}}{120} \\\\\n",
    " 1 & 1 / 12 & 5 / 12 & 5 / 12 & 1 / 12 \\\\\n",
    "\\hline & 1 / 12 & 5 / 12 & 5 / 12 & 1 / 12 \\\\\n",
    "\\end{array}\\right]\n",
    "$$"
   ]
  },
  {
   "cell_type": "markdown",
   "metadata": {
    "slideshow": {
     "slide_type": "fragment"
    }
   },
   "source": [
    "### Пример на питоне реализации неявного метода Рунге-Кутта для жесткой системы и сравнение с явным методом"
   ]
  },
  {
   "cell_type": "markdown",
   "metadata": {
    "slideshow": {
     "slide_type": "slide"
    }
   },
   "source": [
    "## Устойчивость методов Рунге-Кутта\n",
    "\n",
    "**Теорема (о функции устойчивости методов Рунге-Кутта).** Пусть имеем r-стадийый метод Рунге-Кутта, заданный таблицей Бутчера $\\begin{array}{c|c}\n",
    "\\vec{\\alpha} & \\mathbf{B} \\\\\n",
    "\\hline & \\vec{\\gamma}^\\top\n",
    "\\end{array}$. \n",
    "\n",
    "\n",
    "\n",
    "Тогда его функция устойчивости имеет вид\n",
    "\n",
    "$$\n",
    "R(z)=1+z \\cdot \\vec{\\gamma}^\\top (\\mathbf{E}-z \\cdot \\mathbf{B})^{-1}\\vec{1} \n",
    "$$\n",
    "\n",
    "или, что эквивалентно:\n",
    "\n",
    "$$\n",
    "R(z)=\\cfrac{\\operatorname{det}\\left(\\mathbf{E}-z \\mathbf{B}+z \\cdot \\mathbf{\\vec{1} \\vec{\\gamma}}^T\\right)}{ \\operatorname{det}\\left(\\mathbf{E}-z \\mathbf{B}\\right)}\n",
    "$$\n",
    "\n",
    "В случае, если система имеет порядок аппроксимации $p$, и этот самый порядок равняется числу стадий $p=r$, то эту формулу можно явно вычислить:\n",
    "\n",
    "$$R_{r=p}(z)=1+z+\\ldots+ \\frac{z^r}{r !}$$\n",
    "\n",
    "__Доказательство.__\n",
    "\n",
    "To be written"
   ]
  },
  {
   "cell_type": "markdown",
   "metadata": {
    "slideshow": {
     "slide_type": "fragment"
    }
   },
   "source": [
    "## Пример исследования на устойчивость неявного метода Рунге-Кутта\n",
    "\n",
    "Покажите, что неявный метод Рунге-Кутты (метод Хаммера-Холлингсуорта порядка 4), заданный таблицей Бутчера:\n",
    "\n",
    "$$\n",
    "\\begin{array}{l|ll}\n",
    "1 / 2-\\sqrt{3} & 1 / 4 & 1 / 4-\\sqrt{3} / 6 \\\\\n",
    "1 / 2+\\sqrt{3} & 1 / 4+\\sqrt{3} / 6 & 1 / 4 \\\\\n",
    "\\hline & 1 / 2 & 1 / 2\n",
    "\\end{array}\n",
    "$$\n",
    "\n",
    "имеет четвертый порядок аппроксимации. Найдите функцию устойчивости $R(z)$ и исследуйте метод на $A$-устойчивость и $L$-устойчивость.\n",
    "\n",
    "**Решение.**\n",
    "\n",
    "Вспомним условия обеспечения порядков аппроксимации методов Рунге-Кутты:\n",
    "\n",
    "$$\n",
    "\\begin{aligned}\n",
    "& p=1 \\hookrightarrow \\sum_{i=1}^s \\gamma_i=1, \\\\\n",
    "& p=2 \\hookrightarrow \\sum_{i=1}^s \\gamma_i \\alpha_i=1 / 2, \\\\\n",
    "& p=3 \\hookrightarrow \\sum_{i=1}^s \\gamma_i \\alpha_i^2=1 / 3, \\quad \\sum_{i, j=1}^s b_i \\beta_{i j} \\alpha_j=1 / 6, \\\\\n",
    "& p=4 \\hookrightarrow \\sum_{i=1}^s \\gamma_i \\alpha_i^3=1 / 4, \\quad \\sum_{i, j=1}^s b_i \\alpha_i \\beta_{i j} \\alpha_j=1 / 8, \\quad \\sum_{i, j=1}^s \\gamma_i \\beta_{i j} \\alpha_j^2=1 / 12, \\quad  \\sum_{i, j, k=1}^s \\gamma_i \\beta_{i j} \\beta_{j k} \\alpha_k=1 / 24 .\n",
    "\\end{aligned}\n",
    "$$\n",
    "\n",
    "Для данного метода все эти соотношения проверяются непосредственной подстановкой (соотношения пятого порядка не выполняются). Т.е. порядок аппроксимации действительно 4. \n",
    "\n",
    "Для нахождения функции устойчивости воспользуемся общей формулой \n",
    "\n",
    "\\begin{aligned}\n",
    "& R(z)=1+z \\cdot \\vec{\\gamma}^\\top (\\mathbf{E}-z \\cdot \\mathbf{B})^{-1}\\vec{1} =1+\\frac{z}{2}(1,1)\\left(\\begin{array}{cc}\n",
    "1-\\frac{z}{4} & -\\frac{z}{4}+\\frac{\\sqrt{3} z}{6} \\\\\n",
    "-\\frac{z}{4}-\\frac{\\sqrt{3} z}{6} & 1-\\frac{z}{4}\n",
    "\\end{array}\\right)^{-1}\\left(\\begin{array}{l}\n",
    "1 \\\\\n",
    "1\n",
    "\\end{array}\\right)= \\\\\n",
    "& =1+\\frac{z / 2}{\\left(1-\\frac{z}{4}\\right)^2-\\left(\\frac{z^2}{16}-\\frac{z^2}{12}\\right)}(1,1)\\left(\\begin{array}{cc}\n",
    "1-\\frac{z}{4} & \\frac{z}{4}-\\frac{\\sqrt{3} z}{6} \\\\\n",
    "\\frac{z}{4}+\\frac{\\sqrt{3} z}{6} & 1-\\frac{z}{4}\n",
    "\\end{array}\\right)\\left(\\begin{array}{l}\n",
    "1 \\\\\n",
    "1\n",
    "\\end{array}\\right)=1+\\frac{z}{\\left(1-\\frac{z}{2}+\\frac{z^2}{12}\\right)}= \\\\\n",
    "& =\\frac{\\mathrm{z}^2+6 z+12}{\\mathrm{z}^2-6 z+12}\n",
    "\\end{aligned} \n",
    "\n",
    "\n",
    "Эта функция является регулярной в левой полуплоскости $\\mathbb{C}^{-}$и по принципу максимума модуля ее модуль принимает максимальное значение на границе (вертикальная ось $z=i y$ ).\n",
    "\n",
    "Напомним определение регулярной функции и принцип максимума модуля.\n",
    "\n",
    "Функция $f(z)$ комплексного переменного $z$, однозначно определенная в области $G$ и имеющая в каждой её точке конечную производную, называется **регулярной** в этой области.\n",
    "\n",
    "**Tеорема о принципе максимума.** Модуль функиии, регулярной в некоторой области, не может достигать наибольшего значения внутри этой области, если только функиия отлична от тождественной постоянной.\n",
    "\n",
    "На вертикальной оси $|R(z)|=\\left|\\frac{12-y^2+6 i y}{12-y^2-6 i y}\\right| = 1 \\quad  \\forall y$. \n",
    "\n",
    "Таким образом, метод $A$-устойчив, но не $L$-устойчив, поскольку $\\lim _{z \\rightarrow-\\infty} R(z) \\neq 0$.\n",
    "\n",
    "Построим также область абсолютной устойчивости:"
   ]
  },
  {
   "cell_type": "code",
   "execution_count": 7,
   "metadata": {
    "ExecuteTime": {
     "end_time": "2023-03-06T03:42:35.088881Z",
     "start_time": "2023-03-06T03:42:34.286582Z"
    },
    "slideshow": {
     "slide_type": "fragment"
    }
   },
   "outputs": [
    {
     "data": {
      "text/latex": [
       "$\\displaystyle \\left|{\\frac{z^{2} + 6 z + 12}{z^{2} - 6 z + 12}}\\right| < 1$"
      ],
      "text/plain": [
       "Abs((z**2 + 6*z + 12)/(z**2 - 6*z + 12)) < 1"
      ]
     },
     "metadata": {},
     "output_type": "display_data"
    },
    {
     "data": {
      "text/latex": [
       "$\\displaystyle \\frac{\\sqrt{x^{4} + 12 x^{3} + 2 x^{2} y^{2} + 60 x^{2} + 12 x y^{2} + 144 x + y^{4} + 12 y^{2} + 144}}{\\sqrt{x^{4} - 12 x^{3} + 2 x^{2} y^{2} + 60 x^{2} - 12 x y^{2} - 144 x + y^{4} + 12 y^{2} + 144}} < 1$"
      ],
      "text/plain": [
       "sqrt(x**4 + 12*x**3 + 2*x**2*y**2 + 60*x**2 + 12*x*y**2 + 144*x + y**4 + 12*y**2 + 144)/sqrt(x**4 - 12*x**3 + 2*x**2*y**2 + 60*x**2 - 12*x*y**2 - 144*x + y**4 + 12*y**2 + 144) < 1"
      ]
     },
     "metadata": {},
     "output_type": "display_data"
    },
    {
     "data": {
      "image/png": "[encoded data removed]",
      "text/plain": [
       "<Figure size 640x480 with 1 Axes>"
      ]
     },
     "metadata": {},
     "output_type": "display_data"
    },
    {
     "data": {
      "text/plain": [
       "<sympy.plotting.plot.Plot at 0x7f3228524af0>"
      ]
     },
     "execution_count": 7,
     "metadata": {},
     "output_type": "execute_result"
    }
   ],
   "source": [
    "from sympy import symbols, Abs\n",
    "from sympy import I\n",
    "from sympy.plotting import plot_implicit\n",
    "\n",
    "# Define the variable z\n",
    "z = symbols('z', complex=True)\n",
    "x, y = symbols('x y', real=True)\n",
    "# Define the function R\n",
    "R = (z**2 + 6*z + 12)/(z**2 - 6*z + 12)\n",
    "\n",
    "# Define the absolute value of R\n",
    "abs_R = Abs(R)\n",
    "\n",
    "# Define the condition for the set |R(z)|<1\n",
    "cond = abs_R < 1\n",
    "display(cond)\n",
    "\n",
    "z_number = x + I*y\n",
    "cond = cond.subs(z, z_number).simplify()\n",
    "\n",
    "display(cond.doit())\n",
    "# Plot the set where |R(z)|<1\n",
    "\n",
    "plot_implicit(cond, adaptive = False, depth=2, points = 1000,\n",
    "              title='Область устойчивости неявного метода Хаммера-Холлингсуорта',\n",
    "              xlabel='Real part of z', ylabel='Imaginary part of z')"
   ]
  },
  {
   "cell_type": "markdown",
   "metadata": {
    "slideshow": {
     "slide_type": "fragment"
    }
   },
   "source": [
    "## Многошаговые методы. Многошаговые методы Адамса\n",
    "\n",
    "Так же как и неявные методы Рунге-Кутты, многошаговые методы хорошо решают жесткие задачи. Одно в силу барьера Далквиста, они никогда не будут иметь порядок аппроксимации больше 2.\n",
    "\n",
    "В отличие от методов Рунге-Кутта, многошаговые методы основаны не на формуле Тейлора непосредственно, а на сеточной интерполяции.  \n",
    "\n",
    "Многошаговые методы построены на том, что для вычисления значения $x_{k+1}$ применяются несколько предыдущих точек. При этом предыдущие несколько точек должны быть вычислены одношаговым методом (Эйлера, Рунге-Кутта). \n",
    "\n",
    "Интерполяционный метод Адамса использует предыдущие значения и неизвестное значение. \n",
    "\n",
    " $y_{k+1}=y_{k}+h\\left(f_{k+1}-\\frac{\\Delta f_{k}}{2}-\\frac{\\Delta^{2} f_{k-1}}{12}-\\frac{\\Delta^{3} f_{k-2}}{24}\\right)$\n",
    "\n",
    "Экстраполяционный метод Адамса использует только предыдущие: \n",
    "\n",
    "\n",
    "$y_{k+1}=y_{k}+h\\left(f_{k}+\\frac{\\Delta f_{k-1}}{2}+\\frac{5 \\Delta^{2} f_{k_{2}}}{12}+\\frac{3 \\Delta^{3} f_{k-3}}{8}\\right)$\n",
    "\n",
    "Здесь \n",
    "\n",
    "$$\n",
    "\\begin{aligned}\n",
    "&\\Delta f_{k}=f_{k+1}-f_{k}\\\\\n",
    "&\\Delta^{2} f_{k}=f_{k+2}-2 f_{k+1}+f_{k} \\\\\n",
    "&\\Delta^{3} f_{k}=f_{k+3}-3 f_{k+2}+3 f_{k+1}-f_{k}\n",
    "\\end{aligned}\n",
    "$$\n",
    "\n",
    "и так далее. \n",
    "\n",
    "Эти и другие варианты формул метода Адамса можно вывести самостоятельно, используя интерполяционный многочлен Ньютона."
   ]
  },
  {
   "cell_type": "markdown",
   "metadata": {
    "slideshow": {
     "slide_type": "fragment"
    }
   },
   "source": [
    "### Метод прогноза-коррекции Адамса\n",
    "\n",
    "Многошаговые методы построены на том, что для вычисления значения $x_{k+1}$ применяются несколько предыдущих точек. При этом предыдущие несколько точек должны быть вычислены одношаговым методом (Эйлера, Рунге-Кутта).\n",
    "Рассмотрим решение дифореренциального уравнения\n",
    "\n",
    "$$\n",
    "F\\left(t, x, y, \\ldots, y^{(n)}\\right)=0 \n",
    "$$\n",
    "\n",
    "на интервале $\\left[t_{i} ; t_{i+1}\\right] .$ \n",
    "\n",
    "Будем считать, что решение в точках $t_{0}, t_{1}, t_{2}, \\ldots, t_{i}$ уже найдено, и значения в этих точках будем использовать для нахождения значения $x\\left(t_{i+1}\\right)$.\n",
    "\n",
    "Проинтегрируем уравнение на интервале $\\left[t_{i} ; t_{i+1}\\right]$ и получим соотношение:\n",
    "\n",
    "$$\n",
    "x\\left(t_{i+1}\\right)=x\\left(t_{i}\\right)+\\int_{t_{i}}^{t_{i+1}} f(t, x(t)) d t\n",
    "$$\n",
    "\n",
    "При вычислении интеграла вместо функции $f(t, x(t))$ будем использовать интерполяционный полином Лагранжа, построенный по точкам $\\left(t_{i-3}, x_{i-3}\\right),\\left(t_{i-2}, x_{i-2}\\right),\\left(t_{i-1}, x_{i-1}\\right),\\left(t_{i}, x_{i}\\right) .$ \n",
    "\n",
    "Подставив полином Лагранжа в интеграл, получаем первое приближение (прогноз) $\\tilde{t}_{ i + 1 }$ для значения функции в точке $t_{i+1}$\n",
    "\n",
    "$$ \\\\\n",
    "\\tilde{x}_{i+1}=x_{i}+\\frac{h}{24}\\left(-9 f\\left(t_{i-3}, x_{i-3}\\right)+37 f\\left(t_{i-2}, x_{i-2}\\right)-59 f\\left(t_{i-1}, x_{i-1}\\right)+55 f\\left(t_{i}, x_{i}\\right)\\right) .\n",
    "$$   \n",
    "\n",
    "Как только $\\widetilde{x}_{i+1}$ вычислено, его можно использовать. \n",
    "\n",
    "Следующий полином Лагранжа для функции $f(t, x(t))$ построим по точкам $\\left(t_{i-2}, x_{i-2}\\right),\\left(t_{i-1}, x_{i-1}\\right),\\left(t_{i}, x_{i}\\right)$ и новой точке $\\left(t_{i+1}, x_{i+1}\\right)$, после чего подставляем его и получаем второе приближение (корректор):\n",
    "\n",
    "$$\n",
    "x_{i+1}=x_{i}+\\frac{h}{24}\\left(f\\left(t_{i-2}, x_{i-2}\\right)-5 f\\left(t_{i-1}, x_{i-1}\\right)+19 f\\left(t_{i}, x_{i}\\right)+9 f\\left(t_{i+1}, \\tilde{x}_{i+1}\\right)\\right)\n",
    "$$\n",
    "\n",
    "Таким образом, для вычисления значения $x\\left(t_{i+1}\\right)$ методом Адамса необходимо последовательно применять формулы прогноза и коррекции, а первые четыре точки можно получить методом Рунге-Кутта."
   ]
  },
  {
   "cell_type": "markdown",
   "metadata": {
    "slideshow": {
     "slide_type": "fragment"
    }
   },
   "source": [
    "### Метод Милна\n",
    "\n",
    "Отличие метода Милна от метода Адамса состоит в том, что в качестве интерполяционного полинома используется полином Ньютона.\n",
    "\n",
    "Подставив вместо функции $f(t, x(t))$ интерполяционный полином Ньютона, построенный по точкам $\\left(t_{k-3}, x_{k-3}\\right),\\left(t_{k-2}, x_{k-2}\\right),\\left(t_{k-1}, x_{k-1}\\right),\\left(t_{k}, x_{k}\\right)$ получаем первое приближение - прогноз Милна $\\widetilde{x}_{k+1}$ для значения функции в точке $t_{k+1}$ :\n",
    "\n",
    "$$\n",
    "x_{k+1}=x_{k-3}+\\frac{4 h}{3}\\left(2 f\\left(t_{k-2}, x_{k-2}\\right)-f\\left(t_{k-1}, x_{k-1}\\right)+2 f\\left(t_{k}, x_{k}\\right)+2 f\\left(t_{k}, \\tilde{x}_{k}\\right)\\right) .\n",
    "$$\n",
    "\n",
    "Следующий полином Ньютона для функции $f(t, x(t))$ построим по точкам $\\left(t_{k-2}, x_{k-2}\\right),\\left(t_{k-1}, x_{k-1}\\right),\\left(t_{k}, x_{k}\\right)$ и новой точке $\\left(t_{k+1}, x_{k+1}\\right)$, после чего подставляем его и получаем второе приближение - корректор Милна:\n",
    "\n",
    "$$\n",
    "x_{k+1}=x_{k-1}+\\frac{h}{3}\\left(f\\left(t_{k-1}, x_{k-1}\\right)+4 f\\left(t_{k}, x_{k}\\right)+f\\left(t_{k+1}, \\tilde{x}_{k+1}\\right)\\right) \\cdot\n",
    "$$\n",
    "\n",
    "В методе Милна для вычисления значения $x\\left(t_{k+1}\\right)$ также необходимо последовательно применять формулы прогноза и коррекции, а первые четыре точки можно получить методом Рунге-Кутта.\n",
    "\n",
    "Существует модифицированный метод Милна. В нем сначала вычисляется первое приближение по формуле прогноза Милна, затем вычисляется управляющий параметр:\n",
    "\n",
    "$$\n",
    "m_{k+1}=\\tilde{x}_{k+1}+\\frac{28}{29}\\left(x_{k}-\\tilde{x}_{k}\\right)\n",
    "$$\n",
    "\n",
    "после чего вычисляется значение второго приближения - корректор Милна - по формуле:\n",
    "\n",
    "$$\n",
    "x_{k+1}=x_{k-1}+\\frac{h}{3}\\left(f\\left(t_{k-1}, x_{k-1}\\right)+4 f\\left(t_{k}, x_{k}\\right)+f\\left(t_{k+1}, m_{k+1}\\right)\\right)\n",
    "$$"
   ]
  },
  {
   "cell_type": "markdown",
   "metadata": {
    "slideshow": {
     "slide_type": "slide"
    }
   },
   "source": [
    "## Анализ многошаговых методов на устойчивость\n",
    "\n",
    "Пусть у нас есть произвольная многошаговая схема. Применим её для решения любимого модельного уравнения Далквиста $\\mathbf{x}^{\\prime}=\\lambda \\mathbf{x}$.\n",
    "\n",
    "В таком раскладе, многошаговая схема приводится к следующей форме:\n",
    "\n",
    "$$\n",
    "\\alpha_s \\mathbf{x}_{n+s}+\\ldots+\\alpha_0 \\mathbf{x}_n=\\mathbf{0}\n",
    "$$\n",
    "\n",
    "При этом коэффициенты $\\alpha_i$ - явные функции от $z=\\lambda \\cdot \\tau$.\n",
    "\n",
    "Представим решение как $\\mathbf{x}_i=\\mathbf{z} \\zeta^i$ и подставим его в общий вид :\n",
    "\n",
    "$$\n",
    "\\mathbf{z} \\zeta^n\\left(\\alpha_s \\zeta^s+\\ldots+\\alpha_0\\right)=\\mathbf{0}\n",
    "$$\n",
    "\n",
    "Отсюда $\\zeta$ должно удовлетворять так называемому характеристическому уравнению\n",
    "\n",
    "$$\n",
    "\\alpha_s \\zeta^s+\\ldots+\\alpha_0=0\n",
    "$$\n",
    "\n",
    "Исследование характеристического уравнения усложняется, когда у него имеются кратные корни кратности $m$. \n",
    "\n",
    "Таким образом, если характеристический многочлен имеет корни $\\zeta_1, \\ldots, \\zeta_l$ кратностей $m_1, \\ldots, m_l$ соответственно, то общее решение уравнения:\n",
    "\n",
    "$$\n",
    "\\mathbf{x}_n=\\mathbf{p}_1(n) \\zeta_1^n+\\ldots+\\mathbf{p}_l(n) \\zeta_l^n\n",
    "$$\n",
    "\n",
    "где $\\mathbf{p}_j(n)$ - многочлены степеней $\\boldsymbol{m}_j-\\mathbf{1}$, коэффициенты которых определяются из начальных условий. Поэтому для ограниченности решений $\\mathbf{x}_i$ необходимо потребовать:\n",
    "\n",
    "1) Корни кратности более единицы $\\zeta$ лежат внутри единичной окружности $(|\\zeta|<1)$,\n",
    "\n",
    "2)  Все корни на единичной окружности $(|\\zeta|=1)$ должны быть простыми.\n",
    "\n",
    "__Определение.__ Многошаговые методы, удовлетворяющие этим требованиям, называются __устойчивыми по Далквисту__ или __D-устойчивыми__.\n",
    "\n",
    "__Определение.__ __Областью (абсолютной) устойчивости__ назовём множество $S=\\left \\{z \\in \\mathbb{C}: \\; \\forall |\\zeta_i(z)| \\leq 1 \\right \\}$"
   ]
  },
  {
   "cell_type": "markdown",
   "metadata": {
    "slideshow": {
     "slide_type": "fragment"
    }
   },
   "source": [
    "### Пример исследования на устойчивость многошагового метода. (Не редактировано)\n",
    "\n",
    "Покажите, что метод ФДН 2-го порядка $\\frac{3 y_{l+1}-4 y_l+y_{l-1}}{2 h}=f\\left(x_{l+1}, y_{l+1}\\right)$  является $A$-устойчивым. \n",
    "\n",
    "**Решение.**\n",
    "\n",
    "Действуя, как и в случае методов Рунге-Кутты, получаем следующее уравнение для $\\Delta_l: \\frac{3 \\Delta_{l+1}-4 \\Delta_l+\\Delta_{l-1}}{2 h}=J \\Delta_{l+1}$. Подставляя $z=J h$, получим следующее линейное разностное уравнение: $3 \\Delta_{l+1}-4 \\Delta_l+\\Delta_{l-1}=2 z \\Delta_{l+1}$. Его общее решение (при $3-2 z \\neq 0$, что выполняется, так как нам интересна область $\\operatorname{Re}(z) \\leq 0$ ) равно $\\Delta_l=C_1 q_1^l+C_2 q_2^l$, если корни характеристического уравения $(3-2 z) q^2-4 q+1=0$ различны и $\\Delta_l=\\left(C_1+C_2 l\\right) q^l$, если корни кратные. Область устойчивости $S$ (где решение не возрастает при больших $l)$ - совокупность точек $z$, для которых все решения $\\left|q_i(z)\\right| \\leq 1$ ( $\\left|q_i(z)\\right|<1$ для кратных корней, что выполняется, т.к. $q_1=q_2=1 / 2$ при $z=-1 / 2)$. Вместо исследования неоднозначного отображения из комплексной плоскости $z$ в комплексную плоскость $q$ рассмотрим обратное (однозначное) отображение, задаваемое формулой $z=\\frac{3}{2}-\\frac{2}{q}+\\frac{1}{2 q^2}$. Внешность единичного круга в плоскости $q$ целиком отображается в правую полуплоскость $C^{+}$плоскости $z$. Действительно, при $q=\\rho e^{i \\varphi}, \\rho \\geq 1$, $\\varphi \\in[0,2 \\pi]$ имеем\n",
    "$$\n",
    "\\begin{aligned}\n",
    "& \\operatorname{Re}\\left(z\\left(\\rho e^{i \\varphi}\\right)\\right)=\\operatorname{Re}\\left(\\frac{3}{2}-\\frac{2}{\\rho e^{i \\varphi}}+\\frac{1}{2 \\rho^2 e^{2 i \\varphi}}\\right)=\\frac{3}{2}-\\frac{2}{\\rho} \\cos (\\varphi)+ \\\\\n",
    "& +\\frac{1}{2 \\rho}\\left(2 \\cos ^2(\\varphi)-1\\right)=\\left(1-\\frac{\\cos (\\varphi)}{\\rho}\\right)^2+\\frac{1}{2}\\left(1-\\frac{1}{\\rho^2}\\right) \\geq 0 .\n",
    "\\end{aligned}\n",
    "$$\n",
    "Значит, точки из левой полуплоскости плоскости $z$ при отображении в плоскость $q$ могут перейти только во внутренность единичного круга либо его границу, и схема $A$-устойчива."
   ]
  },
  {
   "cell_type": "code",
   "execution_count": null,
   "metadata": {},
   "outputs": [],
   "source": []
  }
 ],
 "metadata": {
  "anaconda-cloud": {},
  "celltoolbar": "Слайд-шоу",
  "colab": {
   "collapsed_sections": [],
   "name": "C_4 преобразование фурье.ipynb",
   "provenance": []
  },
  "kernelspec": {
   "display_name": "Python 3 (ipykernel)",
   "language": "python",
   "name": "python3"
  },
  "language_info": {
   "codemirror_mode": {
    "name": "ipython",
    "version": 3
   },
   "file_extension": ".py",
   "mimetype": "text/x-python",
   "name": "python",
   "nbconvert_exporter": "python",
   "pygments_lexer": "ipython3",
   "version": "3.9.7"
  },
  "livereveal": {
   "scroll": true,
   "theme": "simple",
   "transition": "convex"
  },
  "nbpresent": {
   "slides": {
    "1ffee25c-251f-4cbf-af3d-a1d5521081b9": {
     "id": "1ffee25c-251f-4cbf-af3d-a1d5521081b9",
     "prev": "eb43fa9f-eb7c-417b-ab1a-99371ff452e2",
     "regions": {
      "2e1a7b46-c253-4096-a0a5-dfbc6cfb086e": {
       "attrs": {
        "height": 0.8,
        "width": 0.8,
        "x": 0.1,
        "y": 0.1
       },
       "content": {
        "cell": "bf40e897-f1f8-4e69-b826-fe53fb761aad",
        "part": "whole"
       },
       "id": "2e1a7b46-c253-4096-a0a5-dfbc6cfb086e"
      }
     }
    },
    "37c43f64-6426-4a98-8de1-a6ca1dd72190": {
     "id": "37c43f64-6426-4a98-8de1-a6ca1dd72190",
     "prev": "d2b700ea-e44e-4bed-9ce4-ddf1532b44cb",
     "regions": {
      "45a20e24-b33f-4c55-8df2-e96075b5e2af": {
       "attrs": {
        "height": 0.8,
        "width": 0.8,
        "x": 0.1,
        "y": 0.1
       },
       "content": {
        "cell": "e730e690-97c9-4acd-bf81-4c5ab0bbd48e",
        "part": "whole"
       },
       "id": "45a20e24-b33f-4c55-8df2-e96075b5e2af"
      }
     }
    },
    "5bf0841a-23d1-413e-a557-911111e3e336": {
     "id": "5bf0841a-23d1-413e-a557-911111e3e336",
     "prev": "ebd3a807-2380-4bd6-8e58-c9424f3ed713",
     "regions": {
      "3c8adac9-5366-49e9-96ab-965c77e83485": {
       "attrs": {
        "height": 0.8,
        "width": 0.8,
        "x": 0.1,
        "y": 0.1
       },
       "content": {
        "cell": "2e08a439-2699-4ecf-9189-dfbbf745ad4e",
        "part": "whole"
       },
       "id": "3c8adac9-5366-49e9-96ab-965c77e83485"
      }
     }
    },
    "60ffd9bc-f20d-41e5-8771-5f11695177c6": {
     "id": "60ffd9bc-f20d-41e5-8771-5f11695177c6",
     "prev": "97575fe4-de27-4833-b616-7479f99519d0",
     "regions": {
      "807a955a-60c8-4f03-8734-54dfd52113d6": {
       "attrs": {
        "height": 0.8,
        "width": 0.8,
        "x": 0.1,
        "y": 0.1
       },
       "content": {
        "cell": "795c8121-f820-4edc-aeba-fc399b38f4b2",
        "part": "whole"
       },
       "id": "807a955a-60c8-4f03-8734-54dfd52113d6"
      }
     }
    },
    "623d8bc9-43df-451f-b862-76c2b54708ea": {
     "id": "623d8bc9-43df-451f-b862-76c2b54708ea",
     "prev": "eded54a5-7710-4ab6-8229-3ca4029d1ae7",
     "regions": {
      "42b1d4d4-2905-454b-b564-92f58dec8f81": {
       "attrs": {
        "height": 0.8,
        "width": 0.8,
        "x": 0.1,
        "y": 0.1
       },
       "content": {
        "cell": "16fd05b0-8ac8-4da2-8980-54d0d253d110",
        "part": "whole"
       },
       "id": "42b1d4d4-2905-454b-b564-92f58dec8f81"
      }
     }
    },
    "6dabcfe1-1c90-4893-8f01-c39e431f00bb": {
     "id": "6dabcfe1-1c90-4893-8f01-c39e431f00bb",
     "prev": "37c43f64-6426-4a98-8de1-a6ca1dd72190",
     "regions": {
      "1126b4c4-7df3-4db1-962b-abe099db9928": {
       "attrs": {
        "height": 0.8,
        "width": 0.8,
        "x": 0.1,
        "y": 0.1
       },
       "content": {
        "cell": "54519c05-1028-4e5c-a2d2-e21f821e99aa",
        "part": "whole"
       },
       "id": "1126b4c4-7df3-4db1-962b-abe099db9928"
      }
     }
    },
    "91753ba8-05fe-465f-806d-0faf4a21a031": {
     "id": "91753ba8-05fe-465f-806d-0faf4a21a031",
     "prev": "5bf0841a-23d1-413e-a557-911111e3e336",
     "regions": {
      "eb271beb-70d0-452e-b896-43695be4ae85": {
       "attrs": {
        "height": 0.8,
        "width": 0.8,
        "x": 0.1,
        "y": 0.1
       },
       "content": {
        "cell": "31cc3d04-22a5-4773-b4e1-abfb09f8bbc2",
        "part": "whole"
       },
       "id": "eb271beb-70d0-452e-b896-43695be4ae85"
      }
     }
    },
    "97575fe4-de27-4833-b616-7479f99519d0": {
     "id": "97575fe4-de27-4833-b616-7479f99519d0",
     "prev": "b8aebb38-1266-40c2-928a-026f9d33ec5c",
     "regions": {
      "01deb5d1-73e8-4d64-b93e-e7646647af3b": {
       "attrs": {
        "height": 0.8,
        "width": 0.8,
        "x": 0.1,
        "y": 0.1
       },
       "content": {
        "cell": "7f2bdffe-4f2a-446b-8805-d4fd262fced1",
        "part": "whole"
       },
       "id": "01deb5d1-73e8-4d64-b93e-e7646647af3b"
      }
     }
    },
    "9cc88d72-9ac9-4c24-96d5-abc94cea6e92": {
     "id": "9cc88d72-9ac9-4c24-96d5-abc94cea6e92",
     "prev": "1ffee25c-251f-4cbf-af3d-a1d5521081b9",
     "regions": {
      "78febecd-5100-493b-8f0d-0cc35ceae42e": {
       "attrs": {
        "height": 0.8,
        "width": 0.8,
        "x": 0.1,
        "y": 0.1
       },
       "content": {
        "cell": "bef00443-818c-4614-aa63-8a2e117462ec",
        "part": "whole"
       },
       "id": "78febecd-5100-493b-8f0d-0cc35ceae42e"
      }
     }
    },
    "a5df524d-67a8-4ae1-8258-9231728bdd14": {
     "id": "a5df524d-67a8-4ae1-8258-9231728bdd14",
     "prev": "623d8bc9-43df-451f-b862-76c2b54708ea",
     "regions": {
      "68e876ca-f943-4b2e-8268-439db992b310": {
       "attrs": {
        "height": 0.8,
        "width": 0.8,
        "x": 0.1,
        "y": 0.1
       },
       "content": {
        "cell": "40af6766-3ae3-4acc-8417-439eb8968553",
        "part": "whole"
       },
       "id": "68e876ca-f943-4b2e-8268-439db992b310"
      }
     }
    },
    "b62355d8-8b93-4dfc-8016-6548952c0f8c": {
     "id": "b62355d8-8b93-4dfc-8016-6548952c0f8c",
     "prev": "f59840cf-124e-4d10-8b89-3aafe98f38ba",
     "regions": {
      "381cc6bd-bde3-4d58-8277-99fbd69c7a4f": {
       "attrs": {
        "height": 0.8,
        "width": 0.8,
        "x": 0.1,
        "y": 0.1
       },
       "content": {
        "cell": "b92c1827-c799-44b9-b770-f45e95c917da",
        "part": "whole"
       },
       "id": "381cc6bd-bde3-4d58-8277-99fbd69c7a4f"
      }
     }
    },
    "b8aebb38-1266-40c2-928a-026f9d33ec5c": {
     "id": "b8aebb38-1266-40c2-928a-026f9d33ec5c",
     "prev": "9cc88d72-9ac9-4c24-96d5-abc94cea6e92",
     "regions": {
      "1bc2d24e-0782-443b-83a4-bc683c5ac6cb": {
       "attrs": {
        "height": 0.8,
        "width": 0.8,
        "x": 0.1,
        "y": 0.1
       },
       "content": {
        "cell": "cbb3d96a-fdd6-436e-86b6-1be446b43e84",
        "part": "whole"
       },
       "id": "1bc2d24e-0782-443b-83a4-bc683c5ac6cb"
      }
     }
    },
    "d2b700ea-e44e-4bed-9ce4-ddf1532b44cb": {
     "id": "d2b700ea-e44e-4bed-9ce4-ddf1532b44cb",
     "prev": "a5df524d-67a8-4ae1-8258-9231728bdd14",
     "regions": {
      "474bc80d-f262-4e62-afae-4565c0979e03": {
       "attrs": {
        "height": 0.8,
        "width": 0.8,
        "x": 0.1,
        "y": 0.1
       },
       "content": {
        "cell": "a67001a3-e51e-4a22-bdcd-249cde5581c1",
        "part": "whole"
       },
       "id": "474bc80d-f262-4e62-afae-4565c0979e03"
      }
     }
    },
    "d989978f-1d85-4802-953f-0e82f1a0fd51": {
     "id": "d989978f-1d85-4802-953f-0e82f1a0fd51",
     "prev": null,
     "regions": {
      "e3ddb97a-209b-4c70-91d7-df0cadcefb0d": {
       "attrs": {
        "height": 0.8,
        "width": 0.8,
        "x": 0.1,
        "y": 0.1
       },
       "content": {
        "cell": "13101ac1-2637-4d0f-9f1f-cd32215b02c3",
        "part": "whole"
       },
       "id": "e3ddb97a-209b-4c70-91d7-df0cadcefb0d"
      }
     }
    },
    "eb43fa9f-eb7c-417b-ab1a-99371ff452e2": {
     "id": "eb43fa9f-eb7c-417b-ab1a-99371ff452e2",
     "prev": "b62355d8-8b93-4dfc-8016-6548952c0f8c",
     "regions": {
      "b9415d21-f857-4a93-a788-c7dc51dedea0": {
       "attrs": {
        "height": 0.8,
        "width": 0.8,
        "x": 0.1,
        "y": 0.1
       },
       "content": {
        "cell": "e29b9590-fc86-46fd-83be-3ff48c7a8df4",
        "part": "whole"
       },
       "id": "b9415d21-f857-4a93-a788-c7dc51dedea0"
      }
     }
    },
    "ebd3a807-2380-4bd6-8e58-c9424f3ed713": {
     "id": "ebd3a807-2380-4bd6-8e58-c9424f3ed713",
     "prev": "f3fb61c6-f807-4942-8c41-0e80240a5146",
     "regions": {
      "7eaeb4e2-d47e-43e4-92c4-ed8cc1e9aac7": {
       "attrs": {
        "height": 0.8,
        "width": 0.8,
        "x": 0.1,
        "y": 0.1
       },
       "content": {
        "cell": "412353c7-42b2-42c7-8702-69568c809a97",
        "part": "whole"
       },
       "id": "7eaeb4e2-d47e-43e4-92c4-ed8cc1e9aac7"
      }
     }
    },
    "eded54a5-7710-4ab6-8229-3ca4029d1ae7": {
     "id": "eded54a5-7710-4ab6-8229-3ca4029d1ae7",
     "prev": "91753ba8-05fe-465f-806d-0faf4a21a031",
     "regions": {
      "816c3f73-4147-4cdb-b7d1-f5f82fa6003b": {
       "attrs": {
        "height": 0.8,
        "width": 0.8,
        "x": 0.1,
        "y": 0.1
       },
       "content": {
        "cell": "fa2d4b89-0d7a-41f1-8635-c5905d106cf3",
        "part": "whole"
       },
       "id": "816c3f73-4147-4cdb-b7d1-f5f82fa6003b"
      }
     }
    },
    "f3fb61c6-f807-4942-8c41-0e80240a5146": {
     "id": "f3fb61c6-f807-4942-8c41-0e80240a5146",
     "prev": "d989978f-1d85-4802-953f-0e82f1a0fd51",
     "regions": {
      "4f7abbfb-161b-44ce-bdab-05ef0b2a5542": {
       "attrs": {
        "height": 0.8,
        "width": 0.8,
        "x": 0.1,
        "y": 0.1
       },
       "content": {
        "cell": "8ce7bf3f-66e0-4462-a540-e87bceeadb7f",
        "part": "whole"
       },
       "id": "4f7abbfb-161b-44ce-bdab-05ef0b2a5542"
      }
     }
    },
    "f59840cf-124e-4d10-8b89-3aafe98f38ba": {
     "id": "f59840cf-124e-4d10-8b89-3aafe98f38ba",
     "prev": "6dabcfe1-1c90-4893-8f01-c39e431f00bb",
     "regions": {
      "e67fa4b9-f237-40ff-8621-fcdbfdd83101": {
       "attrs": {
        "height": 0.8,
        "width": 0.8,
        "x": 0.1,
        "y": 0.1
       },
       "content": {
        "cell": "4ae9a30c-81bc-4396-90d8-939a8e59f287",
        "part": "whole"
       },
       "id": "e67fa4b9-f237-40ff-8621-fcdbfdd83101"
      }
     }
    }
   },
   "themes": {
    "default": "c04eebe0-c348-41e9-bcfb-a65d4bd126df",
    "theme": {
     "c04eebe0-c348-41e9-bcfb-a65d4bd126df": {
      "id": "c04eebe0-c348-41e9-bcfb-a65d4bd126df",
      "palette": {
       "19cc588f-0593-49c9-9f4b-e4d7cc113b1c": {
        "id": "19cc588f-0593-49c9-9f4b-e4d7cc113b1c",
        "rgb": [
         252,
         252,
         252
        ]
       },
       "31af15d2-7e15-44c5-ab5e-e04b16a89eff": {
        "id": "31af15d2-7e15-44c5-ab5e-e04b16a89eff",
        "rgb": [
         68,
         68,
         68
        ]
       },
       "50f92c45-a630-455b-aec3-788680ec7410": {
        "id": "50f92c45-a630-455b-aec3-788680ec7410",
        "rgb": [
         155,
         177,
         192
        ]
       },
       "c5cc3653-2ee1-402a-aba2-7caae1da4f6c": {
        "id": "c5cc3653-2ee1-402a-aba2-7caae1da4f6c",
        "rgb": [
         43,
         126,
         184
        ]
       },
       "efa7f048-9acb-414c-8b04-a26811511a21": {
        "id": "efa7f048-9acb-414c-8b04-a26811511a21",
        "rgb": [
         25.118061674008803,
         73.60176211453744,
         107.4819383259912
        ]
       }
      },
      "rules": {
       "blockquote": {
        "color": "50f92c45-a630-455b-aec3-788680ec7410"
       },
       "code": {
        "font-family": "Anonymous Pro"
       },
       "h1": {
        "color": "c5cc3653-2ee1-402a-aba2-7caae1da4f6c",
        "font-family": "Lato",
        "font-size": 8
       },
       "h2": {
        "color": "c5cc3653-2ee1-402a-aba2-7caae1da4f6c",
        "font-family": "Lato",
        "font-size": 6
       },
       "h3": {
        "color": "50f92c45-a630-455b-aec3-788680ec7410",
        "font-family": "Lato",
        "font-size": 5.5
       },
       "h4": {
        "color": "c5cc3653-2ee1-402a-aba2-7caae1da4f6c",
        "font-family": "Lato",
        "font-size": 5
       },
       "h5": {
        "font-family": "Lato"
       },
       "h6": {
        "font-family": "Lato"
       },
       "h7": {
        "font-family": "Lato"
       },
       "pre": {
        "font-family": "Anonymous Pro",
        "font-size": 4
       }
      },
      "text-base": {
       "font-family": "Merriweather",
       "font-size": 4
      }
     },
     "f0b95bb9-67a7-4d14-bf09-657a5b556dbe": {
      "id": "f0b95bb9-67a7-4d14-bf09-657a5b556dbe",
      "palette": {
       "19cc588f-0593-49c9-9f4b-e4d7cc113b1c": {
        "id": "19cc588f-0593-49c9-9f4b-e4d7cc113b1c",
        "rgb": [
         252,
         252,
         252
        ]
       },
       "31af15d2-7e15-44c5-ab5e-e04b16a89eff": {
        "id": "31af15d2-7e15-44c5-ab5e-e04b16a89eff",
        "rgb": [
         68,
         68,
         68
        ]
       },
       "50f92c45-a630-455b-aec3-788680ec7410": {
        "id": "50f92c45-a630-455b-aec3-788680ec7410",
        "rgb": [
         155,
         177,
         192
        ]
       },
       "c5cc3653-2ee1-402a-aba2-7caae1da4f6c": {
        "id": "c5cc3653-2ee1-402a-aba2-7caae1da4f6c",
        "rgb": [
         43,
         126,
         184
        ]
       },
       "efa7f048-9acb-414c-8b04-a26811511a21": {
        "id": "efa7f048-9acb-414c-8b04-a26811511a21",
        "rgb": [
         25.118061674008803,
         73.60176211453744,
         107.4819383259912
        ]
       }
      },
      "rules": {
       "blockquote": {
        "color": "50f92c45-a630-455b-aec3-788680ec7410"
       },
       "code": {
        "font-family": "Anonymous Pro"
       },
       "h1": {
        "color": "c5cc3653-2ee1-402a-aba2-7caae1da4f6c",
        "font-family": "Lato",
        "font-size": 8
       },
       "h2": {
        "color": "c5cc3653-2ee1-402a-aba2-7caae1da4f6c",
        "font-family": "Lato",
        "font-size": 6
       },
       "h3": {
        "color": "50f92c45-a630-455b-aec3-788680ec7410",
        "font-family": "Lato",
        "font-size": 5.5
       },
       "h4": {
        "color": "c5cc3653-2ee1-402a-aba2-7caae1da4f6c",
        "font-family": "Lato",
        "font-size": 5
       },
       "h5": {
        "font-family": "Lato"
       },
       "h6": {
        "font-family": "Lato"
       },
       "h7": {
        "font-family": "Lato"
       },
       "pre": {
        "font-family": "Anonymous Pro",
        "font-size": 4
       }
      },
      "text-base": {
       "font-family": "Merriweather",
       "font-size": 4
      }
     }
    }
   }
  }
 },
 "nbformat": 4,
 "nbformat_minor": 1
}
