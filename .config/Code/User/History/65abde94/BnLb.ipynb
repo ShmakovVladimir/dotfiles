{
 "cells": [
  {
   "cell_type": "markdown",
   "id": "5a989144",
   "metadata": {},
   "source": [
    "## Контрольная работа 4 Вариант 4"
   ]
  },
  {
   "cell_type": "markdown",
   "id": "6f36ebf3",
   "metadata": {},
   "source": [
    "### Задача 1 Численное дифференцирование (1.5 балла)\n",
    "\n",
    "Вычислить градиент, используя numpy функцию gradient:\n",
    "\n",
    "- Построить функцию $f(x)=x \\cdot e^{-x^2-y^2} \\quad$ в области $[-2,2] \\times[-2,2]$ с шагом $h_x=0.1 \\quad$ и $h_y=0.1$\n",
    "- Вычислить градиент и изобразить его на том же самом графике (как векторное поле)\n",
    "- Вычислить погрешность относительно аналитической производной, используя np.linalg.norm.\n",
    "\n",
    ">__Примечание.__ Векторное поле можно построить по аналогии с этим кодом:\n",
    "\n",
    ">`x,y = np.meshgrid(np.linspace(-5,5,10),np.linspace(-5,5,10))`\n",
    ">\n",
    ">`u = -x/np.sqrt(x\\**2 + y\\**2)`\n",
    ">\n",
    ">`v = y/np.sqrt(x\\**2 + y\\**2)`\n",
    ">\n",
    ">`plt.quiver(x,y,u,v)`\n",
    ">\n",
    ">`plt.show()`"
   ]
  },
  {
   "cell_type": "markdown",
   "id": "386dccb3",
   "metadata": {},
   "source": [
    "### Задача 2  Численное интегрирование (4 балла)\n",
    "\n",
    "Вычислить интеграл от осциллирующей функции с точностью $10^{-6}$ (Оценивать точность алгоритмом Рунге):\n",
    "\n",
    "a) $\\int_0^1 \\frac{\\sin 100 x d x}{1+x}$,\n",
    "\n",
    "б) $\\int_1^2 \\cos 100 x \\ln x d x$.\n"
   ]
  },
  {
   "cell_type": "markdown",
   "id": "e88d2a95",
   "metadata": {},
   "source": [
    "### Задача 3  Интерполяция (2 балла)\n",
    "\n",
    "(Т. К. Старожилова) При исследовании некоторой химической реакции через каждые 2 секунды измерялась температура смеси. Результаты измерений представлены в таблице.\n",
    "\n",
    "| $t, \\mathrm{c}$ | 5 | 7 | 9 | 11 | 13 | 15 | 17 | 19 | 21 |\n",
    "| :--- | :--- | :--- | :--- | :--- | :--- | :--- | :--- | :--- | :--- |\n",
    "| $T, \\mathrm{~K}$ | 296 | 520 | 744 | 982 | 1248 | 1570 | 2256 | 2256 | 2256 |\n",
    "\n",
    "С помощью сплайн-интерполяции найти $t^*$, при котором производная $d T / d t$ максимальна. Построить график интерполяции и удостовериться, что сплайн \"не колеблется\".\n"
   ]
  },
  {
   "cell_type": "code",
   "execution_count": 2,
   "id": "870de78d",
   "metadata": {},
   "outputs": [],
   "source": [
    "import numpy as np \n",
    "import matplotlib.pyplot as plt \n",
    "from scipy import interpolate"
   ]
  },
  {
   "cell_type": "code",
   "execution_count": 9,
   "id": "4a81899e",
   "metadata": {},
   "outputs": [
    {
     "data": {
      "text/plain": [
       "<matplotlib.collections.PathCollection at 0x7f3e88b012b0>"
      ]
     },
     "execution_count": 9,
     "metadata": {},
     "output_type": "execute_result"
    },
    {
     "data": {
      "image/png": "[encoded data removed]",
      "text/plain": [
       "<Figure size 640x480 with 1 Axes>"
      ]
     },
     "metadata": {},
     "output_type": "display_data"
    }
   ],
   "source": [
    "T = [296, 520, 744, 982, 1248, 1570, 2256, 2256, 2256]\n",
    "t = [5, 7, 9, 11, 13, 15, 17, 19, 21]\n",
    "interp = interpolate.UnivariateSpline(t, T, s = 1000)\n",
    "t_line = np.linspace(np.min(t) - 1, np.max(t) + 1, 100)\n",
    "T_interp = interp(t_line)\n",
    "interpolation_derivative = -np.roll(T_interp, -1) / 2 + np.roll(T_interp, 1) / 2\n",
    "t_line_deriv, interpolation_derivative = t_line[1:-1], interpolation_derivative[1, :-1]\n",
    "plt.plot(t_line, T_interp)\n",
    "plt.scatter(t, T)"
   ]
  },
  {
   "cell_type": "code",
   "execution_count": null,
   "id": "431e5602",
   "metadata": {},
   "outputs": [],
   "source": []
  },
  {
   "cell_type": "markdown",
   "id": "0ffe7ce4",
   "metadata": {},
   "source": [
    "### Задача 4  Ряды (1 балл)\n",
    "\n",
    "Вычислить сумму ряда\n",
    "\n",
    "$$\n",
    "\\sum_{n=1}^{\\infty} \\frac{1}{n(n-1)-3^{-n}}\n",
    "$$\n",
    "\n",
    "с точностью $\\varepsilon=10^{-6}$. Обоснуйте, почему исходная точность достигнута."
   ]
  },
  {
   "cell_type": "markdown",
   "id": "530228af",
   "metadata": {},
   "source": [
    "### Задача 5  Дискретное преобразование Фурье (1.5 балла)\n",
    "\n",
    "Построить графики дискретного преобразования Фурье для\n",
    "\n",
    "$$\n",
    "x(k)=\\left\\{\\begin{array}{c}\n",
    "\\cos \\left(\\frac{2 \\pi}{N} k\\right) + \\mathcal{N}(\\sigma, 0), \\quad 0 \\leq k \\leq N-1, \\\\\n",
    "0, \\quad \\text { при других } k .\n",
    "\\end{array}\\right.\n",
    "$$\n",
    "\n",
    "при $N=128$ и $\\sigma$ в промежутке от 0 до 0.5. Как изменяется картина спектра?\n",
    "\n",
    "$\\mathcal{N}(\\sigma, 0)$ - гауссов шум с дисперсией $\\sigma^2$.\n"
   ]
  }
 ],
 "metadata": {
  "kernelspec": {
   "display_name": "Python 3 (ipykernel)",
   "language": "python",
   "name": "python3"
  },
  "language_info": {
   "codemirror_mode": {
    "name": "ipython",
    "version": 3
   },
   "file_extension": ".py",
   "mimetype": "text/x-python",
   "name": "python",
   "nbconvert_exporter": "python",
   "pygments_lexer": "ipython3",
   "version": "3.12.2"
  }
 },
 "nbformat": 4,
 "nbformat_minor": 5
}
